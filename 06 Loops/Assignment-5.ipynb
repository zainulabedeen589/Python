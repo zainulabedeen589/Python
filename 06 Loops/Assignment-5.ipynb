{
 "cells": [
  {
   "cell_type": "markdown",
   "id": "12a9ebfe",
   "metadata": {},
   "source": [
    "<center> <h1 style= \"color:red\"> Assignments-5 </h1> </center>\n",
    "\n",
    "<center> <h2 style= \"color:orange\"> Loops </h2> </center>"
   ]
  },
  {
   "cell_type": "markdown",
   "id": "901047e1",
   "metadata": {},
   "source": [
    "<center> <h2 style= \"color:orange\"> Basic Lavel </h2> </center>\n",
    "\n",
    "1. Print all elements of a list using a for loop. \n",
    "2. Print all characters of a string using a for loop. \n",
    "3. Use a while loop to print numbers from 1 to 10. \n",
    "4. Use break to exit a loop when number is divisible by 7. \n",
    "5. Use continue to skip printing even numbers from 1 to 10. \n",
    "6. Use pass as a placeholder in a for loop with a condition. \n",
    "7. Print numbers 1 to 5 and use else after the loop to print 'Done'. \n",
    "8. Find the sum of all elements in a list using a loop. \n",
    "9. Count how many numbers in a list are greater than 10. \n",
    "10. Use enumerate to print index and value of a list of names. \n",
    "11. Zip two lists (names and marks) and print name with mark. \n",
    "12. Reverse a string using a loop and print the result. \n",
    "13. Sort a list of numbers using sorted() and print. \n",
    "14. Print all keys and values of a dictionary using loop. \n",
    "15. Create a 3x3 matrix and print each element using nested loops. \n",
    "16. Print only vowels from a given string using for loop and continue. \n",
    "17. Write a while loop that continues until user types 'exit'. \n",
    "18. Print all even numbers from 1 to 50 using a while loop. \n",
    "19. Use loop with else to search an element in a list. \n",
    "20. Use zip() to combine three lists: names, scores, and ages. \n",
    "21. Write a program to print the factorial of a number using while loop. \n",
    "22. Use nested for loop to generate multiplication table (1-5). \n",
    "23. Create a dictionary of students and their scores, print passed students (score>=50). \n",
    "24. Print list items in reverse using reversed() in a loop. \n",
    "25. Sort a dictionary by its values and print key-value pairs. \n",
    "26. Flatten a nested list using nested loops. \n",
    "27. Find maximum and minimum in a list using loop (not built-in max/min). \n",
    "28. Print all words from a string that start with vowel using loop idiom. \n",
    "29. Count occurrences of a character in string using loop. \n",
    "30. Print a square pattern of '*' of size 4x4: \n",
    "Output: \n",
    "\n",
    "```txt\n",
    "**** \n",
    "**** \n",
    "**** \n",
    "**** \n",
    "```\n",
    "\n",
    " 31. Print a right-angled triangle pattern:\n",
    "\n",
    "```txt\n",
    "* \n",
    "** \n",
    "*** \n",
    "**** \n",
    "```\n",
    "\n",
    " 32. Print a pyramid pattern: \n",
    "\n",
    "```txt\n",
    "   * \n",
    "  *** \n",
    " ***** \n",
    "******* \n",
    "```\n",
    "\n",
    " 33. Print an inverted pyramid pattern: \n",
    " \n",
    "```txt\n",
    " ******* \n",
    "  ***** \n",
    "   *** \n",
    "    * \n",
    "```\n",
    " \n",
    " 34. Write a loop to check if a string is a palindrome. \n",
    " 35. Use loop with zip and condition to print matched elements only. \n",
    " 36. Print prime numbers between 1 to 100 using for-else logic. \n",
    " 37. Generate Fibonacci series using while loop until 100. \n",
    " 38. Use enumerate with condition to filter and print only odd indexed elements. \n",
    " 39. Print multiplication tables from 1 to 10 using nested loops. \n",
    " 40. Sort a list of tuples based on second element using sorted(). \n",
    " 41. Write a program to count frequency of each word in a string using dict and loop. \n",
    " 42. Generate pattern:\n",
    "\n",
    "```txt\n",
    "1 \n",
    "22 \n",
    "333 \n",
    "4444 \n",
    "```\n",
    " \n",
    " 43. Print hollow square pattern: \n",
    "\n",
    "```txt\n",
    "***** \n",
    "*   * \n",
    "*   * \n",
    "***** \n",
    "```\n",
    "\n",
    "44. Reverse a list using while loop without using reversed() or slicing. \n",
    "45. Merge multiple lists using zip and display all combinations. \n",
    "46. Print a diamond pattern: \n",
    "\n",
    "```txt\n",
    "* \n",
    "*** \n",
    "***** \n",
    "*** \n",
    "*\n",
    "```\n",
    "\n",
    "47. Loop through a matrix and print its transpose. \n",
    "48. Use nested dictionaries and loops to display subject-wise marks of each student. \n",
    "49. Implement bubble sort using nested loops and print each pass. \n",
    "50. Given a matrix, calculate its row-wise and column-wise sum using nested loops."
   ]
  },
  {
   "cell_type": "code",
   "execution_count": 1,
   "id": "6abda926",
   "metadata": {},
   "outputs": [
    {
     "name": "stdout",
     "output_type": "stream",
     "text": [
      "1\n",
      "2\n",
      "3\n",
      "4\n",
      "5\n"
     ]
    }
   ],
   "source": [
    "# 1. Print all elements of a list using a for loop\n",
    "numbers = [1, 2, 3, 4, 5]\n",
    "for num in numbers:\n",
    "    print(num)"
   ]
  },
  {
   "cell_type": "code",
   "execution_count": 2,
   "id": "ed05d91d",
   "metadata": {},
   "outputs": [
    {
     "name": "stdout",
     "output_type": "stream",
     "text": [
      "P\n",
      "y\n",
      "t\n",
      "h\n",
      "o\n",
      "n\n"
     ]
    }
   ],
   "source": [
    "# 2. Print all characters of a string using a for loop\n",
    "text = \"Python\"\n",
    "for char in text:\n",
    "    print(char)"
   ]
  },
  {
   "cell_type": "code",
   "execution_count": 3,
   "id": "95321ef9",
   "metadata": {},
   "outputs": [
    {
     "name": "stdout",
     "output_type": "stream",
     "text": [
      "1\n",
      "2\n",
      "3\n",
      "4\n",
      "5\n",
      "6\n",
      "7\n",
      "8\n",
      "9\n",
      "10\n"
     ]
    }
   ],
   "source": [
    "# 3. Use a while loop to print numbers from 1 to 10\n",
    "i = 1\n",
    "while i <= 10:\n",
    "    print(i)\n",
    "    i += 1"
   ]
  },
  {
   "cell_type": "code",
   "execution_count": 4,
   "id": "c0607b39",
   "metadata": {},
   "outputs": [
    {
     "name": "stdout",
     "output_type": "stream",
     "text": [
      "First multiple of 7: 7\n"
     ]
    }
   ],
   "source": [
    "# 4. Use break to exit a loop when number is divisible by 7\n",
    "for num in range(1, 100):\n",
    "    if num % 7 == 0:\n",
    "        print(\"First multiple of 7:\", num)\n",
    "        break"
   ]
  },
  {
   "cell_type": "code",
   "execution_count": 5,
   "id": "ac49feb7",
   "metadata": {},
   "outputs": [
    {
     "name": "stdout",
     "output_type": "stream",
     "text": [
      "1\n",
      "3\n",
      "5\n",
      "7\n",
      "9\n"
     ]
    }
   ],
   "source": [
    "# 5. Use continue to skip printing even numbers from 1 to 10\n",
    "for num in range(1, 11):\n",
    "    if num % 2 == 0:\n",
    "        continue\n",
    "    print(num)"
   ]
  },
  {
   "cell_type": "code",
   "execution_count": 6,
   "id": "db1d97c7",
   "metadata": {},
   "outputs": [
    {
     "name": "stdout",
     "output_type": "stream",
     "text": [
      "1\n",
      "2\n",
      "4\n",
      "5\n"
     ]
    }
   ],
   "source": [
    "# 6. Use pass as a placeholder in a for loop with a condition\n",
    "for num in range(1, 6):\n",
    "    if num == 3:\n",
    "        pass  # Placeholder to be implemented later\n",
    "    else:\n",
    "        print(num)"
   ]
  },
  {
   "cell_type": "code",
   "execution_count": 7,
   "id": "7bbc6a80",
   "metadata": {},
   "outputs": [
    {
     "name": "stdout",
     "output_type": "stream",
     "text": [
      "1\n",
      "2\n",
      "3\n",
      "4\n",
      "5\n",
      "Done\n"
     ]
    }
   ],
   "source": [
    "# 7. Print numbers 1 to 5 and use else after the loop to print 'Done'\n",
    "for num in range(1, 6):\n",
    "    print(num)\n",
    "else:\n",
    "    print(\"Done\")"
   ]
  },
  {
   "cell_type": "code",
   "execution_count": 8,
   "id": "849911c0",
   "metadata": {},
   "outputs": [
    {
     "name": "stdout",
     "output_type": "stream",
     "text": [
      "Sum: 26\n"
     ]
    }
   ],
   "source": [
    "# 8. Find the sum of all elements in a list using a loop\n",
    "numbers = [3, 7, 2, 9, 5]\n",
    "total = 0\n",
    "for num in numbers:\n",
    "    total += num\n",
    "print(\"Sum:\", total)"
   ]
  },
  {
   "cell_type": "code",
   "execution_count": 9,
   "id": "ab213437",
   "metadata": {},
   "outputs": [
    {
     "name": "stdout",
     "output_type": "stream",
     "text": [
      "Count: 3\n"
     ]
    }
   ],
   "source": [
    "# 9. Count how many numbers in a list are greater than 10\n",
    "numbers = [5, 11, 20, 3, 15]\n",
    "count = 0\n",
    "for num in numbers:\n",
    "    if num > 10:\n",
    "        count += 1\n",
    "print(\"Count:\", count)"
   ]
  },
  {
   "cell_type": "code",
   "execution_count": 10,
   "id": "f1179311",
   "metadata": {},
   "outputs": [
    {
     "name": "stdout",
     "output_type": "stream",
     "text": [
      "0 Alice\n",
      "1 Bob\n",
      "2 Charlie\n"
     ]
    }
   ],
   "source": [
    "# 10. Use enumerate to print index and value of a list of names\n",
    "names = [\"Alice\", \"Bob\", \"Charlie\"]\n",
    "for index, name in enumerate(names):\n",
    "    print(index, name)"
   ]
  },
  {
   "cell_type": "code",
   "execution_count": 11,
   "id": "a3d839eb",
   "metadata": {},
   "outputs": [
    {
     "name": "stdout",
     "output_type": "stream",
     "text": [
      "Alice : 85\n",
      "Bob : 92\n",
      "Charlie : 78\n"
     ]
    }
   ],
   "source": [
    "# 11. Zip two lists (names and marks) and print name with mark\n",
    "names = [\"Alice\", \"Bob\", \"Charlie\"]\n",
    "marks = [85, 92, 78]\n",
    "for name, mark in zip(names, marks):\n",
    "    print(name, \":\", mark)"
   ]
  },
  {
   "cell_type": "code",
   "execution_count": 12,
   "id": "ab90ced2",
   "metadata": {},
   "outputs": [
    {
     "name": "stdout",
     "output_type": "stream",
     "text": [
      "nohtyP\n"
     ]
    }
   ],
   "source": [
    "# 12. Reverse a string using a loop and print the result\n",
    "text = \"Python\"\n",
    "reversed_text = \"\"\n",
    "for char in text:\n",
    "    reversed_text = char + reversed_text\n",
    "print(reversed_text)"
   ]
  },
  {
   "cell_type": "code",
   "execution_count": 13,
   "id": "262be0e4",
   "metadata": {},
   "outputs": [
    {
     "name": "stdout",
     "output_type": "stream",
     "text": [
      "[1, 2, 4, 7, 9]\n"
     ]
    }
   ],
   "source": [
    "# 13. Sort a list of numbers using sorted() and print\n",
    "numbers = [7, 2, 9, 4, 1]\n",
    "print(sorted(numbers))"
   ]
  },
  {
   "cell_type": "code",
   "execution_count": 14,
   "id": "619dd3ca",
   "metadata": {},
   "outputs": [
    {
     "name": "stdout",
     "output_type": "stream",
     "text": [
      "Alice : 85\n",
      "Bob : 92\n",
      "Charlie : 78\n"
     ]
    }
   ],
   "source": [
    "# 14. Print all keys and values of a dictionary using loop\n",
    "student_scores = {\"Alice\": 85, \"Bob\": 92, \"Charlie\": 78}\n",
    "for key, value in student_scores.items():\n",
    "    print(key, \":\", value)"
   ]
  },
  {
   "cell_type": "code",
   "execution_count": 15,
   "id": "46db39bf",
   "metadata": {},
   "outputs": [
    {
     "name": "stdout",
     "output_type": "stream",
     "text": [
      "1 2 3 \n",
      "4 5 6 \n",
      "7 8 9 \n"
     ]
    }
   ],
   "source": [
    "# 15. Create a 3x3 matrix and print each element using nested loops\n",
    "matrix = [[1, 2, 3], [4, 5, 6], [7, 8, 9]]\n",
    "for row in matrix:\n",
    "    for element in row:\n",
    "        print(element, end=\" \")\n",
    "    print()"
   ]
  },
  {
   "cell_type": "code",
   "execution_count": 16,
   "id": "c742300d",
   "metadata": {},
   "outputs": [
    {
     "name": "stdout",
     "output_type": "stream",
     "text": [
      "e u a i o "
     ]
    }
   ],
   "source": [
    "# 16. Print only vowels from a given string using for loop and continue\n",
    "text = \"education\"\n",
    "for char in text:\n",
    "    if char.lower() in \"aeiou\":\n",
    "        print(char, end=\" \")"
   ]
  },
  {
   "cell_type": "code",
   "execution_count": 17,
   "id": "ce85ce10",
   "metadata": {},
   "outputs": [],
   "source": [
    "# 17. Write a while loop that continues until user types 'exit'\n",
    "while True:\n",
    "    user_input = input(\"Enter something (type 'exit' to stop): \")\n",
    "    if user_input.lower() == \"exit\":\n",
    "        break"
   ]
  },
  {
   "cell_type": "code",
   "execution_count": 18,
   "id": "5f79376d",
   "metadata": {},
   "outputs": [
    {
     "name": "stdout",
     "output_type": "stream",
     "text": [
      "2 4 6 8 10 12 14 16 18 20 22 24 26 28 30 32 34 36 38 40 42 44 46 48 50 "
     ]
    }
   ],
   "source": [
    "# 18. Print all even numbers from 1 to 50 using a while loop\n",
    "i = 1\n",
    "while i <= 50:\n",
    "    if i % 2 == 0:\n",
    "        print(i, end=\" \")\n",
    "    i += 1"
   ]
  },
  {
   "cell_type": "code",
   "execution_count": 19,
   "id": "32eda58a",
   "metadata": {},
   "outputs": [
    {
     "name": "stdout",
     "output_type": "stream",
     "text": [
      "Found 7\n"
     ]
    }
   ],
   "source": [
    "# 19. Use loop with else to search an element in a list\n",
    "numbers = [3, 7, 2, 9, 5]\n",
    "search = 7\n",
    "for num in numbers:\n",
    "    if num == search:\n",
    "        print(\"Found\", search)\n",
    "        break\n",
    "else:\n",
    "    print(\"Not found\")"
   ]
  },
  {
   "cell_type": "code",
   "execution_count": 20,
   "id": "2c098ab6",
   "metadata": {},
   "outputs": [
    {
     "name": "stdout",
     "output_type": "stream",
     "text": [
      "Alice 85 20\n",
      "Bob 92 22\n",
      "Charlie 78 19\n"
     ]
    }
   ],
   "source": [
    "# 20. Use zip() to combine three lists: names, scores, and ages\n",
    "names = [\"Alice\", \"Bob\", \"Charlie\"]\n",
    "scores = [85, 92, 78]\n",
    "ages = [20, 22, 19]\n",
    "for name, score, age in zip(names, scores, ages):\n",
    "    print(name, score, age)"
   ]
  },
  {
   "cell_type": "code",
   "execution_count": 21,
   "id": "f22e7907",
   "metadata": {},
   "outputs": [
    {
     "name": "stdout",
     "output_type": "stream",
     "text": [
      "Factorial: 120\n"
     ]
    }
   ],
   "source": [
    "# 21. Write a program to print the factorial of a number using while loop\n",
    "num = 5\n",
    "fact = 1\n",
    "while num > 0:\n",
    "    fact *= num\n",
    "    num -= 1\n",
    "print(\"Factorial:\", fact)"
   ]
  },
  {
   "cell_type": "code",
   "execution_count": 22,
   "id": "29e7a0a2",
   "metadata": {},
   "outputs": [
    {
     "name": "stdout",
     "output_type": "stream",
     "text": [
      "1 x 1 = 1\n",
      "1 x 2 = 2\n",
      "1 x 3 = 3\n",
      "1 x 4 = 4\n",
      "1 x 5 = 5\n",
      "1 x 6 = 6\n",
      "1 x 7 = 7\n",
      "1 x 8 = 8\n",
      "1 x 9 = 9\n",
      "1 x 10 = 10\n",
      "\n",
      "2 x 1 = 2\n",
      "2 x 2 = 4\n",
      "2 x 3 = 6\n",
      "2 x 4 = 8\n",
      "2 x 5 = 10\n",
      "2 x 6 = 12\n",
      "2 x 7 = 14\n",
      "2 x 8 = 16\n",
      "2 x 9 = 18\n",
      "2 x 10 = 20\n",
      "\n",
      "3 x 1 = 3\n",
      "3 x 2 = 6\n",
      "3 x 3 = 9\n",
      "3 x 4 = 12\n",
      "3 x 5 = 15\n",
      "3 x 6 = 18\n",
      "3 x 7 = 21\n",
      "3 x 8 = 24\n",
      "3 x 9 = 27\n",
      "3 x 10 = 30\n",
      "\n",
      "4 x 1 = 4\n",
      "4 x 2 = 8\n",
      "4 x 3 = 12\n",
      "4 x 4 = 16\n",
      "4 x 5 = 20\n",
      "4 x 6 = 24\n",
      "4 x 7 = 28\n",
      "4 x 8 = 32\n",
      "4 x 9 = 36\n",
      "4 x 10 = 40\n",
      "\n",
      "5 x 1 = 5\n",
      "5 x 2 = 10\n",
      "5 x 3 = 15\n",
      "5 x 4 = 20\n",
      "5 x 5 = 25\n",
      "5 x 6 = 30\n",
      "5 x 7 = 35\n",
      "5 x 8 = 40\n",
      "5 x 9 = 45\n",
      "5 x 10 = 50\n",
      "\n"
     ]
    }
   ],
   "source": [
    "# 22. Use nested for loop to generate multiplication table (1-5)\n",
    "for i in range(1, 6):\n",
    "    for j in range(1, 11):\n",
    "        print(f\"{i} x {j} =\", i * j)\n",
    "    print()"
   ]
  },
  {
   "cell_type": "code",
   "execution_count": 23,
   "id": "1667cf10",
   "metadata": {},
   "outputs": [
    {
     "name": "stdout",
     "output_type": "stream",
     "text": [
      "Alice Passed\n",
      "Charlie Passed\n"
     ]
    }
   ],
   "source": [
    "# 23. Create a dictionary of students and their scores, print passed students (score >= 50)\n",
    "students = {\"Alice\": 85, \"Bob\": 45, \"Charlie\": 78}\n",
    "for student, score in students.items():\n",
    "    if score >= 50:\n",
    "        print(student, \"Passed\")"
   ]
  },
  {
   "cell_type": "code",
   "execution_count": 24,
   "id": "2b53359a",
   "metadata": {},
   "outputs": [
    {
     "name": "stdout",
     "output_type": "stream",
     "text": [
      "5\n",
      "4\n",
      "3\n",
      "2\n",
      "1\n"
     ]
    }
   ],
   "source": [
    "# 24. Print list items in reverse using reversed() in a loop\n",
    "numbers = [1, 2, 3, 4, 5]\n",
    "for num in reversed(numbers):\n",
    "    print(num)"
   ]
  },
  {
   "cell_type": "code",
   "execution_count": 25,
   "id": "d9b273fe",
   "metadata": {},
   "outputs": [
    {
     "name": "stdout",
     "output_type": "stream",
     "text": [
      "Bob 45\n",
      "Charlie 78\n",
      "Alice 85\n"
     ]
    }
   ],
   "source": [
    "# 25. Sort a dictionary by its values and print key-value pairs\n",
    "students = {\"Alice\": 85, \"Bob\": 45, \"Charlie\": 78}\n",
    "sorted_students = sorted(students.items(), key=lambda x: x[1])\n",
    "for key, value in sorted_students:\n",
    "    print(key, value)"
   ]
  },
  {
   "cell_type": "code",
   "execution_count": 26,
   "id": "826d4040",
   "metadata": {},
   "outputs": [
    {
     "name": "stdout",
     "output_type": "stream",
     "text": [
      "[1, 2, 3, 4, 5, 6]\n"
     ]
    }
   ],
   "source": [
    "# 26. Flatten a nested list using nested loops\n",
    "nested_list = [[1, 2], [3, 4], [5, 6]]\n",
    "flat_list = []\n",
    "for sublist in nested_list:\n",
    "    for item in sublist:\n",
    "        flat_list.append(item)\n",
    "print(flat_list)"
   ]
  },
  {
   "cell_type": "code",
   "execution_count": 27,
   "id": "1f9cdf14",
   "metadata": {},
   "outputs": [
    {
     "name": "stdout",
     "output_type": "stream",
     "text": [
      "Max: 9 Min: 1\n"
     ]
    }
   ],
   "source": [
    "# 27. Find maximum and minimum in a list using loop (not built-in max/min)\n",
    "numbers = [7, 2, 9, 4, 1]\n",
    "max_num = numbers[0]\n",
    "min_num = numbers[0]\n",
    "for num in numbers:\n",
    "    if num > max_num:\n",
    "        max_num = num\n",
    "    if num < min_num:\n",
    "        min_num = num\n",
    "print(\"Max:\", max_num, \"Min:\", min_num)"
   ]
  },
  {
   "cell_type": "code",
   "execution_count": 28,
   "id": "8b4a3ac5",
   "metadata": {},
   "outputs": [
    {
     "name": "stdout",
     "output_type": "stream",
     "text": [
      "apple\n",
      "orange\n",
      "elephant\n"
     ]
    }
   ],
   "source": [
    "# 28. Print all words from a string that start with vowel using loop idiom\n",
    "sentence = \"apple banana orange elephant dog\"\n",
    "words = sentence.split()\n",
    "for word in words:\n",
    "    if word[0].lower() in \"aeiou\":\n",
    "        print(word)"
   ]
  },
  {
   "cell_type": "code",
   "execution_count": 29,
   "id": "d82158b4",
   "metadata": {},
   "outputs": [
    {
     "name": "stdout",
     "output_type": "stream",
     "text": [
      "{'M': 1, 'i': 4, 's': 4, 'p': 2}\n"
     ]
    }
   ],
   "source": [
    "# 29. Count occurrences of a character in string using loop\n",
    "text = \"Mississippi\"\n",
    "char_count = {}\n",
    "for char in text:\n",
    "    char_count[char] = char_count.get(char, 0) + 1\n",
    "print(char_count)"
   ]
  },
  {
   "cell_type": "code",
   "execution_count": 30,
   "id": "f802feda",
   "metadata": {},
   "outputs": [
    {
     "name": "stdout",
     "output_type": "stream",
     "text": [
      "****\n",
      "****\n",
      "****\n",
      "****\n"
     ]
    }
   ],
   "source": [
    "# 30. Print a square pattern of '*' of size 4x4\n",
    "size = 4\n",
    "for _ in range(size):\n",
    "    print('*' * size)"
   ]
  },
  {
   "cell_type": "code",
   "execution_count": 31,
   "id": "6a782d83",
   "metadata": {},
   "outputs": [
    {
     "name": "stdout",
     "output_type": "stream",
     "text": [
      "*\n",
      "**\n",
      "***\n",
      "****\n"
     ]
    }
   ],
   "source": [
    "# 31. Print a right-angled triangle pattern\n",
    "size = 4\n",
    "for i in range(1, size + 1):\n",
    "    print('*' * i)"
   ]
  },
  {
   "cell_type": "code",
   "execution_count": 32,
   "id": "bac78769",
   "metadata": {},
   "outputs": [
    {
     "name": "stdout",
     "output_type": "stream",
     "text": [
      "   *\n",
      "  ***\n",
      " *****\n",
      "*******\n"
     ]
    }
   ],
   "source": [
    "# 32. Print a pyramid pattern\n",
    "size = 4\n",
    "for i in range(1, size + 1):\n",
    "    print(' ' * (size - i) + '*' * (2 * i - 1))"
   ]
  },
  {
   "cell_type": "code",
   "execution_count": 33,
   "id": "ab722bd4",
   "metadata": {},
   "outputs": [
    {
     "name": "stdout",
     "output_type": "stream",
     "text": [
      "*******\n",
      " *****\n",
      "  ***\n",
      "   *\n"
     ]
    }
   ],
   "source": [
    "# 33. Print an inverted pyramid pattern\n",
    "size = 4\n",
    "for i in range(size, 0, -1):\n",
    "    print(' ' * (size - i) + '*' * (2 * i - 1))"
   ]
  },
  {
   "cell_type": "code",
   "execution_count": 51,
   "id": "2b944d0c",
   "metadata": {},
   "outputs": [
    {
     "name": "stdout",
     "output_type": "stream",
     "text": [
      "racecar is Palindrome? True\n"
     ]
    }
   ],
   "source": [
    "# 34. Write a loop to check if a string is a palindrome\n",
    "text = \"racecar\"\n",
    "is_palindrome = True\n",
    "for i in range(len(text) // 2):\n",
    "    if text[i] != text[-(i + 1)]:\n",
    "        is_palindrome = False\n",
    "        break\n",
    "print(text, \"is Palindrome?\" , is_palindrome)"
   ]
  },
  {
   "cell_type": "code",
   "execution_count": 52,
   "id": "d6fc2f59",
   "metadata": {},
   "outputs": [],
   "source": [
    "# 35. Use loop with zip and condition to print matched elements only\n",
    "list1 = [1, 2, 3, 4]\n",
    "list2 = [2, 3, 4, 5]\n",
    "for a, b in zip(list1, list2):\n",
    "    if a == b:\n",
    "        print(\"Match:\", a)"
   ]
  },
  {
   "cell_type": "code",
   "execution_count": 36,
   "id": "c08a6dfc",
   "metadata": {},
   "outputs": [
    {
     "name": "stdout",
     "output_type": "stream",
     "text": [
      "2 3 5 7 11 13 17 19 23 29 31 37 41 43 47 53 59 61 67 71 73 79 83 89 97 "
     ]
    }
   ],
   "source": [
    "# 36. Print prime numbers between 1 to 100 using for-else logic\n",
    "for num in range(2, 101):\n",
    "    for i in range(2, num):\n",
    "        if num % i == 0:\n",
    "            break\n",
    "    else:\n",
    "        print(num, end=\" \")"
   ]
  },
  {
   "cell_type": "code",
   "execution_count": 37,
   "id": "b4b73d84",
   "metadata": {},
   "outputs": [
    {
     "name": "stdout",
     "output_type": "stream",
     "text": [
      "0 1 1 2 3 5 8 13 21 34 55 89 "
     ]
    }
   ],
   "source": [
    "# 37. Generate Fibonacci series using while loop until 100\n",
    "a, b = 0, 1\n",
    "while a <= 100:\n",
    "    print(a, end=\" \")\n",
    "    a, b = b, a + b"
   ]
  },
  {
   "cell_type": "code",
   "execution_count": 38,
   "id": "58af958b",
   "metadata": {},
   "outputs": [
    {
     "name": "stdout",
     "output_type": "stream",
     "text": [
      "b\n",
      "d\n"
     ]
    }
   ],
   "source": [
    "# 38. Use enumerate with condition to filter and print only odd indexed elements\n",
    "items = [\"a\", \"b\", \"c\", \"d\", \"e\"]\n",
    "for index, value in enumerate(items):\n",
    "    if index % 2 != 0:\n",
    "        print(value)"
   ]
  },
  {
   "cell_type": "code",
   "execution_count": 39,
   "id": "24365ebb",
   "metadata": {},
   "outputs": [
    {
     "name": "stdout",
     "output_type": "stream",
     "text": [
      "1 x 1 = 1\n",
      "1 x 2 = 2\n",
      "1 x 3 = 3\n",
      "1 x 4 = 4\n",
      "1 x 5 = 5\n",
      "1 x 6 = 6\n",
      "1 x 7 = 7\n",
      "1 x 8 = 8\n",
      "1 x 9 = 9\n",
      "1 x 10 = 10\n",
      "\n",
      "2 x 1 = 2\n",
      "2 x 2 = 4\n",
      "2 x 3 = 6\n",
      "2 x 4 = 8\n",
      "2 x 5 = 10\n",
      "2 x 6 = 12\n",
      "2 x 7 = 14\n",
      "2 x 8 = 16\n",
      "2 x 9 = 18\n",
      "2 x 10 = 20\n",
      "\n",
      "3 x 1 = 3\n",
      "3 x 2 = 6\n",
      "3 x 3 = 9\n",
      "3 x 4 = 12\n",
      "3 x 5 = 15\n",
      "3 x 6 = 18\n",
      "3 x 7 = 21\n",
      "3 x 8 = 24\n",
      "3 x 9 = 27\n",
      "3 x 10 = 30\n",
      "\n",
      "4 x 1 = 4\n",
      "4 x 2 = 8\n",
      "4 x 3 = 12\n",
      "4 x 4 = 16\n",
      "4 x 5 = 20\n",
      "4 x 6 = 24\n",
      "4 x 7 = 28\n",
      "4 x 8 = 32\n",
      "4 x 9 = 36\n",
      "4 x 10 = 40\n",
      "\n",
      "5 x 1 = 5\n",
      "5 x 2 = 10\n",
      "5 x 3 = 15\n",
      "5 x 4 = 20\n",
      "5 x 5 = 25\n",
      "5 x 6 = 30\n",
      "5 x 7 = 35\n",
      "5 x 8 = 40\n",
      "5 x 9 = 45\n",
      "5 x 10 = 50\n",
      "\n",
      "6 x 1 = 6\n",
      "6 x 2 = 12\n",
      "6 x 3 = 18\n",
      "6 x 4 = 24\n",
      "6 x 5 = 30\n",
      "6 x 6 = 36\n",
      "6 x 7 = 42\n",
      "6 x 8 = 48\n",
      "6 x 9 = 54\n",
      "6 x 10 = 60\n",
      "\n",
      "7 x 1 = 7\n",
      "7 x 2 = 14\n",
      "7 x 3 = 21\n",
      "7 x 4 = 28\n",
      "7 x 5 = 35\n",
      "7 x 6 = 42\n",
      "7 x 7 = 49\n",
      "7 x 8 = 56\n",
      "7 x 9 = 63\n",
      "7 x 10 = 70\n",
      "\n",
      "8 x 1 = 8\n",
      "8 x 2 = 16\n",
      "8 x 3 = 24\n",
      "8 x 4 = 32\n",
      "8 x 5 = 40\n",
      "8 x 6 = 48\n",
      "8 x 7 = 56\n",
      "8 x 8 = 64\n",
      "8 x 9 = 72\n",
      "8 x 10 = 80\n",
      "\n",
      "9 x 1 = 9\n",
      "9 x 2 = 18\n",
      "9 x 3 = 27\n",
      "9 x 4 = 36\n",
      "9 x 5 = 45\n",
      "9 x 6 = 54\n",
      "9 x 7 = 63\n",
      "9 x 8 = 72\n",
      "9 x 9 = 81\n",
      "9 x 10 = 90\n",
      "\n",
      "10 x 1 = 10\n",
      "10 x 2 = 20\n",
      "10 x 3 = 30\n",
      "10 x 4 = 40\n",
      "10 x 5 = 50\n",
      "10 x 6 = 60\n",
      "10 x 7 = 70\n",
      "10 x 8 = 80\n",
      "10 x 9 = 90\n",
      "10 x 10 = 100\n",
      "\n"
     ]
    }
   ],
   "source": [
    "# 39. Print multiplication tables from 1 to 10 using nested loops\n",
    "for i in range(1, 11):\n",
    "    for j in range(1, 11):\n",
    "        print(f\"{i} x {j} = {i * j}\")\n",
    "    print()"
   ]
  },
  {
   "cell_type": "code",
   "execution_count": 40,
   "id": "178104ad",
   "metadata": {},
   "outputs": [
    {
     "name": "stdout",
     "output_type": "stream",
     "text": [
      "[('Bob', 45), ('Charlie', 78), ('Alice', 85)]\n"
     ]
    }
   ],
   "source": [
    "# 40. Sort a list of tuples based on second element using sorted()\n",
    "students = [(\"Alice\", 85), (\"Bob\", 45), (\"Charlie\", 78)]\n",
    "print(sorted(students, key=lambda x: x[1]))"
   ]
  },
  {
   "cell_type": "code",
   "execution_count": 41,
   "id": "99b64c50",
   "metadata": {},
   "outputs": [
    {
     "name": "stdout",
     "output_type": "stream",
     "text": [
      "{'this': 2, 'is': 2, 'a': 2, 'test': 2, 'only': 1}\n"
     ]
    }
   ],
   "source": [
    "# 41. Count frequency of each word in a string using dict and loop\n",
    "sentence = \"this is a test this is only a test\"\n",
    "word_count = {}\n",
    "for word in sentence.split():\n",
    "    word_count[word] = word_count.get(word, 0) + 1\n",
    "print(word_count)"
   ]
  },
  {
   "cell_type": "code",
   "execution_count": 42,
   "id": "a34e31f7",
   "metadata": {},
   "outputs": [
    {
     "name": "stdout",
     "output_type": "stream",
     "text": [
      "1\n",
      "22\n",
      "333\n",
      "4444\n"
     ]
    }
   ],
   "source": [
    "# 42. Generate pattern:\n",
    "for i in range(1, 5):\n",
    "    print(str(i) * i)"
   ]
  },
  {
   "cell_type": "code",
   "execution_count": 43,
   "id": "48ec5280",
   "metadata": {},
   "outputs": [
    {
     "name": "stdout",
     "output_type": "stream",
     "text": [
      "*****\n",
      "*   *\n",
      "*   *\n",
      "*   *\n",
      "*****\n"
     ]
    }
   ],
   "source": [
    "# 43. Print hollow square pattern\n",
    "size = 5\n",
    "for i in range(size):\n",
    "    if i == 0 or i == size - 1:\n",
    "        print('*' * size)\n",
    "    else:\n",
    "        print('*' + ' ' * (size - 2) + '*')"
   ]
  },
  {
   "cell_type": "code",
   "execution_count": 44,
   "id": "12b3ecc5",
   "metadata": {},
   "outputs": [
    {
     "name": "stdout",
     "output_type": "stream",
     "text": [
      "5\n",
      "4\n",
      "3\n",
      "2\n",
      "1\n"
     ]
    }
   ],
   "source": [
    "# 44. Reverse a list using while loop without using reversed() or slicing\n",
    "numbers = [1, 2, 3, 4, 5]\n",
    "i = len(numbers) - 1\n",
    "while i >= 0:\n",
    "    print(numbers[i])\n",
    "    i -= 1"
   ]
  },
  {
   "cell_type": "code",
   "execution_count": 45,
   "id": "25c7e3dc",
   "metadata": {},
   "outputs": [
    {
     "name": "stdout",
     "output_type": "stream",
     "text": [
      "('Alice', 85, 20)\n",
      "('Bob', 92, 22)\n",
      "('Charlie', 78, 19)\n"
     ]
    }
   ],
   "source": [
    "# 45. Merge multiple lists using zip and display all combinations\n",
    "names = [\"Alice\", \"Bob\", \"Charlie\"]\n",
    "scores = [85, 92, 78]\n",
    "ages = [20, 22, 19]\n",
    "for combo in zip(names, scores, ages):\n",
    "    print(combo)"
   ]
  },
  {
   "cell_type": "code",
   "execution_count": 46,
   "id": "652177b7",
   "metadata": {},
   "outputs": [
    {
     "name": "stdout",
     "output_type": "stream",
     "text": [
      "  *\n",
      " ***\n",
      "*****\n",
      " ***\n",
      "  *\n"
     ]
    }
   ],
   "source": [
    "# 46. Print a diamond pattern\n",
    "size = 3\n",
    "for i in range(1, size + 1):\n",
    "    print(' ' * (size - i) + '*' * (2 * i - 1))\n",
    "for i in range(size - 1, 0, -1):\n",
    "    print(' ' * (size - i) + '*' * (2 * i - 1))"
   ]
  },
  {
   "cell_type": "code",
   "execution_count": 47,
   "id": "f48be1f1",
   "metadata": {},
   "outputs": [
    {
     "name": "stdout",
     "output_type": "stream",
     "text": [
      "1 4 7 \n",
      "2 5 8 \n",
      "3 6 9 \n"
     ]
    }
   ],
   "source": [
    "# 47. Loop through a matrix and print its transpose\n",
    "matrix = [[1, 2, 3], [4, 5, 6], [7, 8, 9]]\n",
    "for i in range(len(matrix[0])):\n",
    "    for row in matrix:\n",
    "        print(row[i], end=\" \")\n",
    "    print()"
   ]
  },
  {
   "cell_type": "code",
   "execution_count": 48,
   "id": "56edc5c4",
   "metadata": {},
   "outputs": [
    {
     "name": "stdout",
     "output_type": "stream",
     "text": [
      "Alice\n",
      "  Math: 85\n",
      "  Science: 90\n",
      "Bob\n",
      "  Math: 78\n",
      "  Science: 88\n"
     ]
    }
   ],
   "source": [
    "# 48. Use nested dictionaries and loops to display subject-wise marks of each student\n",
    "students = {\"Alice\": {\"Math\": 85, \"Science\": 90}, \"Bob\": {\"Math\": 78, \"Science\": 88}}\n",
    "for student, subjects in students.items():\n",
    "    print(student)\n",
    "    for subject, marks in subjects.items():\n",
    "        print(f\"  {subject}: {marks}\")"
   ]
  },
  {
   "cell_type": "code",
   "execution_count": 49,
   "id": "7cc601b3",
   "metadata": {},
   "outputs": [
    {
     "name": "stdout",
     "output_type": "stream",
     "text": [
      "Pass 1 : [3, 5, 1, 2, 8]\n",
      "Pass 2 : [3, 1, 2, 5, 8]\n",
      "Pass 3 : [1, 2, 3, 5, 8]\n",
      "Pass 4 : [1, 2, 3, 5, 8]\n",
      "Pass 5 : [1, 2, 3, 5, 8]\n"
     ]
    }
   ],
   "source": [
    "# 49. Implement bubble sort using nested loops and print each pass\n",
    "numbers = [5, 3, 8, 1, 2]\n",
    "n = len(numbers)\n",
    "for i in range(n):\n",
    "    for j in range(n - i - 1):\n",
    "        if numbers[j] > numbers[j + 1]:\n",
    "            numbers[j], numbers[j + 1] = numbers[j + 1], numbers[j]\n",
    "    print(\"Pass\", i + 1, \":\", numbers)"
   ]
  },
  {
   "cell_type": "code",
   "execution_count": 50,
   "id": "ae47494f",
   "metadata": {},
   "outputs": [
    {
     "name": "stdout",
     "output_type": "stream",
     "text": [
      "Row sums: [6, 15, 24]\n",
      "Column sums: [12, 15, 18]\n"
     ]
    }
   ],
   "source": [
    "# 50. Given a matrix, calculate its row-wise and column-wise sum using nested loops\n",
    "matrix = [[1, 2, 3], [4, 5, 6], [7, 8, 9]]\n",
    "row_sums = [sum(row) for row in matrix]\n",
    "col_sums = [sum(col) for col in zip(*matrix)]\n",
    "print(\"Row sums:\", row_sums)\n",
    "print(\"Column sums:\", col_sums)"
   ]
  }
 ],
 "metadata": {
  "kernelspec": {
   "display_name": "Python 3",
   "language": "python",
   "name": "python3"
  },
  "language_info": {
   "codemirror_mode": {
    "name": "ipython",
    "version": 3
   },
   "file_extension": ".py",
   "mimetype": "text/x-python",
   "name": "python",
   "nbconvert_exporter": "python",
   "pygments_lexer": "ipython3",
   "version": "3.10.0"
  }
 },
 "nbformat": 4,
 "nbformat_minor": 5
}
