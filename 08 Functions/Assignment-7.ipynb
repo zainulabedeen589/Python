{
 "cells": [
  {
   "cell_type": "markdown",
   "id": "12a9ebfe",
   "metadata": {},
   "source": [
    "<center> <h1 style= \"color:red\"> Assignments-7 </h1> </center>\n",
    "\n",
    "<center> <h2 style= \"color:orange\"> Functions, \n",
    "Arguments, Lambdas, Closures  \r\n",
    "Decorators </h2> </center>"
   ]
  },
  {
   "cell_type": "markdown",
   "id": "901047e1",
   "metadata": {},
   "source": [
    "<center> <h2 style= \"color:orange\"> Basic Function Definition and Calling </h2> </center>\n",
    "\r\n",
    "1. Write a function greet(name) that returns \"Hello, [name]!\" and call it with your name. \r\n",
    "2. Create a function area_rectangle(length, width) that calculates and returns the are \r\n",
    "of a rectangle. \r\n",
    "3. Write a function is_even(num) that returns True if a number is even and Fase \r\n",
    "otherwise. \r\n",
    "4. Define a function maximum_of_three(a, b, c) that returns the largest of hree \r\n",
    "numbers. \r\n",
    "5. Create a function convert_temperature(temp, unit) that converts temprature \r\n",
    "between Celsius and Fahrenheit. If unit is 'C', convert from Celsius to Fahrenheit; if 'F', \r\n",
    "convert from Fahrenheit to Celsius. \r\n",
    "6. Write a function calculate_bmi(weight, height) that calculates Body Mass Index \r\n",
    "(weight in kg, height in meters). \r\n",
    "7. Create a function count_vowels(text) that returns the number of vowels in a string. \r\n",
    "8. Define a function reverse_string(text) that returns the reverse of an input string. \r\n",
    "9. Write a function fibonacci(n) that returns the nth Fibonacci number (starting with 0 \r\n",
    "and 1). \r\n",
    "10. Create a function is_palindrome(text) that checks if a string is a  lindrome (reads \r\n",
    "the same forwards and backwards)."
   ]
  },
  {
   "cell_type": "code",
   "execution_count": 1,
   "id": "61603017-48da-445d-8077-3efe393b00e5",
   "metadata": {
    "execution": {
     "iopub.execute_input": "2025-05-21T15:18:08.806800Z",
     "iopub.status.busy": "2025-05-21T15:18:08.805785Z",
     "iopub.status.idle": "2025-05-21T15:18:08.824779Z",
     "shell.execute_reply": "2025-05-21T15:18:08.822777Z",
     "shell.execute_reply.started": "2025-05-21T15:18:08.806800Z"
    }
   },
   "outputs": [
    {
     "name": "stdout",
     "output_type": "stream",
     "text": [
      "Hello, Mohammad Wasiq!\n"
     ]
    }
   ],
   "source": [
    "# 1. Greet function\n",
    "def greet(name):\n",
    "    return f\"Hello, {name}!\"\n",
    "\n",
    "print(greet(\"Mohammad Wasiq\"))"
   ]
  },
  {
   "cell_type": "code",
   "execution_count": 2,
   "id": "9d878289-ff50-4616-9a68-b0753fd672e4",
   "metadata": {
    "execution": {
     "iopub.execute_input": "2025-05-21T15:18:10.036956Z",
     "iopub.status.busy": "2025-05-21T15:18:10.034959Z",
     "iopub.status.idle": "2025-05-21T15:18:10.053957Z",
     "shell.execute_reply": "2025-05-21T15:18:10.051961Z",
     "shell.execute_reply.started": "2025-05-21T15:18:10.036956Z"
    }
   },
   "outputs": [
    {
     "name": "stdout",
     "output_type": "stream",
     "text": [
      "50\n"
     ]
    }
   ],
   "source": [
    "# 2. Area of rectangle\n",
    "def area_rectangle(length, width):\n",
    "    return length * width\n",
    "\n",
    "print(area_rectangle(5, 10))"
   ]
  },
  {
   "cell_type": "code",
   "execution_count": 3,
   "id": "48ca9e31-c911-4da9-9680-6f0680cc1cd8",
   "metadata": {
    "execution": {
     "iopub.execute_input": "2025-05-21T15:18:10.418320Z",
     "iopub.status.busy": "2025-05-21T15:18:10.417316Z",
     "iopub.status.idle": "2025-05-21T15:18:10.437320Z",
     "shell.execute_reply": "2025-05-21T15:18:10.435314Z",
     "shell.execute_reply.started": "2025-05-21T15:18:10.418320Z"
    }
   },
   "outputs": [
    {
     "name": "stdout",
     "output_type": "stream",
     "text": [
      "True\n"
     ]
    }
   ],
   "source": [
    "# 3. Check if a number is even\n",
    "def is_even(num):\n",
    "    return num % 2 == 0\n",
    "\n",
    "print(is_even(4))"
   ]
  },
  {
   "cell_type": "code",
   "execution_count": 4,
   "id": "848d0b1f-1565-4567-8341-ff1e875dbd78",
   "metadata": {
    "execution": {
     "iopub.execute_input": "2025-05-21T15:18:11.518503Z",
     "iopub.status.busy": "2025-05-21T15:18:11.518503Z",
     "iopub.status.idle": "2025-05-21T15:18:11.543501Z",
     "shell.execute_reply": "2025-05-21T15:18:11.541504Z",
     "shell.execute_reply.started": "2025-05-21T15:18:11.518503Z"
    }
   },
   "outputs": [
    {
     "name": "stdout",
     "output_type": "stream",
     "text": [
      "9\n"
     ]
    }
   ],
   "source": [
    "# 4. Find the maximum of three numbers\n",
    "def maximum_of_three(a, b, c):\n",
    "    return max(a, b, c)\n",
    "\n",
    "print(maximum_of_three(3, 9, 7))"
   ]
  },
  {
   "cell_type": "code",
   "execution_count": 5,
   "id": "70d7bbcd-7c70-473a-a103-ad29eadbb226",
   "metadata": {
    "execution": {
     "iopub.execute_input": "2025-05-21T15:18:12.732280Z",
     "iopub.status.busy": "2025-05-21T15:18:12.731282Z",
     "iopub.status.idle": "2025-05-21T15:18:12.752281Z",
     "shell.execute_reply": "2025-05-21T15:18:12.751282Z",
     "shell.execute_reply.started": "2025-05-21T15:18:12.732280Z"
    }
   },
   "outputs": [
    {
     "name": "stdout",
     "output_type": "stream",
     "text": [
      "86.0\n"
     ]
    }
   ],
   "source": [
    "# 5. Convert temperature between Celsius and Fahrenheit\n",
    "def convert_temperature(temp, unit):\n",
    "    if unit == 'C':\n",
    "        return (temp * 9/5) + 32  # Convert Celsius to Fahrenheit\n",
    "    elif unit == 'F':\n",
    "        return (temp - 32) * 5/9  # Convert Fahrenheit to Celsius\n",
    "    else:\n",
    "        return \"Invalid unit!\"\n",
    "\n",
    "print(convert_temperature(30, 'C'))"
   ]
  },
  {
   "cell_type": "code",
   "execution_count": 6,
   "id": "64538af4-106d-469e-8bfd-31a9d60b8583",
   "metadata": {
    "execution": {
     "iopub.execute_input": "2025-05-21T15:18:13.883243Z",
     "iopub.status.busy": "2025-05-21T15:18:13.883243Z",
     "iopub.status.idle": "2025-05-21T15:18:13.899238Z",
     "shell.execute_reply": "2025-05-21T15:18:13.897239Z",
     "shell.execute_reply.started": "2025-05-21T15:18:13.883243Z"
    }
   },
   "outputs": [
    {
     "name": "stdout",
     "output_type": "stream",
     "text": [
      "22.857142857142858\n"
     ]
    }
   ],
   "source": [
    "# 6. Calculate BMI\n",
    "def calculate_bmi(weight, height):\n",
    "    return weight / (height ** 2)\n",
    "\n",
    "print(calculate_bmi(70, 1.75))"
   ]
  },
  {
   "cell_type": "code",
   "execution_count": 7,
   "id": "53ae0bfe-6c54-40e7-99b4-20ab06ddf5fe",
   "metadata": {
    "execution": {
     "iopub.execute_input": "2025-05-21T15:18:25.728092Z",
     "iopub.status.busy": "2025-05-21T15:18:25.727085Z",
     "iopub.status.idle": "2025-05-21T15:18:25.751081Z",
     "shell.execute_reply": "2025-05-21T15:18:25.749085Z",
     "shell.execute_reply.started": "2025-05-21T15:18:25.728092Z"
    }
   },
   "outputs": [
    {
     "name": "stdout",
     "output_type": "stream",
     "text": [
      "5\n"
     ]
    }
   ],
   "source": [
    "# 7. Count vowels in a string\n",
    "def count_vowels(text):\n",
    "    vowels = \"aeiouAEIOU\"\n",
    "    return sum(1 for char in text if char in vowels)\n",
    "\n",
    "print(count_vowels(\"Mohammad Wasiq\"))"
   ]
  },
  {
   "cell_type": "code",
   "execution_count": 8,
   "id": "d85aeb8f-ab0e-47b3-b4f8-397653853e83",
   "metadata": {
    "execution": {
     "iopub.execute_input": "2025-05-21T15:18:28.700434Z",
     "iopub.status.busy": "2025-05-21T15:18:28.699435Z",
     "iopub.status.idle": "2025-05-21T15:18:28.710456Z",
     "shell.execute_reply": "2025-05-21T15:18:28.708439Z",
     "shell.execute_reply.started": "2025-05-21T15:18:28.700434Z"
    }
   },
   "outputs": [
    {
     "name": "stdout",
     "output_type": "stream",
     "text": [
      "nohtyP\n"
     ]
    }
   ],
   "source": [
    "# 8. Reverse a string\n",
    "def reverse_string(text):\n",
    "    return text[::-1]\n",
    "\n",
    "print(reverse_string(\"Python\"))"
   ]
  },
  {
   "cell_type": "code",
   "execution_count": 9,
   "id": "d54c9b82-e127-4454-8d47-bd6a1864e487",
   "metadata": {
    "execution": {
     "iopub.execute_input": "2025-05-21T15:18:32.466044Z",
     "iopub.status.busy": "2025-05-21T15:18:32.465044Z",
     "iopub.status.idle": "2025-05-21T15:18:32.484045Z",
     "shell.execute_reply": "2025-05-21T15:18:32.482040Z",
     "shell.execute_reply.started": "2025-05-21T15:18:32.466044Z"
    }
   },
   "outputs": [
    {
     "name": "stdout",
     "output_type": "stream",
     "text": [
      "34\n"
     ]
    }
   ],
   "source": [
    "# 9. Find the nth Fibonacci number\n",
    "def fibonacci(n):\n",
    "    if n <= 0:\n",
    "        return \"Invalid input!\"\n",
    "    elif n == 1:\n",
    "        return 0\n",
    "    elif n == 2:\n",
    "        return 1\n",
    "    else:\n",
    "        a, b = 0, 1\n",
    "        for _ in range(n - 2):\n",
    "            a, b = b, a + b\n",
    "        return b\n",
    "\n",
    "print(fibonacci(10))"
   ]
  },
  {
   "cell_type": "code",
   "execution_count": 10,
   "id": "527dc050-b61d-4462-8a1e-31022e1fc99d",
   "metadata": {
    "execution": {
     "iopub.execute_input": "2025-05-21T15:18:34.540595Z",
     "iopub.status.busy": "2025-05-21T15:18:34.539598Z",
     "iopub.status.idle": "2025-05-21T15:18:34.552591Z",
     "shell.execute_reply": "2025-05-21T15:18:34.551591Z",
     "shell.execute_reply.started": "2025-05-21T15:18:34.540595Z"
    }
   },
   "outputs": [
    {
     "name": "stdout",
     "output_type": "stream",
     "text": [
      "True\n"
     ]
    }
   ],
   "source": [
    "# 10. Check if a string is a palindrome\n",
    "def is_palindrome(text):\n",
    "    return text == text[::-1]\n",
    "\n",
    "print(is_palindrome(\"madam\"))"
   ]
  },
  {
   "cell_type": "markdown",
   "id": "05ce175b-aff0-4c54-86c1-cc05376babc7",
   "metadata": {},
   "source": [
    "<center> <h2 style= \"color:orange\"> Function Arguments </h2> </center>\n",
    "\r\n",
    "11. Modify the greet function to include a default greeting: greet(name,\r\n",
    "greeting=\"Hello\") that returns \"[greeting], [name]!\" \r\n",
    "12. Create a function calculate_total(prices, tax_rate=0.1) that calculates the totl \r\n",
    "cost including tax for a list of prices. \r\n",
    "13. Write a function create_profile(name, age, city=\"Unknon\", \r\n",
    "**additional_info) that returns a dictionary with all the provided information. \r\n",
    "14. Define a function print_args_kwargs(*args, **kwargs) that prints all positionl and \r\n",
    "keyword arguments it receives. \r\n",
    "15. Create a function filter_positive_even(numbers) that returns a list of positve even \r\n",
    "numbers from the input list. \r\n",
    "16. Write a function combine_lists(*lists) that takes any number of lists andreturns a \r\n",
    "single combined list. \r\n",
    "17. Define a function calculate_discount(price, discountpercent=10, \r\n",
    "max_discount=None) that applies a discount but doesn't exceed ma_discount if \r\n",
    "provided. \r\n",
    "18. Create a function format_name(first, last, middle=\"\") that formas a full name, \r\n",
    "handling the case when middle name is not provided. \r\n",
    "19. Write a function search_by_attributes(items, /, **attribute) that finds all \r\n",
    "items that match all the given attributes. Use the / syntax to require psitional-only for \r\n",
    "the first parameter. \r\n",
    "20. Define a function run_command(command, *, timeout=30, apture_output=True) \r\n",
    "that simulates running a command with keyword-only arguments for options."
   ]
  },
  {
   "cell_type": "code",
   "execution_count": 11,
   "id": "a976f5a7-0f23-4d97-9353-547729fc6c64",
   "metadata": {
    "execution": {
     "iopub.execute_input": "2025-05-21T15:18:38.225992Z",
     "iopub.status.busy": "2025-05-21T15:18:38.224989Z",
     "iopub.status.idle": "2025-05-21T15:18:38.239993Z",
     "shell.execute_reply": "2025-05-21T15:18:38.236992Z",
     "shell.execute_reply.started": "2025-05-21T15:18:38.225992Z"
    }
   },
   "outputs": [
    {
     "name": "stdout",
     "output_type": "stream",
     "text": [
      "Hello, Mohammad Wasiq!\n",
      "Hi, Mohammad Wasiq!\n"
     ]
    }
   ],
   "source": [
    "# 11. Greet function with default greeting\n",
    "def greet(name, greeting=\"Hello\"):\n",
    "    return f\"{greeting}, {name}!\"\n",
    "\n",
    "print(greet(\"Mohammad Wasiq\"))  # Default greeting\n",
    "print(greet(\"Mohammad Wasiq\", \"Hi\"))  # Custom greeting"
   ]
  },
  {
   "cell_type": "code",
   "execution_count": 12,
   "id": "8fd52a30-8cfc-49e8-851c-a745724984e1",
   "metadata": {
    "execution": {
     "iopub.execute_input": "2025-05-21T15:18:39.664080Z",
     "iopub.status.busy": "2025-05-21T15:18:39.662109Z",
     "iopub.status.idle": "2025-05-21T15:18:39.682604Z",
     "shell.execute_reply": "2025-05-21T15:18:39.680605Z",
     "shell.execute_reply.started": "2025-05-21T15:18:39.664080Z"
    }
   },
   "outputs": [
    {
     "name": "stdout",
     "output_type": "stream",
     "text": [
      "660.0\n"
     ]
    }
   ],
   "source": [
    "# 12. Calculate total cost including tax\n",
    "def calculate_total(prices, tax_rate=0.1):\n",
    "    total = sum(prices) * (1 + tax_rate)\n",
    "    return round(total, 2)\n",
    "\n",
    "print(calculate_total([100, 200, 300]))"
   ]
  },
  {
   "cell_type": "code",
   "execution_count": 13,
   "id": "c64c39d1-afd7-4f42-8b8b-308f419c8ae4",
   "metadata": {
    "execution": {
     "iopub.execute_input": "2025-05-21T15:18:41.654727Z",
     "iopub.status.busy": "2025-05-21T15:18:41.653725Z",
     "iopub.status.idle": "2025-05-21T15:18:41.679724Z",
     "shell.execute_reply": "2025-05-21T15:18:41.677725Z",
     "shell.execute_reply.started": "2025-05-21T15:18:41.654727Z"
    }
   },
   "outputs": [
    {
     "name": "stdout",
     "output_type": "stream",
     "text": [
      "{'name': 'Mohammad Wasiq', 'age': 25, 'city': 'Unknown', 'country': 'India', 'hobby': 'Coding'}\n"
     ]
    }
   ],
   "source": [
    "# 13. Create profile with additional info\n",
    "def create_profile(name, age, city=\"Unknown\", **additional_info):\n",
    "    profile = {\"name\": name, \"age\": age, \"city\": city, **additional_info}\n",
    "    return profile\n",
    "\n",
    "print(create_profile(\"Mohammad Wasiq\", 25, country=\"India\", hobby=\"Coding\"))"
   ]
  },
  {
   "cell_type": "code",
   "execution_count": 14,
   "id": "da8e8a84-1c55-41c9-8654-6d77fbe25556",
   "metadata": {
    "execution": {
     "iopub.execute_input": "2025-05-21T15:18:43.361907Z",
     "iopub.status.busy": "2025-05-21T15:18:43.360904Z",
     "iopub.status.idle": "2025-05-21T15:18:43.379904Z",
     "shell.execute_reply": "2025-05-21T15:18:43.377900Z",
     "shell.execute_reply.started": "2025-05-21T15:18:43.361907Z"
    }
   },
   "outputs": [
    {
     "name": "stdout",
     "output_type": "stream",
     "text": [
      "Positional arguments: (1, 2, 3)\n",
      "Keyword arguments: {'name': 'Mohammad Wasiq', 'age': 25}\n"
     ]
    }
   ],
   "source": [
    "# 14. Print all positional and keyword arguments\n",
    "def print_args_kwargs(*args, **kwargs):\n",
    "    print(\"Positional arguments:\", args)\n",
    "    print(\"Keyword arguments:\", kwargs)\n",
    "\n",
    "print_args_kwargs(1, 2, 3, name=\"Mohammad Wasiq\", age=25)"
   ]
  },
  {
   "cell_type": "code",
   "execution_count": 15,
   "id": "6fd9fb7f-8ba3-4f9d-aadd-de6be605baee",
   "metadata": {
    "execution": {
     "iopub.execute_input": "2025-05-21T15:18:44.711186Z",
     "iopub.status.busy": "2025-05-21T15:18:44.711186Z",
     "iopub.status.idle": "2025-05-21T15:18:44.726182Z",
     "shell.execute_reply": "2025-05-21T15:18:44.724180Z",
     "shell.execute_reply.started": "2025-05-21T15:18:44.711186Z"
    }
   },
   "outputs": [
    {
     "name": "stdout",
     "output_type": "stream",
     "text": [
      "[2, 4, 6]\n"
     ]
    }
   ],
   "source": [
    "# 15. Filter positive even numbers\n",
    "def filter_positive_even(numbers):\n",
    "    return [num for num in numbers if num > 0 and num % 2 == 0]\n",
    "\n",
    "print(filter_positive_even([-1, 2, 3, 4, -5, 6]))"
   ]
  },
  {
   "cell_type": "code",
   "execution_count": 16,
   "id": "5d335956-f764-4a07-a09d-cd40085197a4",
   "metadata": {
    "execution": {
     "iopub.execute_input": "2025-05-21T15:18:45.649047Z",
     "iopub.status.busy": "2025-05-21T15:18:45.648050Z",
     "iopub.status.idle": "2025-05-21T15:18:45.672060Z",
     "shell.execute_reply": "2025-05-21T15:18:45.670046Z",
     "shell.execute_reply.started": "2025-05-21T15:18:45.649047Z"
    }
   },
   "outputs": [
    {
     "name": "stdout",
     "output_type": "stream",
     "text": [
      "[1, 2, 3, 4, 5, 6]\n"
     ]
    }
   ],
   "source": [
    "# 16. Combine multiple lists\n",
    "def combine_lists(*lists):\n",
    "    combined = []\n",
    "    for lst in lists:\n",
    "        combined.extend(lst)\n",
    "    return combined\n",
    "\n",
    "print(combine_lists([1, 2], [3, 4], [5, 6]))"
   ]
  },
  {
   "cell_type": "code",
   "execution_count": 17,
   "id": "94b5ef10-5bc8-4e8a-a7c3-cbcca544ea1a",
   "metadata": {
    "execution": {
     "iopub.execute_input": "2025-05-21T15:18:46.557857Z",
     "iopub.status.busy": "2025-05-21T15:18:46.556863Z",
     "iopub.status.idle": "2025-05-21T15:18:46.570852Z",
     "shell.execute_reply": "2025-05-21T15:18:46.569855Z",
     "shell.execute_reply.started": "2025-05-21T15:18:46.557857Z"
    }
   },
   "outputs": [
    {
     "name": "stdout",
     "output_type": "stream",
     "text": [
      "850\n"
     ]
    }
   ],
   "source": [
    "# 17. Calculate discount with max limit\n",
    "def calculate_discount(price, discount_percent=10, max_discount=None):\n",
    "    discount = price * (discount_percent / 100)\n",
    "    if max_discount is not None:\n",
    "        discount = min(discount, max_discount)\n",
    "    return round(price - discount, 2)\n",
    "\n",
    "print(calculate_discount(1000, 20, 150))"
   ]
  },
  {
   "cell_type": "code",
   "execution_count": 18,
   "id": "eacaa2fa-fcb8-4f2c-b4dd-35d497ae2cdb",
   "metadata": {
    "execution": {
     "iopub.execute_input": "2025-05-21T15:18:47.465816Z",
     "iopub.status.busy": "2025-05-21T15:18:47.464820Z",
     "iopub.status.idle": "2025-05-21T15:18:47.481825Z",
     "shell.execute_reply": "2025-05-21T15:18:47.480832Z",
     "shell.execute_reply.started": "2025-05-21T15:18:47.465816Z"
    }
   },
   "outputs": [
    {
     "name": "stdout",
     "output_type": "stream",
     "text": [
      "Mohammad Wasiq\n",
      "Mohammad Ali Wasiq\n"
     ]
    }
   ],
   "source": [
    "# 18. Format full name with optional middle name\n",
    "def format_name(first, last, middle=\"\"):\n",
    "    return f\"{first} {middle + ' ' if middle else ''}{last}\"\n",
    "\n",
    "print(format_name(\"Mohammad\", \"Wasiq\"))  # No middle name\n",
    "print(format_name(\"Mohammad\", \"Wasiq\", \"Ali\"))  # With middle name"
   ]
  },
  {
   "cell_type": "code",
   "execution_count": 20,
   "id": "6c7c0bac-d3b0-430c-b64b-bc9b9f6606c1",
   "metadata": {
    "execution": {
     "iopub.execute_input": "2025-05-21T15:18:52.431271Z",
     "iopub.status.busy": "2025-05-21T15:18:52.430241Z",
     "iopub.status.idle": "2025-05-21T15:18:52.457233Z",
     "shell.execute_reply": "2025-05-21T15:18:52.454231Z",
     "shell.execute_reply.started": "2025-05-21T15:18:52.431271Z"
    }
   },
   "outputs": [
    {
     "name": "stdout",
     "output_type": "stream",
     "text": [
      "[{'name': 'Laptop', 'brand': 'Apple'}]\n"
     ]
    }
   ],
   "source": [
    "# 19. Search items by attributes using positional-only syntax\n",
    "def search_by_attributes(items, /, **attributes):\n",
    "    return [item for item in items if all(item.get(attr) == val for attr, val in attributes.items())]\n",
    "\n",
    "items_list = [{\"name\": \"Laptop\", \"brand\": \"Apple\"}, {\"name\": \"Phone\", \"brand\": \"Samsung\"}]\n",
    "print(search_by_attributes(items_list, brand=\"Apple\"))"
   ]
  },
  {
   "cell_type": "code",
   "execution_count": 21,
   "id": "b9448f68-135a-4fcb-854c-2b04cd12d56b",
   "metadata": {
    "execution": {
     "iopub.execute_input": "2025-05-21T15:18:52.963234Z",
     "iopub.status.busy": "2025-05-21T15:18:52.962235Z",
     "iopub.status.idle": "2025-05-21T15:18:52.981235Z",
     "shell.execute_reply": "2025-05-21T15:18:52.980231Z",
     "shell.execute_reply.started": "2025-05-21T15:18:52.962235Z"
    }
   },
   "outputs": [
    {
     "name": "stdout",
     "output_type": "stream",
     "text": [
      "Running 'ls' with timeout=60 and capture_output=False\n"
     ]
    }
   ],
   "source": [
    "# 20. Simulate command execution with keyword-only options\n",
    "def run_command(command, *, timeout=30, capture_output=True):\n",
    "    return f\"Running '{command}' with timeout={timeout} and capture_output={capture_output}\"\n",
    "\n",
    "print(run_command(\"ls\", timeout=60, capture_output=False))"
   ]
  },
  {
   "cell_type": "markdown",
   "id": "f8cbcf4e-ba0a-42b3-abbf-14a5642b7552",
   "metadata": {},
   "source": [
    "<center> <h2 style= \"color:orange\"> Lambda Functions </h2> </center>\n",
    "\n",
    "\n",
    "21. Use a lambda function to create a sorter for a list of tuples based on the second element. \r\n",
    "22. Write a lambda function that checks if a number is in a specific range (e.g., between 1 \r\n",
    "and 20). \r\n",
    "23. Create a dictionary of mathematical operations where each value is a lambda functon \r\n",
    "(add, subtract, multiply, divide). \r\n",
    "24. Use filter() and a lambda function to extract all strings that start with a vowel  om a \r\n",
    "list of strings. \r\n",
    "25. Implement a simple calculator program that uses lambda functions to perform opeations \r\n",
    "based on user input."
   ]
  },
  {
   "cell_type": "code",
   "execution_count": 22,
   "id": "fae25380-1c0e-4cf1-9a2f-53acf2d12df8",
   "metadata": {
    "execution": {
     "iopub.execute_input": "2025-05-21T15:18:56.045752Z",
     "iopub.status.busy": "2025-05-21T15:18:56.044755Z",
     "iopub.status.idle": "2025-05-21T15:18:56.060755Z",
     "shell.execute_reply": "2025-05-21T15:18:56.058755Z",
     "shell.execute_reply.started": "2025-05-21T15:18:56.045752Z"
    }
   },
   "outputs": [
    {
     "name": "stdout",
     "output_type": "stream",
     "text": [
      "[(2, 1), (4, 2), (1, 3)]\n"
     ]
    }
   ],
   "source": [
    "# 21. Sort a list of tuples based on the second element\n",
    "tuples_list = [(1, 3), (2, 1), (4, 2)]\n",
    "sorted_list = sorted(tuples_list, key=lambda x: x[1])\n",
    "print(sorted_list) "
   ]
  },
  {
   "cell_type": "code",
   "execution_count": 23,
   "id": "78303a7c-572c-4c4e-b6f8-5002b4ecc168",
   "metadata": {
    "execution": {
     "iopub.execute_input": "2025-05-21T15:19:00.933937Z",
     "iopub.status.busy": "2025-05-21T15:19:00.932939Z",
     "iopub.status.idle": "2025-05-21T15:19:00.970954Z",
     "shell.execute_reply": "2025-05-21T15:19:00.952936Z",
     "shell.execute_reply.started": "2025-05-21T15:19:00.933937Z"
    }
   },
   "outputs": [
    {
     "name": "stdout",
     "output_type": "stream",
     "text": [
      "True\n",
      "False\n"
     ]
    }
   ],
   "source": [
    "# 22. Check if a number is in a specific range (10 to 20)\n",
    "in_range = lambda num: 10 <= num <= 20\n",
    "print(in_range(15)) \n",
    "print(in_range(25)) "
   ]
  },
  {
   "cell_type": "code",
   "execution_count": 24,
   "id": "64574139-8d02-4c13-99b0-b1e9d1f0f6af",
   "metadata": {
    "execution": {
     "iopub.execute_input": "2025-05-21T15:19:07.279193Z",
     "iopub.status.busy": "2025-05-21T15:19:07.277194Z",
     "iopub.status.idle": "2025-05-21T15:19:07.311190Z",
     "shell.execute_reply": "2025-05-21T15:19:07.307190Z",
     "shell.execute_reply.started": "2025-05-21T15:19:07.279193Z"
    }
   },
   "outputs": [
    {
     "name": "stdout",
     "output_type": "stream",
     "text": [
      "8\n",
      "5.0\n"
     ]
    }
   ],
   "source": [
    "# 23. Dictionary of mathematical operations\n",
    "operations = {\n",
    "    \"add\": lambda x, y: x + y,\n",
    "    \"subtract\": lambda x, y: x - y,\n",
    "    \"multiply\": lambda x, y: x * y,\n",
    "    \"divide\": lambda x, y: x / y if y != 0 else \"Error: Division by zero\"\n",
    "}\n",
    "\n",
    "print(operations[\"add\"](5, 3)) \n",
    "print(operations[\"divide\"](10, 2))"
   ]
  },
  {
   "cell_type": "code",
   "execution_count": null,
   "id": "de788c97-0914-49f2-97d0-0e8db4829c7d",
   "metadata": {},
   "outputs": [],
   "source": [
    "# 24. Extract strings starting with a vowel\n",
    "words = [\"apple\", \"banana\", \"orange\", \"grape\", \"umbrella\"]\n",
    "vowel_strings = list(filter(lambda word: word.lower()[0] in \"aeiou\", words))\n",
    "print(vowel_strings)  # Output: ['apple', 'orange', 'umbrella']"
   ]
  },
  {
   "cell_type": "code",
   "execution_count": 1,
   "id": "89d48467-2fe8-4808-b45a-5666f6615c55",
   "metadata": {
    "execution": {
     "iopub.execute_input": "2025-05-21T15:20:29.994194Z",
     "iopub.status.busy": "2025-05-21T15:20:29.993199Z",
     "iopub.status.idle": "2025-05-21T15:20:30.010203Z",
     "shell.execute_reply": "2025-05-21T15:20:30.008191Z",
     "shell.execute_reply.started": "2025-05-21T15:20:29.994194Z"
    }
   },
   "outputs": [],
   "source": [
    "# 25. Simple calculator using lambda functions\n",
    "def calculator():\n",
    "    op_map = {\n",
    "        \"+\": lambda x, y: x + y,\n",
    "        \"-\": lambda x, y: x - y,\n",
    "        \"*\": lambda x, y: x * y,\n",
    "        \"/\": lambda x, y: x / y if y != 0 else \"Error: Division by zero\"\n",
    "    }\n",
    "    \n",
    "    operation = input(\"Enter operation (+, -, *, /): \")\n",
    "    num1 = float(input(\"Enter first number: \"))\n",
    "    num2 = float(input(\"Enter second number: \"))\n",
    "    \n",
    "    result = op_map.get(operation, lambda x, y: \"Invalid operation\")(num1, num2)\n",
    "    print(\"Result:\", result)\n",
    "\n",
    "# Uncomment the next line to run the calculator\n",
    "# calculator()"
   ]
  },
  {
   "cell_type": "markdown",
   "id": "c22c5e14-3354-4c3b-9287-9dd1bd53a39c",
   "metadata": {},
   "source": [
    "<center> <h2 style= \"color:orange\"> Closures and Function Factories </h2> </center>\n",
    "\n",
    "\n",
    "26. Create a counter function that returns a function which increments and returns a counter\r\n",
    "variable each time it's called. \r\n",
    "27. Write a function create_multiplier(factor) that returns a function that multiplies is \r\n",
    "argument by factor. \r\n",
    "28. Implement a function create_power_function(exponent) that returns a funcion \r\n",
    "which raises its argument to the given exponent. \r\n",
    "29. Create a function create_greeting(greeting) that returns a function that g ets a \r\n",
    "person with the specified greeting. \r\n",
    "30. Write a function create_sequence_generator(sequence_type) that returns dfferent \r\n",
    "sequence generators (fibonacci, arithmetic, geometric) based on the input."
   ]
  },
  {
   "cell_type": "code",
   "execution_count": 2,
   "id": "5dd0583b-e800-46dc-9161-a0adbbabb860",
   "metadata": {
    "execution": {
     "iopub.execute_input": "2025-05-21T15:20:31.520650Z",
     "iopub.status.busy": "2025-05-21T15:20:31.519648Z",
     "iopub.status.idle": "2025-05-21T15:20:31.541647Z",
     "shell.execute_reply": "2025-05-21T15:20:31.540647Z",
     "shell.execute_reply.started": "2025-05-21T15:20:31.520650Z"
    }
   },
   "outputs": [
    {
     "name": "stdout",
     "output_type": "stream",
     "text": [
      "1\n",
      "2\n"
     ]
    }
   ],
   "source": [
    "# 26. Counter function\n",
    "def create_counter():\n",
    "    count = 0\n",
    "    def counter():\n",
    "        nonlocal count\n",
    "        count += 1\n",
    "        return count\n",
    "    return counter\n",
    "\n",
    "counter = create_counter()\n",
    "print(counter())  # Output: 1\n",
    "print(counter())  # Output: 2"
   ]
  },
  {
   "cell_type": "code",
   "execution_count": 3,
   "id": "d2307296-f369-4d51-80a6-74d8dda0197b",
   "metadata": {
    "execution": {
     "iopub.execute_input": "2025-05-21T15:20:32.472757Z",
     "iopub.status.busy": "2025-05-21T15:20:32.471755Z",
     "iopub.status.idle": "2025-05-21T15:20:32.488753Z",
     "shell.execute_reply": "2025-05-21T15:20:32.486757Z",
     "shell.execute_reply.started": "2025-05-21T15:20:32.472757Z"
    }
   },
   "outputs": [
    {
     "name": "stdout",
     "output_type": "stream",
     "text": [
      "10\n"
     ]
    }
   ],
   "source": [
    "# 27. Multiplier function factory\n",
    "def create_multiplier(factor):\n",
    "    return lambda x: x * factor\n",
    "\n",
    "double = create_multiplier(2)\n",
    "print(double(5))  # Output: 10"
   ]
  },
  {
   "cell_type": "code",
   "execution_count": 4,
   "id": "4a1a6dca-50f2-47b3-98c2-c5b00d8a5cf4",
   "metadata": {
    "execution": {
     "iopub.execute_input": "2025-05-21T15:20:32.723910Z",
     "iopub.status.busy": "2025-05-21T15:20:32.722907Z",
     "iopub.status.idle": "2025-05-21T15:20:32.740948Z",
     "shell.execute_reply": "2025-05-21T15:20:32.739913Z",
     "shell.execute_reply.started": "2025-05-21T15:20:32.723910Z"
    }
   },
   "outputs": [
    {
     "name": "stdout",
     "output_type": "stream",
     "text": [
      "16\n"
     ]
    }
   ],
   "source": [
    "# 28. Power function factory\n",
    "def create_power_function(exponent):\n",
    "    return lambda x: x ** exponent\n",
    "\n",
    "square = create_power_function(2)\n",
    "print(square(4))  # Output: 16"
   ]
  },
  {
   "cell_type": "code",
   "execution_count": 5,
   "id": "f437639e-4b97-427e-942c-baf930828b1d",
   "metadata": {
    "execution": {
     "iopub.execute_input": "2025-05-21T15:20:33.137301Z",
     "iopub.status.busy": "2025-05-21T15:20:33.136295Z",
     "iopub.status.idle": "2025-05-21T15:20:33.152291Z",
     "shell.execute_reply": "2025-05-21T15:20:33.151289Z",
     "shell.execute_reply.started": "2025-05-21T15:20:33.137301Z"
    }
   },
   "outputs": [
    {
     "name": "stdout",
     "output_type": "stream",
     "text": [
      "Hello, Mohammad!\n"
     ]
    }
   ],
   "source": [
    "# 29. Greeting function factory\n",
    "def create_greeting(greeting):\n",
    "    return lambda name: f\"{greeting}, {name}!\"\n",
    "\n",
    "say_hello = create_greeting(\"Hello\")\n",
    "print(say_hello(\"Mohammad\"))  # Output: \"Hello, Mohammad!\""
   ]
  },
  {
   "cell_type": "code",
   "execution_count": 6,
   "id": "fe45a35c-03e4-46ec-afcd-1e0571c6182c",
   "metadata": {
    "execution": {
     "iopub.execute_input": "2025-05-21T15:20:33.846321Z",
     "iopub.status.busy": "2025-05-21T15:20:33.844326Z",
     "iopub.status.idle": "2025-05-21T15:20:33.863319Z",
     "shell.execute_reply": "2025-05-21T15:20:33.861321Z",
     "shell.execute_reply.started": "2025-05-21T15:20:33.846321Z"
    }
   },
   "outputs": [
    {
     "name": "stdout",
     "output_type": "stream",
     "text": [
      "[0, 1, 1, 2, 3, 5, 8]\n",
      "[2, 5, 8, 11, 14]\n",
      "[2, 6, 18, 54, 162]\n"
     ]
    }
   ],
   "source": [
    "# 30. Sequence generator factory\n",
    "def create_sequence_generator(sequence_type):\n",
    "    if sequence_type == \"fibonacci\":\n",
    "        def fibonacci(n):\n",
    "            a, b = 0, 1\n",
    "            for _ in range(n):\n",
    "                yield a\n",
    "                a, b = b, a + b\n",
    "        return fibonacci\n",
    "    elif sequence_type == \"arithmetic\":\n",
    "        def arithmetic(start, step, count):\n",
    "            for _ in range(count):\n",
    "                yield start\n",
    "                start += step\n",
    "        return arithmetic\n",
    "    elif sequence_type == \"geometric\":\n",
    "        def geometric(start, ratio, count):\n",
    "            for _ in range(count):\n",
    "                yield start\n",
    "                start *= ratio\n",
    "        return geometric\n",
    "    else:\n",
    "        return lambda *args: \"Invalid sequence type!\"\n",
    "\n",
    "# Example calls\n",
    "fib_gen = create_sequence_generator(\"fibonacci\")\n",
    "print(list(fib_gen(7)))  # Fibonacci sequence of 7 terms\n",
    "\n",
    "arith_gen = create_sequence_generator(\"arithmetic\")\n",
    "print(list(arith_gen(2, 3, 5)))  # Arithmetic sequence starting at 2, step of 3, 5 terms\n",
    "\n",
    "geo_gen = create_sequence_generator(\"geometric\")\n",
    "print(list(geo_gen(2, 3, 5)))  # Geometric sequence starting at 2, ratio of 3, 5 terms"
   ]
  },
  {
   "cell_type": "markdown",
   "id": "55d2444c-4863-46bd-aae0-61b225e69f09",
   "metadata": {},
   "source": [
    "<center> <h2 style= \"color:orange\"> Basic Decorators </h2> </center>\n",
    "\n",
    "31. Create a decorator @timer that measures and prints the execution time of a function. \n",
    "32. Implement a decorator @debug that prints the function name, arguments, and return valu when a function is called. \n",
    "33. Write a decorator @retry(n) that retries a function up to n times if it raises an exception. \n",
    "34. Create a decorator @memoize that caches the results of a function call based onits arguments. \n",
    "35. Implement a decorator @validate_types that checks if the arguments passe to a function match the type hints in the function signature. \n",
    "36. Write a decorator @rate_limit(per_second) that limits how many times a funcion can be called per second. \n",
    "37. Create a decorator @singleton that ensures a class has only one instance. instance. \n",
    "38. Implement a decorator @deprecated that issues a wardeprecated function is used."
   ]
  },
  {
   "cell_type": "code",
   "execution_count": 23,
   "id": "47a4dcfa-6e5d-4033-88b4-5d6c31c9cf2e",
   "metadata": {
    "execution": {
     "iopub.execute_input": "2025-05-21T15:21:48.729025Z",
     "iopub.status.busy": "2025-05-21T15:21:48.728024Z",
     "iopub.status.idle": "2025-05-21T15:21:48.740021Z",
     "shell.execute_reply": "2025-05-21T15:21:48.739020Z",
     "shell.execute_reply.started": "2025-05-21T15:21:48.729025Z"
    }
   },
   "outputs": [],
   "source": [
    "import time\n",
    "import functools\n",
    "import warnings\n",
    "from collections import defaultdict\n",
    "\n",
    "# 31. Timer decorator\n",
    "def timer(func):\n",
    "    @functools.wraps(func)\n",
    "    def wrapper(*args, **kwargs):\n",
    "        start = time.time()\n",
    "        result = func(*args, **kwargs)\n",
    "        end = time.time()\n",
    "        print(f\"{func.__name__} executed in {end - start:.6f} seconds\")\n",
    "        return result\n",
    "    return wrapper\n"
   ]
  },
  {
   "cell_type": "code",
   "execution_count": 8,
   "id": "46cf6990-f6df-41ec-857f-b2a9f3902648",
   "metadata": {
    "execution": {
     "iopub.execute_input": "2025-05-21T15:20:35.415400Z",
     "iopub.status.busy": "2025-05-21T15:20:35.415400Z",
     "iopub.status.idle": "2025-05-21T15:20:35.430396Z",
     "shell.execute_reply": "2025-05-21T15:20:35.428412Z",
     "shell.execute_reply.started": "2025-05-21T15:20:35.415400Z"
    }
   },
   "outputs": [],
   "source": [
    "# 32. Debug decorator\n",
    "def debug(func):\n",
    "    @functools.wraps(func)\n",
    "    def wrapper(*args, **kwargs):\n",
    "        print(f\"Calling {func.__name__} with arguments {args} and {kwargs}\")\n",
    "        result = func(*args, **kwargs)\n",
    "        print(f\"{func.__name__} returned {result}\")\n",
    "        return result\n",
    "    return wrapper"
   ]
  },
  {
   "cell_type": "code",
   "execution_count": 9,
   "id": "ca0fefd6-a21a-443e-bdff-7f8e4cb82dfb",
   "metadata": {
    "execution": {
     "iopub.execute_input": "2025-05-21T15:20:35.738710Z",
     "iopub.status.busy": "2025-05-21T15:20:35.737705Z",
     "iopub.status.idle": "2025-05-21T15:20:35.761707Z",
     "shell.execute_reply": "2025-05-21T15:20:35.759708Z",
     "shell.execute_reply.started": "2025-05-21T15:20:35.738710Z"
    }
   },
   "outputs": [],
   "source": [
    "# 33. Retry decorator\n",
    "def retry(n):\n",
    "    def decorator(func):\n",
    "        @functools.wraps(func)\n",
    "        def wrapper(*args, **kwargs):\n",
    "            for attempt in range(n):\n",
    "                try:\n",
    "                    return func(*args, **kwargs)\n",
    "                except Exception as e:\n",
    "                    print(f\"Attempt {attempt+1}: {func.__name__} failed due to {e}\")\n",
    "            return None\n",
    "        return wrapper\n",
    "    return decorator"
   ]
  },
  {
   "cell_type": "code",
   "execution_count": 10,
   "id": "98685c32-510d-400d-8840-b404ea1efdb8",
   "metadata": {
    "execution": {
     "iopub.execute_input": "2025-05-21T15:20:44.769315Z",
     "iopub.status.busy": "2025-05-21T15:20:44.768317Z",
     "iopub.status.idle": "2025-05-21T15:20:44.786315Z",
     "shell.execute_reply": "2025-05-21T15:20:44.784316Z",
     "shell.execute_reply.started": "2025-05-21T15:20:44.769315Z"
    }
   },
   "outputs": [],
   "source": [
    "# 34. Memoization decorator\n",
    "def memoize(func):\n",
    "    cache = {}\n",
    "    @functools.wraps(func)\n",
    "    def wrapper(*args):\n",
    "        if args in cache:\n",
    "            return cache[args]\n",
    "        result = func(*args)\n",
    "        cache[args] = result\n",
    "        return result\n",
    "    return wrapper"
   ]
  },
  {
   "cell_type": "code",
   "execution_count": 11,
   "id": "f62c7a88-da3e-4aff-9515-78c09e2ce686",
   "metadata": {
    "execution": {
     "iopub.execute_input": "2025-05-21T15:20:46.209773Z",
     "iopub.status.busy": "2025-05-21T15:20:46.207774Z",
     "iopub.status.idle": "2025-05-21T15:20:46.225777Z",
     "shell.execute_reply": "2025-05-21T15:20:46.223776Z",
     "shell.execute_reply.started": "2025-05-21T15:20:46.209773Z"
    }
   },
   "outputs": [],
   "source": [
    "# 35. Type validation decorator\n",
    "def validate_types(func):\n",
    "    @functools.wraps(func)\n",
    "    def wrapper(*args, **kwargs):\n",
    "        hints = func.__annotations__\n",
    "        for arg, hint in zip(args, hints.values()):\n",
    "            if not isinstance(arg, hint):\n",
    "                raise TypeError(f\"Argument {arg} does not match expected type {hint}\")\n",
    "        return func(*args, **kwargs)\n",
    "    return wrapper"
   ]
  },
  {
   "cell_type": "code",
   "execution_count": 12,
   "id": "c7514529-0c64-4b24-97a6-33de9f2e46ae",
   "metadata": {
    "execution": {
     "iopub.execute_input": "2025-05-21T15:20:47.368775Z",
     "iopub.status.busy": "2025-05-21T15:20:47.368775Z",
     "iopub.status.idle": "2025-05-21T15:20:47.388776Z",
     "shell.execute_reply": "2025-05-21T15:20:47.386771Z",
     "shell.execute_reply.started": "2025-05-21T15:20:47.368775Z"
    }
   },
   "outputs": [],
   "source": [
    "# 36. Rate limiting decorator\n",
    "def rate_limit(per_second):\n",
    "    last_called = [0]\n",
    "    def decorator(func):\n",
    "        @functools.wraps(func)\n",
    "        def wrapper(*args, **kwargs):\n",
    "            elapsed = time.time() - last_called[0]\n",
    "            if elapsed < 1 / per_second:\n",
    "                raise Exception(\"Rate limit exceeded!\")\n",
    "            last_called[0] = time.time()\n",
    "            return func(*args, **kwargs)\n",
    "        return wrapper\n",
    "    return decorator"
   ]
  },
  {
   "cell_type": "code",
   "execution_count": 13,
   "id": "a406f326-bc34-4241-94ad-a650d7655319",
   "metadata": {
    "execution": {
     "iopub.execute_input": "2025-05-21T15:20:47.733778Z",
     "iopub.status.busy": "2025-05-21T15:20:47.732776Z",
     "iopub.status.idle": "2025-05-21T15:20:47.755771Z",
     "shell.execute_reply": "2025-05-21T15:20:47.753774Z",
     "shell.execute_reply.started": "2025-05-21T15:20:47.733778Z"
    }
   },
   "outputs": [],
   "source": [
    "# 37. Singleton decorator\n",
    "def singleton(cls):\n",
    "    instances = {}\n",
    "    @functools.wraps(cls)\n",
    "    def wrapper(*args, **kwargs):\n",
    "        if cls not in instances:\n",
    "            instances[cls] = cls(*args, **kwargs)\n",
    "        return instances[cls]\n",
    "    return wrapper"
   ]
  },
  {
   "cell_type": "code",
   "execution_count": 14,
   "id": "a56d851e-8d07-402d-9dfd-1a560cd088fd",
   "metadata": {
    "execution": {
     "iopub.execute_input": "2025-05-21T15:20:48.002779Z",
     "iopub.status.busy": "2025-05-21T15:20:48.001783Z",
     "iopub.status.idle": "2025-05-21T15:20:48.025771Z",
     "shell.execute_reply": "2025-05-21T15:20:48.023770Z",
     "shell.execute_reply.started": "2025-05-21T15:20:48.002779Z"
    }
   },
   "outputs": [],
   "source": [
    "# 38. Deprecated decorator\n",
    "def deprecated(func):\n",
    "    @functools.wraps(func)\n",
    "    def wrapper(*args, **kwargs):\n",
    "        warnings.warn(f\"{func.__name__} is deprecated!\", DeprecationWarning, stacklevel=2)\n",
    "        return func(*args, **kwargs)\n",
    "    return wrapper"
   ]
  },
  {
   "cell_type": "markdown",
   "id": "90355e40-16d2-4259-98c6-22ca5f33f924",
   "metadata": {},
   "source": [
    "<center> <h2 style= \"color:orange\"> Advanced Decorators and Class Decorators </h2> </center>\n",
    "\r\n",
    "39. Create stacked decorators for logging, timing, and memoizing a recurive Fibonac41\r\n",
    "function. \r\n",
    "40. Implement a decorator that registers functions in a central registry, whic can be used o \r\n",
    "build 42plugin system. \r\n",
    "41. Write a decorator @validate_json that validates JSON input fr a function hat \r\n",
    "pr43esses JSON data. \r\n",
    "42. Create a decorator that transforms the return value of a function(e.g., convering a \r\n",
    "dictionary 44 a custom object). \r\n",
    "43. Implement a class decorator that adds serialization methods (t_json, to_xml to 45e \r\n",
    "decorated class. \r\n",
    "44. Write a decorator that converts a synchronous function to rturn a Futureobject (a \r\n",
    "simple implementation, not 46ing actual threading). \r\n",
    "45. Create a decorator that makes a function's arguments and eturn values onform to a \r\n",
    "specific contract (e.g., non-negative numbers, strings of a certain length)."
   ]
  },
  {
   "cell_type": "code",
   "execution_count": 15,
   "id": "c6c41653-3316-4eb7-9efe-e843c6def32b",
   "metadata": {
    "execution": {
     "iopub.execute_input": "2025-05-21T15:20:50.716490Z",
     "iopub.status.busy": "2025-05-21T15:20:50.715492Z",
     "iopub.status.idle": "2025-05-21T15:20:50.727494Z",
     "shell.execute_reply": "2025-05-21T15:20:50.726495Z",
     "shell.execute_reply.started": "2025-05-21T15:20:50.715492Z"
    }
   },
   "outputs": [],
   "source": [
    "import json\n",
    "\n",
    "# 39. Stacked decorators for recursive Fibonacci function\n",
    "@debug\n",
    "@timer\n",
    "@memoize\n",
    "def fibonacci(n):\n",
    "    return n if n <= 1 else fibonacci(n - 1) + fibonacci(n - 2)"
   ]
  },
  {
   "cell_type": "code",
   "execution_count": 16,
   "id": "554384fe-a7ea-4061-a423-5cbc8617087b",
   "metadata": {
    "execution": {
     "iopub.execute_input": "2025-05-21T15:20:51.168268Z",
     "iopub.status.busy": "2025-05-21T15:20:51.168268Z",
     "iopub.status.idle": "2025-05-21T15:20:51.180509Z",
     "shell.execute_reply": "2025-05-21T15:20:51.178514Z",
     "shell.execute_reply.started": "2025-05-21T15:20:51.168268Z"
    }
   },
   "outputs": [],
   "source": [
    "# 40. Function registry decorator\n",
    "registry = {}\n",
    "\n",
    "def register(category):\n",
    "    def decorator(func):\n",
    "        registry.setdefault(category, []).append(func)\n",
    "        return func\n",
    "    return decorator\n",
    "\n",
    "@register(\"math\")\n",
    "def add(x, y):\n",
    "    return x + y"
   ]
  },
  {
   "cell_type": "code",
   "execution_count": 17,
   "id": "f12353a7-01fe-45a4-8921-e78247e19a55",
   "metadata": {
    "execution": {
     "iopub.execute_input": "2025-05-21T15:20:51.490822Z",
     "iopub.status.busy": "2025-05-21T15:20:51.489821Z",
     "iopub.status.idle": "2025-05-21T15:20:51.513835Z",
     "shell.execute_reply": "2025-05-21T15:20:51.511837Z",
     "shell.execute_reply.started": "2025-05-21T15:20:51.490822Z"
    }
   },
   "outputs": [],
   "source": [
    "# 41. JSON validation decorator\n",
    "def validate_json(schema):\n",
    "    def decorator(func):\n",
    "        @functools.wraps(func)\n",
    "        def wrapper(data):\n",
    "            for key in schema:\n",
    "                if key not in data or not isinstance(data[key], schema[key]):\n",
    "                    raise ValueError(f\"Invalid data: {key}\")\n",
    "            return func(data)\n",
    "        return wrapper\n",
    "    return decorator\n",
    "\n",
    "@validate_json({\"name\": str, \"age\": int})\n",
    "def process_json(data):\n",
    "    return f\"Processing {data['name']} with age {data['age']}\""
   ]
  },
  {
   "cell_type": "code",
   "execution_count": 18,
   "id": "c5d6fe5b-12c3-4620-8bdf-136eaea0a9f3",
   "metadata": {
    "execution": {
     "iopub.execute_input": "2025-05-21T15:20:51.775598Z",
     "iopub.status.busy": "2025-05-21T15:20:51.774607Z",
     "iopub.status.idle": "2025-05-21T15:20:51.800599Z",
     "shell.execute_reply": "2025-05-21T15:20:51.798601Z",
     "shell.execute_reply.started": "2025-05-21T15:20:51.775598Z"
    }
   },
   "outputs": [],
   "source": [
    "# 42. Transform return value decorator\n",
    "def transform_return(transform_func):\n",
    "    def decorator(func):\n",
    "        @functools.wraps(func)\n",
    "        def wrapper(*args, **kwargs):\n",
    "            return transform_func(func(*args, **kwargs))\n",
    "        return wrapper\n",
    "    return decorator\n",
    "\n",
    "@transform_return(lambda data: json.dumps(data))\n",
    "def get_data():\n",
    "    return {\"name\": \"Mohammad\", \"age\": 25}"
   ]
  },
  {
   "cell_type": "code",
   "execution_count": 19,
   "id": "e12d0ef5-2337-44c1-856c-646c76cdb912",
   "metadata": {
    "execution": {
     "iopub.execute_input": "2025-05-21T15:20:52.025872Z",
     "iopub.status.busy": "2025-05-21T15:20:52.024872Z",
     "iopub.status.idle": "2025-05-21T15:20:52.051869Z",
     "shell.execute_reply": "2025-05-21T15:20:52.049872Z",
     "shell.execute_reply.started": "2025-05-21T15:20:52.025872Z"
    }
   },
   "outputs": [],
   "source": [
    "# 43. Serialization decorator using dictionary conversion\n",
    "def serialize(func):\n",
    "    @functools.wraps(func)\n",
    "    def wrapper(*args, **kwargs):\n",
    "        return json.dumps(func(*args, **kwargs))\n",
    "    return wrapper\n",
    "\n",
    "@serialize\n",
    "def get_user():\n",
    "    return {\"name\": \"Mohammad\", \"age\": 25}"
   ]
  },
  {
   "cell_type": "code",
   "execution_count": 20,
   "id": "25a24783-2357-4df7-8c70-2359e4d248d7",
   "metadata": {
    "execution": {
     "iopub.execute_input": "2025-05-21T15:20:52.280246Z",
     "iopub.status.busy": "2025-05-21T15:20:52.279247Z",
     "iopub.status.idle": "2025-05-21T15:20:52.306264Z",
     "shell.execute_reply": "2025-05-21T15:20:52.304247Z",
     "shell.execute_reply.started": "2025-05-21T15:20:52.280246Z"
    }
   },
   "outputs": [],
   "source": [
    "# 44. Convert synchronous function to Future object (simple implementation)\n",
    "class Future:\n",
    "    def __init__(self, value):\n",
    "        self.value = value\n",
    "    def result(self):\n",
    "        return self.value\n",
    "\n",
    "def future(func):\n",
    "    @functools.wraps(func)\n",
    "    def wrapper(*args, **kwargs):\n",
    "        return Future(func(*args, **kwargs))\n",
    "    return wrapper\n",
    "\n",
    "@future\n",
    "def slow_function():\n",
    "    return \"Completed\""
   ]
  },
  {
   "cell_type": "code",
   "execution_count": 21,
   "id": "01224e23-6d48-4c1d-a055-92e63e23a44a",
   "metadata": {
    "execution": {
     "iopub.execute_input": "2025-05-21T15:20:52.549594Z",
     "iopub.status.busy": "2025-05-21T15:20:52.549594Z",
     "iopub.status.idle": "2025-05-21T15:20:52.573591Z",
     "shell.execute_reply": "2025-05-21T15:20:52.571595Z",
     "shell.execute_reply.started": "2025-05-21T15:20:52.549594Z"
    }
   },
   "outputs": [],
   "source": [
    "# 45. Contract enforcement decorator\n",
    "def enforce_contract(check_func):\n",
    "    def decorator(func):\n",
    "        @functools.wraps(func)\n",
    "        def wrapper(*args, **kwargs):\n",
    "            if not check_func(*args, **kwargs):\n",
    "                raise ValueError(\"Contract violation!\")\n",
    "            return func(*args, **kwargs)\n",
    "        return wrapper\n",
    "    return decorator\n",
    "\n",
    "@enforce_contract(lambda x: x >= 0)\n",
    "def compute(x):\n",
    "    return x ** 2"
   ]
  },
  {
   "cell_type": "code",
   "execution_count": null,
   "id": "550eabbb-0788-4543-b014-069fa875940b",
   "metadata": {},
   "outputs": [],
   "source": []
  }
 ],
 "metadata": {
  "kernelspec": {
   "display_name": "Python 3 (ipykernel)",
   "language": "python",
   "name": "python3"
  },
  "language_info": {
   "codemirror_mode": {
    "name": "ipython",
    "version": 3
   },
   "file_extension": ".py",
   "mimetype": "text/x-python",
   "name": "python",
   "nbconvert_exporter": "python",
   "pygments_lexer": "ipython3",
   "version": "3.10.0"
  },
  "widgets": {
   "application/vnd.jupyter.widget-state+json": {
    "state": {},
    "version_major": 2,
    "version_minor": 0
   }
  }
 },
 "nbformat": 4,
 "nbformat_minor": 5
}
