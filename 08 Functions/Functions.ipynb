{
 "cells": [
  {
   "cell_type": "markdown",
   "id": "58395e90-0ce9-42e7-9ae3-812031392f6f",
   "metadata": {},
   "source": [
    "<center> <h1> Functions </h1> </center>\n",
    "\n",
    "<center> <h2> Defining, Calling, Returning the Function </h2> </center>"
   ]
  },
  {
   "cell_type": "code",
   "execution_count": 1,
   "id": "e39f34c8",
   "metadata": {
    "execution": {
     "iopub.execute_input": "2025-05-21T14:54:53.278461Z",
     "iopub.status.busy": "2025-05-21T14:54:53.277457Z",
     "iopub.status.idle": "2025-05-21T14:54:53.293460Z",
     "shell.execute_reply": "2025-05-21T14:54:53.291452Z",
     "shell.execute_reply.started": "2025-05-21T14:54:53.278461Z"
    }
   },
   "outputs": [],
   "source": [
    "l = [3,4,5,6,7,8]"
   ]
  },
  {
   "cell_type": "code",
   "execution_count": 2,
   "id": "42db505f",
   "metadata": {
    "execution": {
     "iopub.execute_input": "2025-05-21T14:54:53.828251Z",
     "iopub.status.busy": "2025-05-21T14:54:53.828251Z",
     "iopub.status.idle": "2025-05-21T14:54:53.847258Z",
     "shell.execute_reply": "2025-05-21T14:54:53.845251Z",
     "shell.execute_reply.started": "2025-05-21T14:54:53.828251Z"
    }
   },
   "outputs": [
    {
     "name": "stdout",
     "output_type": "stream",
     "text": [
      "4\n",
      "6\n",
      "8\n"
     ]
    }
   ],
   "source": [
    "l1 = []\n",
    "for i in l :\n",
    "    if i % 2 == 0 :\n",
    "        print(i)\n",
    "        l1.append(i)"
   ]
  },
  {
   "cell_type": "code",
   "execution_count": 3,
   "id": "84e76964",
   "metadata": {
    "execution": {
     "iopub.execute_input": "2025-05-21T14:54:54.486487Z",
     "iopub.status.busy": "2025-05-21T14:54:54.486487Z",
     "iopub.status.idle": "2025-05-21T14:54:54.508503Z",
     "shell.execute_reply": "2025-05-21T14:54:54.507481Z",
     "shell.execute_reply.started": "2025-05-21T14:54:54.486487Z"
    }
   },
   "outputs": [
    {
     "data": {
      "text/plain": [
       "[4, 6, 8]"
      ]
     },
     "execution_count": 3,
     "metadata": {},
     "output_type": "execute_result"
    }
   ],
   "source": [
    "l1"
   ]
  },
  {
   "cell_type": "code",
   "execution_count": 4,
   "id": "e8a976f0",
   "metadata": {
    "execution": {
     "iopub.execute_input": "2025-05-21T14:54:54.915263Z",
     "iopub.status.busy": "2025-05-21T14:54:54.914262Z",
     "iopub.status.idle": "2025-05-21T14:54:54.958267Z",
     "shell.execute_reply": "2025-05-21T14:54:54.956267Z",
     "shell.execute_reply.started": "2025-05-21T14:54:54.915263Z"
    }
   },
   "outputs": [
    {
     "data": {
      "text/plain": [
       "6"
      ]
     },
     "execution_count": 4,
     "metadata": {},
     "output_type": "execute_result"
    }
   ],
   "source": [
    "len(l)"
   ]
  },
  {
   "cell_type": "code",
   "execution_count": 5,
   "id": "ea3914fb",
   "metadata": {
    "execution": {
     "iopub.execute_input": "2025-05-21T14:54:55.149576Z",
     "iopub.status.busy": "2025-05-21T14:54:55.148572Z",
     "iopub.status.idle": "2025-05-21T14:54:55.171571Z",
     "shell.execute_reply": "2025-05-21T14:54:55.170575Z",
     "shell.execute_reply.started": "2025-05-21T14:54:55.149576Z"
    }
   },
   "outputs": [
    {
     "data": {
      "text/plain": [
       "list"
      ]
     },
     "execution_count": 5,
     "metadata": {},
     "output_type": "execute_result"
    }
   ],
   "source": [
    "type(l)"
   ]
  },
  {
   "cell_type": "code",
   "execution_count": 6,
   "id": "7a6bf9ae",
   "metadata": {
    "execution": {
     "iopub.execute_input": "2025-05-21T14:54:55.342569Z",
     "iopub.status.busy": "2025-05-21T14:54:55.341570Z",
     "iopub.status.idle": "2025-05-21T14:54:55.363575Z",
     "shell.execute_reply": "2025-05-21T14:54:55.362564Z",
     "shell.execute_reply.started": "2025-05-21T14:54:55.341570Z"
    }
   },
   "outputs": [],
   "source": [
    "def test():\n",
    "    pass\n",
    "    "
   ]
  },
  {
   "cell_type": "code",
   "execution_count": 7,
   "id": "f9a51f91",
   "metadata": {
    "execution": {
     "iopub.execute_input": "2025-05-21T14:54:55.533566Z",
     "iopub.status.busy": "2025-05-21T14:54:55.533566Z",
     "iopub.status.idle": "2025-05-21T14:54:55.554568Z",
     "shell.execute_reply": "2025-05-21T14:54:55.553566Z",
     "shell.execute_reply.started": "2025-05-21T14:54:55.533566Z"
    }
   },
   "outputs": [],
   "source": [
    "test()"
   ]
  },
  {
   "cell_type": "code",
   "execution_count": 8,
   "id": "5fdb9542",
   "metadata": {
    "execution": {
     "iopub.execute_input": "2025-05-21T14:54:55.818451Z",
     "iopub.status.busy": "2025-05-21T14:54:55.817453Z",
     "iopub.status.idle": "2025-05-21T14:54:55.840453Z",
     "shell.execute_reply": "2025-05-21T14:54:55.838451Z",
     "shell.execute_reply.started": "2025-05-21T14:54:55.818451Z"
    }
   },
   "outputs": [],
   "source": [
    "def test1():\n",
    "    print(\"my name is sudhanshu\")"
   ]
  },
  {
   "cell_type": "code",
   "execution_count": 9,
   "id": "4495dbe2",
   "metadata": {
    "execution": {
     "iopub.execute_input": "2025-05-21T14:54:56.037955Z",
     "iopub.status.busy": "2025-05-21T14:54:56.037955Z",
     "iopub.status.idle": "2025-05-21T14:54:56.059487Z",
     "shell.execute_reply": "2025-05-21T14:54:56.058494Z",
     "shell.execute_reply.started": "2025-05-21T14:54:56.037955Z"
    }
   },
   "outputs": [
    {
     "name": "stdout",
     "output_type": "stream",
     "text": [
      "my name is sudhanshu\n"
     ]
    }
   ],
   "source": [
    "test1()"
   ]
  },
  {
   "cell_type": "code",
   "execution_count": 10,
   "id": "3d324ffd",
   "metadata": {
    "execution": {
     "iopub.execute_input": "2025-05-21T14:54:56.209485Z",
     "iopub.status.busy": "2025-05-21T14:54:56.209485Z",
     "iopub.status.idle": "2025-05-21T14:54:56.219489Z",
     "shell.execute_reply": "2025-05-21T14:54:56.217488Z",
     "shell.execute_reply.started": "2025-05-21T14:54:56.209485Z"
    }
   },
   "outputs": [
    {
     "name": "stdout",
     "output_type": "stream",
     "text": [
      "my name is sudhanshu\n"
     ]
    }
   ],
   "source": [
    "test1()"
   ]
  },
  {
   "cell_type": "code",
   "execution_count": 11,
   "id": "6598f6df",
   "metadata": {
    "execution": {
     "iopub.execute_input": "2025-05-21T14:54:56.420047Z",
     "iopub.status.busy": "2025-05-21T14:54:56.419041Z",
     "iopub.status.idle": "2025-05-21T14:54:56.437556Z",
     "shell.execute_reply": "2025-05-21T14:54:56.436543Z",
     "shell.execute_reply.started": "2025-05-21T14:54:56.420047Z"
    }
   },
   "outputs": [
    {
     "name": "stdout",
     "output_type": "stream",
     "text": [
      "my name is sudhanshu\n"
     ]
    }
   ],
   "source": [
    "test1()"
   ]
  },
  {
   "cell_type": "code",
   "execution_count": 12,
   "id": "4ebfdd9f",
   "metadata": {
    "execution": {
     "iopub.execute_input": "2025-05-21T14:54:56.614138Z",
     "iopub.status.busy": "2025-05-21T14:54:56.613141Z",
     "iopub.status.idle": "2025-05-21T14:54:56.627133Z",
     "shell.execute_reply": "2025-05-21T14:54:56.626131Z",
     "shell.execute_reply.started": "2025-05-21T14:54:56.614138Z"
    }
   },
   "outputs": [
    {
     "name": "stdout",
     "output_type": "stream",
     "text": [
      "my name is sudhanshu\n"
     ]
    }
   ],
   "source": [
    "a = test1()"
   ]
  },
  {
   "cell_type": "code",
   "execution_count": 13,
   "id": "3816da63",
   "metadata": {
    "execution": {
     "iopub.execute_input": "2025-05-21T14:54:57.002136Z",
     "iopub.status.busy": "2025-05-21T14:54:57.002136Z",
     "iopub.status.idle": "2025-05-21T14:54:57.648163Z",
     "shell.execute_reply": "2025-05-21T14:54:57.645163Z",
     "shell.execute_reply.started": "2025-05-21T14:54:57.002136Z"
    }
   },
   "outputs": [
    {
     "ename": "TypeError",
     "evalue": "unsupported operand type(s) for +: 'NoneType' and 'str'",
     "output_type": "error",
     "traceback": [
      "\u001b[1;31m---------------------------------------------------------------------------\u001b[0m",
      "\u001b[1;31mTypeError\u001b[0m                                 Traceback (most recent call last)",
      "Cell \u001b[1;32mIn[13], line 1\u001b[0m\n\u001b[1;32m----> 1\u001b[0m \u001b[43ma\u001b[49m\u001b[38;5;241;43m+\u001b[39;49m\u001b[43m \u001b[49m\u001b[38;5;124;43m\"\u001b[39;49m\u001b[38;5;124;43meuron\u001b[39;49m\u001b[38;5;124;43m\"\u001b[39;49m\n",
      "\u001b[1;31mTypeError\u001b[0m: unsupported operand type(s) for +: 'NoneType' and 'str'"
     ]
    }
   ],
   "source": [
    "a+ \"euron\""
   ]
  },
  {
   "cell_type": "code",
   "execution_count": null,
   "id": "c41d7fb4",
   "metadata": {
    "execution": {
     "iopub.status.busy": "2025-05-21T14:54:57.649164Z",
     "iopub.status.idle": "2025-05-21T14:54:57.650161Z",
     "shell.execute_reply": "2025-05-21T14:54:57.650161Z",
     "shell.execute_reply.started": "2025-05-21T14:54:57.650161Z"
    }
   },
   "outputs": [],
   "source": [
    "type(test1())"
   ]
  },
  {
   "cell_type": "code",
   "execution_count": null,
   "id": "01673510",
   "metadata": {
    "execution": {
     "iopub.status.busy": "2025-05-21T14:54:57.653162Z",
     "iopub.status.idle": "2025-05-21T14:54:57.655164Z",
     "shell.execute_reply": "2025-05-21T14:54:57.654163Z",
     "shell.execute_reply.started": "2025-05-21T14:54:57.654163Z"
    }
   },
   "outputs": [],
   "source": [
    "def test2():\n",
    "    return \"my name is sudhanshu\""
   ]
  },
  {
   "cell_type": "code",
   "execution_count": null,
   "id": "edf500da",
   "metadata": {
    "execution": {
     "iopub.status.busy": "2025-05-21T14:54:57.657165Z",
     "iopub.status.idle": "2025-05-21T14:54:57.658163Z",
     "shell.execute_reply": "2025-05-21T14:54:57.658163Z",
     "shell.execute_reply.started": "2025-05-21T14:54:57.657165Z"
    }
   },
   "outputs": [],
   "source": [
    "test2()"
   ]
  },
  {
   "cell_type": "code",
   "execution_count": null,
   "id": "a8cee94c",
   "metadata": {
    "execution": {
     "iopub.status.busy": "2025-05-21T14:54:57.660164Z",
     "iopub.status.idle": "2025-05-21T14:54:57.661165Z",
     "shell.execute_reply": "2025-05-21T14:54:57.661165Z",
     "shell.execute_reply.started": "2025-05-21T14:54:57.661165Z"
    }
   },
   "outputs": [],
   "source": [
    "type(test2())"
   ]
  },
  {
   "cell_type": "code",
   "execution_count": null,
   "id": "7228b48b",
   "metadata": {
    "execution": {
     "iopub.status.busy": "2025-05-21T14:54:57.664165Z",
     "iopub.status.idle": "2025-05-21T14:54:57.666163Z",
     "shell.execute_reply": "2025-05-21T14:54:57.665161Z",
     "shell.execute_reply.started": "2025-05-21T14:54:57.665161Z"
    }
   },
   "outputs": [],
   "source": [
    "test2()+ \" Euron\""
   ]
  },
  {
   "cell_type": "code",
   "execution_count": 14,
   "id": "248e49cb",
   "metadata": {
    "execution": {
     "iopub.execute_input": "2025-05-21T14:54:57.716160Z",
     "iopub.status.busy": "2025-05-21T14:54:57.715165Z",
     "iopub.status.idle": "2025-05-21T14:54:57.728164Z",
     "shell.execute_reply": "2025-05-21T14:54:57.725168Z",
     "shell.execute_reply.started": "2025-05-21T14:54:57.716160Z"
    }
   },
   "outputs": [],
   "source": [
    "def test3():\n",
    "    return \"sudh\" , 45,234.56"
   ]
  },
  {
   "cell_type": "code",
   "execution_count": 15,
   "id": "021840c4",
   "metadata": {
    "execution": {
     "iopub.execute_input": "2025-05-21T14:54:57.880164Z",
     "iopub.status.busy": "2025-05-21T14:54:57.879163Z",
     "iopub.status.idle": "2025-05-21T14:54:57.900161Z",
     "shell.execute_reply": "2025-05-21T14:54:57.899158Z",
     "shell.execute_reply.started": "2025-05-21T14:54:57.880164Z"
    }
   },
   "outputs": [
    {
     "data": {
      "text/plain": [
       "('sudh', 45, 234.56)"
      ]
     },
     "execution_count": 15,
     "metadata": {},
     "output_type": "execute_result"
    }
   ],
   "source": [
    "test3()"
   ]
  },
  {
   "cell_type": "code",
   "execution_count": 16,
   "id": "6777d7cd",
   "metadata": {
    "execution": {
     "iopub.execute_input": "2025-05-21T14:54:58.038165Z",
     "iopub.status.busy": "2025-05-21T14:54:58.037163Z",
     "iopub.status.idle": "2025-05-21T14:54:58.061168Z",
     "shell.execute_reply": "2025-05-21T14:54:58.059165Z",
     "shell.execute_reply.started": "2025-05-21T14:54:58.038165Z"
    }
   },
   "outputs": [
    {
     "data": {
      "text/plain": [
       "tuple"
      ]
     },
     "execution_count": 16,
     "metadata": {},
     "output_type": "execute_result"
    }
   ],
   "source": [
    "type(test3())"
   ]
  },
  {
   "cell_type": "code",
   "execution_count": 17,
   "id": "2afa1566",
   "metadata": {
    "execution": {
     "iopub.execute_input": "2025-05-21T14:54:58.210163Z",
     "iopub.status.busy": "2025-05-21T14:54:58.209165Z",
     "iopub.status.idle": "2025-05-21T14:54:58.218165Z",
     "shell.execute_reply": "2025-05-21T14:54:58.216163Z",
     "shell.execute_reply.started": "2025-05-21T14:54:58.210163Z"
    }
   },
   "outputs": [],
   "source": [
    "a ,b ,c = test3()"
   ]
  },
  {
   "cell_type": "code",
   "execution_count": 18,
   "id": "d0599545",
   "metadata": {
    "execution": {
     "iopub.execute_input": "2025-05-21T14:54:58.378163Z",
     "iopub.status.busy": "2025-05-21T14:54:58.377169Z",
     "iopub.status.idle": "2025-05-21T14:54:58.393162Z",
     "shell.execute_reply": "2025-05-21T14:54:58.392179Z",
     "shell.execute_reply.started": "2025-05-21T14:54:58.378163Z"
    }
   },
   "outputs": [
    {
     "data": {
      "text/plain": [
       "'sudh'"
      ]
     },
     "execution_count": 18,
     "metadata": {},
     "output_type": "execute_result"
    }
   ],
   "source": [
    "a"
   ]
  },
  {
   "cell_type": "code",
   "execution_count": 19,
   "id": "a74987fd",
   "metadata": {
    "execution": {
     "iopub.execute_input": "2025-05-21T14:54:58.563160Z",
     "iopub.status.busy": "2025-05-21T14:54:58.561165Z",
     "iopub.status.idle": "2025-05-21T14:54:58.581161Z",
     "shell.execute_reply": "2025-05-21T14:54:58.580162Z",
     "shell.execute_reply.started": "2025-05-21T14:54:58.563160Z"
    }
   },
   "outputs": [
    {
     "data": {
      "text/plain": [
       "45"
      ]
     },
     "execution_count": 19,
     "metadata": {},
     "output_type": "execute_result"
    }
   ],
   "source": [
    "b"
   ]
  },
  {
   "cell_type": "code",
   "execution_count": 20,
   "id": "ebc543a6",
   "metadata": {
    "execution": {
     "iopub.execute_input": "2025-05-21T14:54:58.725163Z",
     "iopub.status.busy": "2025-05-21T14:54:58.724164Z",
     "iopub.status.idle": "2025-05-21T14:54:58.739167Z",
     "shell.execute_reply": "2025-05-21T14:54:58.737160Z",
     "shell.execute_reply.started": "2025-05-21T14:54:58.725163Z"
    }
   },
   "outputs": [
    {
     "data": {
      "text/plain": [
       "234.56"
      ]
     },
     "execution_count": 20,
     "metadata": {},
     "output_type": "execute_result"
    }
   ],
   "source": [
    "c"
   ]
  },
  {
   "cell_type": "code",
   "execution_count": 21,
   "id": "b211e80b",
   "metadata": {
    "execution": {
     "iopub.execute_input": "2025-05-21T14:54:58.907163Z",
     "iopub.status.busy": "2025-05-21T14:54:58.906165Z",
     "iopub.status.idle": "2025-05-21T14:54:58.928164Z",
     "shell.execute_reply": "2025-05-21T14:54:58.927161Z",
     "shell.execute_reply.started": "2025-05-21T14:54:58.907163Z"
    }
   },
   "outputs": [],
   "source": [
    "def test4(a,b):\n",
    "    return a,b"
   ]
  },
  {
   "cell_type": "code",
   "execution_count": 22,
   "id": "eaf8eda2",
   "metadata": {
    "execution": {
     "iopub.execute_input": "2025-05-21T14:54:59.109162Z",
     "iopub.status.busy": "2025-05-21T14:54:59.108164Z",
     "iopub.status.idle": "2025-05-21T14:54:59.121162Z",
     "shell.execute_reply": "2025-05-21T14:54:59.119166Z",
     "shell.execute_reply.started": "2025-05-21T14:54:59.109162Z"
    }
   },
   "outputs": [
    {
     "data": {
      "text/plain": [
       "('sudh', 45454)"
      ]
     },
     "execution_count": 22,
     "metadata": {},
     "output_type": "execute_result"
    }
   ],
   "source": [
    "test4(\"sudh\",45454)"
   ]
  },
  {
   "cell_type": "code",
   "execution_count": 23,
   "id": "e6efe32a",
   "metadata": {
    "execution": {
     "iopub.execute_input": "2025-05-21T14:54:59.330551Z",
     "iopub.status.busy": "2025-05-21T14:54:59.330551Z",
     "iopub.status.idle": "2025-05-21T14:54:59.341554Z",
     "shell.execute_reply": "2025-05-21T14:54:59.339554Z",
     "shell.execute_reply.started": "2025-05-21T14:54:59.330551Z"
    }
   },
   "outputs": [],
   "source": [
    "def add(a,b):\n",
    "    return a+b"
   ]
  },
  {
   "cell_type": "code",
   "execution_count": 24,
   "id": "c830c0b8",
   "metadata": {
    "execution": {
     "iopub.execute_input": "2025-05-21T14:54:59.532176Z",
     "iopub.status.busy": "2025-05-21T14:54:59.531169Z",
     "iopub.status.idle": "2025-05-21T14:54:59.547173Z",
     "shell.execute_reply": "2025-05-21T14:54:59.546168Z",
     "shell.execute_reply.started": "2025-05-21T14:54:59.532176Z"
    }
   },
   "outputs": [
    {
     "data": {
      "text/plain": [
       "9"
      ]
     },
     "execution_count": 24,
     "metadata": {},
     "output_type": "execute_result"
    }
   ],
   "source": [
    "add(4,5)"
   ]
  },
  {
   "cell_type": "code",
   "execution_count": 25,
   "id": "fa603c08",
   "metadata": {
    "execution": {
     "iopub.execute_input": "2025-05-21T14:54:59.687167Z",
     "iopub.status.busy": "2025-05-21T14:54:59.686170Z",
     "iopub.status.idle": "2025-05-21T14:54:59.707164Z",
     "shell.execute_reply": "2025-05-21T14:54:59.705175Z",
     "shell.execute_reply.started": "2025-05-21T14:54:59.687167Z"
    }
   },
   "outputs": [],
   "source": [
    "def sub(a,b):\n",
    "    return a-b"
   ]
  },
  {
   "cell_type": "code",
   "execution_count": 26,
   "id": "14f2af5a",
   "metadata": {
    "execution": {
     "iopub.execute_input": "2025-05-21T14:54:59.858349Z",
     "iopub.status.busy": "2025-05-21T14:54:59.857351Z",
     "iopub.status.idle": "2025-05-21T14:54:59.882351Z",
     "shell.execute_reply": "2025-05-21T14:54:59.880344Z",
     "shell.execute_reply.started": "2025-05-21T14:54:59.858349Z"
    }
   },
   "outputs": [
    {
     "data": {
      "text/plain": [
       "-4011"
      ]
     },
     "execution_count": 26,
     "metadata": {},
     "output_type": "execute_result"
    }
   ],
   "source": [
    "sub(345,4356)"
   ]
  },
  {
   "cell_type": "code",
   "execution_count": 27,
   "id": "3276a4db",
   "metadata": {
    "execution": {
     "iopub.execute_input": "2025-05-21T14:55:00.028351Z",
     "iopub.status.busy": "2025-05-21T14:55:00.027349Z",
     "iopub.status.idle": "2025-05-21T14:55:00.041348Z",
     "shell.execute_reply": "2025-05-21T14:55:00.040349Z",
     "shell.execute_reply.started": "2025-05-21T14:55:00.028351Z"
    }
   },
   "outputs": [],
   "source": [
    "def is_even(a):\n",
    "    return a%2 ==0"
   ]
  },
  {
   "cell_type": "code",
   "execution_count": 28,
   "id": "828c5fe2",
   "metadata": {
    "execution": {
     "iopub.execute_input": "2025-05-21T14:55:00.218375Z",
     "iopub.status.busy": "2025-05-21T14:55:00.217378Z",
     "iopub.status.idle": "2025-05-21T14:55:00.233381Z",
     "shell.execute_reply": "2025-05-21T14:55:00.231373Z",
     "shell.execute_reply.started": "2025-05-21T14:55:00.218375Z"
    }
   },
   "outputs": [
    {
     "data": {
      "text/plain": [
       "False"
      ]
     },
     "execution_count": 28,
     "metadata": {},
     "output_type": "execute_result"
    }
   ],
   "source": [
    "is_even(345)"
   ]
  },
  {
   "cell_type": "code",
   "execution_count": 29,
   "id": "56450dc2",
   "metadata": {
    "execution": {
     "iopub.execute_input": "2025-05-21T14:55:00.383381Z",
     "iopub.status.busy": "2025-05-21T14:55:00.382376Z",
     "iopub.status.idle": "2025-05-21T14:55:00.392377Z",
     "shell.execute_reply": "2025-05-21T14:55:00.390379Z",
     "shell.execute_reply.started": "2025-05-21T14:55:00.383381Z"
    }
   },
   "outputs": [],
   "source": [
    "def pow(x,y):\n",
    "    return x**y"
   ]
  },
  {
   "cell_type": "code",
   "execution_count": 30,
   "id": "c974b890",
   "metadata": {
    "execution": {
     "iopub.execute_input": "2025-05-21T14:55:00.571127Z",
     "iopub.status.busy": "2025-05-21T14:55:00.570127Z",
     "iopub.status.idle": "2025-05-21T14:55:00.582130Z",
     "shell.execute_reply": "2025-05-21T14:55:00.581127Z",
     "shell.execute_reply.started": "2025-05-21T14:55:00.571127Z"
    }
   },
   "outputs": [
    {
     "data": {
      "text/plain": [
       "16"
      ]
     },
     "execution_count": 30,
     "metadata": {},
     "output_type": "execute_result"
    }
   ],
   "source": [
    "pow(2,4)"
   ]
  },
  {
   "cell_type": "code",
   "execution_count": 31,
   "id": "439fe932",
   "metadata": {
    "execution": {
     "iopub.execute_input": "2025-05-21T14:55:00.732513Z",
     "iopub.status.busy": "2025-05-21T14:55:00.732513Z",
     "iopub.status.idle": "2025-05-21T14:55:00.741519Z",
     "shell.execute_reply": "2025-05-21T14:55:00.740515Z",
     "shell.execute_reply.started": "2025-05-21T14:55:00.732513Z"
    }
   },
   "outputs": [],
   "source": [
    "def average(a,b,c=0):\n",
    "    return a+b+c/3"
   ]
  },
  {
   "cell_type": "code",
   "execution_count": 32,
   "id": "c53a26b5",
   "metadata": {
    "execution": {
     "iopub.execute_input": "2025-05-21T14:55:00.901179Z",
     "iopub.status.busy": "2025-05-21T14:55:00.900181Z",
     "iopub.status.idle": "2025-05-21T14:55:00.917181Z",
     "shell.execute_reply": "2025-05-21T14:55:00.916178Z",
     "shell.execute_reply.started": "2025-05-21T14:55:00.901179Z"
    }
   },
   "outputs": [
    {
     "data": {
      "text/plain": [
       "11.0"
      ]
     },
     "execution_count": 32,
     "metadata": {},
     "output_type": "execute_result"
    }
   ],
   "source": [
    "average(4,5,6)"
   ]
  },
  {
   "cell_type": "code",
   "execution_count": 33,
   "id": "f2f30931",
   "metadata": {
    "execution": {
     "iopub.execute_input": "2025-05-21T14:55:01.065406Z",
     "iopub.status.busy": "2025-05-21T14:55:01.065406Z",
     "iopub.status.idle": "2025-05-21T14:55:01.091401Z",
     "shell.execute_reply": "2025-05-21T14:55:01.090400Z",
     "shell.execute_reply.started": "2025-05-21T14:55:01.065406Z"
    }
   },
   "outputs": [
    {
     "data": {
      "text/plain": [
       "9.0"
      ]
     },
     "execution_count": 33,
     "metadata": {},
     "output_type": "execute_result"
    }
   ],
   "source": [
    "average(4,5)"
   ]
  },
  {
   "cell_type": "code",
   "execution_count": 34,
   "id": "d73391b8",
   "metadata": {
    "execution": {
     "iopub.execute_input": "2025-05-21T14:55:01.228397Z",
     "iopub.status.busy": "2025-05-21T14:55:01.227397Z",
     "iopub.status.idle": "2025-05-21T14:55:01.250397Z",
     "shell.execute_reply": "2025-05-21T14:55:01.249398Z",
     "shell.execute_reply.started": "2025-05-21T14:55:01.228397Z"
    }
   },
   "outputs": [],
   "source": [
    "def course_discount(price , discount = 100):\n",
    "    final_price = price -discount\n",
    "    return final_price"
   ]
  },
  {
   "cell_type": "code",
   "execution_count": 35,
   "id": "716a6e8f",
   "metadata": {
    "execution": {
     "iopub.execute_input": "2025-05-21T14:55:01.401399Z",
     "iopub.status.busy": "2025-05-21T14:55:01.400399Z",
     "iopub.status.idle": "2025-05-21T14:55:01.425403Z",
     "shell.execute_reply": "2025-05-21T14:55:01.424404Z",
     "shell.execute_reply.started": "2025-05-21T14:55:01.401399Z"
    }
   },
   "outputs": [
    {
     "data": {
      "text/plain": [
       "3399"
      ]
     },
     "execution_count": 35,
     "metadata": {},
     "output_type": "execute_result"
    }
   ],
   "source": [
    "course_discount(3499)"
   ]
  },
  {
   "cell_type": "code",
   "execution_count": 36,
   "id": "1a37e529",
   "metadata": {
    "execution": {
     "iopub.execute_input": "2025-05-21T14:55:01.580402Z",
     "iopub.status.busy": "2025-05-21T14:55:01.580402Z",
     "iopub.status.idle": "2025-05-21T14:55:01.599401Z",
     "shell.execute_reply": "2025-05-21T14:55:01.598394Z",
     "shell.execute_reply.started": "2025-05-21T14:55:01.580402Z"
    }
   },
   "outputs": [
    {
     "data": {
      "text/plain": [
       "2999"
      ]
     },
     "execution_count": 36,
     "metadata": {},
     "output_type": "execute_result"
    }
   ],
   "source": [
    "course_discount(3499,500)"
   ]
  },
  {
   "cell_type": "code",
   "execution_count": 37,
   "id": "7b62add9",
   "metadata": {
    "execution": {
     "iopub.execute_input": "2025-05-21T14:55:01.765400Z",
     "iopub.status.busy": "2025-05-21T14:55:01.764398Z",
     "iopub.status.idle": "2025-05-21T14:55:01.776403Z",
     "shell.execute_reply": "2025-05-21T14:55:01.774397Z",
     "shell.execute_reply.started": "2025-05-21T14:55:01.764398Z"
    }
   },
   "outputs": [],
   "source": [
    "def add(a:int,b:int)-> str:\n",
    "    return a+b"
   ]
  },
  {
   "cell_type": "code",
   "execution_count": 38,
   "id": "d07a425c",
   "metadata": {
    "execution": {
     "iopub.execute_input": "2025-05-21T14:55:01.967330Z",
     "iopub.status.busy": "2025-05-21T14:55:01.966325Z",
     "iopub.status.idle": "2025-05-21T14:55:01.980321Z",
     "shell.execute_reply": "2025-05-21T14:55:01.978338Z",
     "shell.execute_reply.started": "2025-05-21T14:55:01.967330Z"
    }
   },
   "outputs": [
    {
     "data": {
      "text/plain": [
       "'sudheuron'"
      ]
     },
     "execution_count": 38,
     "metadata": {},
     "output_type": "execute_result"
    }
   ],
   "source": [
    "add(\"sudh\",\"euron\")"
   ]
  },
  {
   "cell_type": "code",
   "execution_count": 39,
   "id": "1eb09853",
   "metadata": {
    "execution": {
     "iopub.execute_input": "2025-05-21T14:55:02.166365Z",
     "iopub.status.busy": "2025-05-21T14:55:02.166365Z",
     "iopub.status.idle": "2025-05-21T14:55:02.186340Z",
     "shell.execute_reply": "2025-05-21T14:55:02.185340Z",
     "shell.execute_reply.started": "2025-05-21T14:55:02.166365Z"
    }
   },
   "outputs": [],
   "source": [
    "def add(a,b):\n",
    "    \"\"\"this function is created by me sudhanshu kumar\n",
    "    and this function will take input of two intger and give you an \n",
    "    output of its input data\"\"\"\n",
    "    \n",
    "    return a+b"
   ]
  },
  {
   "cell_type": "code",
   "execution_count": 40,
   "id": "9e43b489",
   "metadata": {
    "execution": {
     "iopub.execute_input": "2025-05-21T14:55:02.339339Z",
     "iopub.status.busy": "2025-05-21T14:55:02.338342Z",
     "iopub.status.idle": "2025-05-21T14:55:02.377340Z",
     "shell.execute_reply": "2025-05-21T14:55:02.375336Z",
     "shell.execute_reply.started": "2025-05-21T14:55:02.339339Z"
    }
   },
   "outputs": [
    {
     "ename": "TypeError",
     "evalue": "add() missing 2 required positional arguments: 'a' and 'b'",
     "output_type": "error",
     "traceback": [
      "\u001b[1;31m---------------------------------------------------------------------------\u001b[0m",
      "\u001b[1;31mTypeError\u001b[0m                                 Traceback (most recent call last)",
      "Cell \u001b[1;32mIn[40], line 1\u001b[0m\n\u001b[1;32m----> 1\u001b[0m \u001b[43madd\u001b[49m\u001b[43m(\u001b[49m\u001b[43m)\u001b[49m\n",
      "\u001b[1;31mTypeError\u001b[0m: add() missing 2 required positional arguments: 'a' and 'b'"
     ]
    }
   ],
   "source": [
    "add()"
   ]
  },
  {
   "cell_type": "code",
   "execution_count": null,
   "id": "e6fa9173-368c-488a-aedb-b2a3b4d2fa1e",
   "metadata": {},
   "outputs": [],
   "source": []
  },
  {
   "cell_type": "markdown",
   "id": "086b73bf-0e28-4367-a11d-014911650c12",
   "metadata": {},
   "source": [
    "<center> <h2> Positional, Keyword, Default Args </h2> </center>"
   ]
  },
  {
   "cell_type": "code",
   "execution_count": 41,
   "id": "eb078783-32f9-426b-87c0-e8892a7df678",
   "metadata": {
    "execution": {
     "iopub.execute_input": "2025-05-21T14:55:03.392373Z",
     "iopub.status.busy": "2025-05-21T14:55:03.392373Z",
     "iopub.status.idle": "2025-05-21T14:55:03.408335Z",
     "shell.execute_reply": "2025-05-21T14:55:03.406339Z",
     "shell.execute_reply.started": "2025-05-21T14:55:03.392373Z"
    }
   },
   "outputs": [],
   "source": [
    "def add(a,b):\n",
    "    print(a)\n",
    "    print(b)\n",
    "    return a+b"
   ]
  },
  {
   "cell_type": "code",
   "execution_count": 42,
   "id": "e9260850-8c84-4fea-8b8d-320ca534a477",
   "metadata": {
    "execution": {
     "iopub.execute_input": "2025-05-21T14:55:03.559456Z",
     "iopub.status.busy": "2025-05-21T14:55:03.558458Z",
     "iopub.status.idle": "2025-05-21T14:55:03.581459Z",
     "shell.execute_reply": "2025-05-21T14:55:03.580458Z",
     "shell.execute_reply.started": "2025-05-21T14:55:03.559456Z"
    }
   },
   "outputs": [
    {
     "name": "stdout",
     "output_type": "stream",
     "text": [
      "34\n",
      "45\n"
     ]
    },
    {
     "data": {
      "text/plain": [
       "79"
      ]
     },
     "execution_count": 42,
     "metadata": {},
     "output_type": "execute_result"
    }
   ],
   "source": [
    "add(34,45)"
   ]
  },
  {
   "cell_type": "code",
   "execution_count": 43,
   "id": "d3b46422-4af1-4c2e-8c08-dbdb05cb335c",
   "metadata": {
    "execution": {
     "iopub.execute_input": "2025-05-21T14:55:03.750457Z",
     "iopub.status.busy": "2025-05-21T14:55:03.749457Z",
     "iopub.status.idle": "2025-05-21T14:55:03.772456Z",
     "shell.execute_reply": "2025-05-21T14:55:03.771454Z",
     "shell.execute_reply.started": "2025-05-21T14:55:03.750457Z"
    }
   },
   "outputs": [
    {
     "name": "stdout",
     "output_type": "stream",
     "text": [
      "345\n",
      "4545\n"
     ]
    },
    {
     "data": {
      "text/plain": [
       "4890"
      ]
     },
     "execution_count": 43,
     "metadata": {},
     "output_type": "execute_result"
    }
   ],
   "source": [
    "add(b = 4545, a = 345)"
   ]
  },
  {
   "cell_type": "code",
   "execution_count": 44,
   "id": "3518a0f1-c541-4256-a50f-c42ce6423223",
   "metadata": {
    "execution": {
     "iopub.execute_input": "2025-05-21T14:55:04.171459Z",
     "iopub.status.busy": "2025-05-21T14:55:04.170485Z",
     "iopub.status.idle": "2025-05-21T14:55:04.185496Z",
     "shell.execute_reply": "2025-05-21T14:55:04.184459Z",
     "shell.execute_reply.started": "2025-05-21T14:55:04.171459Z"
    }
   },
   "outputs": [],
   "source": [
    "def registration(name , maild_id,phone_no):\n",
    "    print(name,maild_id,phone_no)"
   ]
  },
  {
   "cell_type": "code",
   "execution_count": 45,
   "id": "301c68a7-3f0e-4ea1-901f-b31893c23e85",
   "metadata": {
    "execution": {
     "iopub.execute_input": "2025-05-21T14:55:04.205458Z",
     "iopub.status.busy": "2025-05-21T14:55:04.204461Z",
     "iopub.status.idle": "2025-05-21T14:55:04.218458Z",
     "shell.execute_reply": "2025-05-21T14:55:04.216454Z",
     "shell.execute_reply.started": "2025-05-21T14:55:04.205458Z"
    }
   },
   "outputs": [
    {
     "name": "stdout",
     "output_type": "stream",
     "text": [
      "sudhanshu sudhanshu@euron.one 325454543\n"
     ]
    }
   ],
   "source": [
    "registration(\"sudhanshu\",\"sudhanshu@euron.one\",\"325454543\")"
   ]
  },
  {
   "cell_type": "code",
   "execution_count": 46,
   "id": "8b370e04-6d8c-4730-b364-bd70e8a50fc6",
   "metadata": {
    "execution": {
     "iopub.execute_input": "2025-05-21T14:55:04.274460Z",
     "iopub.status.busy": "2025-05-21T14:55:04.274460Z",
     "iopub.status.idle": "2025-05-21T14:55:04.298456Z",
     "shell.execute_reply": "2025-05-21T14:55:04.296455Z",
     "shell.execute_reply.started": "2025-05-21T14:55:04.274460Z"
    }
   },
   "outputs": [
    {
     "name": "stdout",
     "output_type": "stream",
     "text": [
      "sudhanshu sudhanshu@euron.one 325454543\n"
     ]
    }
   ],
   "source": [
    "registration(maild_id=\"sudhanshu@euron.one\",name=\"sudhanshu\",phone_no=\"325454543\")"
   ]
  },
  {
   "cell_type": "code",
   "execution_count": 47,
   "id": "0092fbaf-b74e-4dc5-9a36-fb4181aba2fe",
   "metadata": {
    "execution": {
     "iopub.execute_input": "2025-05-21T14:55:04.468459Z",
     "iopub.status.busy": "2025-05-21T14:55:04.467458Z",
     "iopub.status.idle": "2025-05-21T14:55:04.488459Z",
     "shell.execute_reply": "2025-05-21T14:55:04.486461Z",
     "shell.execute_reply.started": "2025-05-21T14:55:04.468459Z"
    }
   },
   "outputs": [],
   "source": [
    "def registration(name, mail_id , phone_no , batch = \"python\"):\n",
    "    return name,mail_id,phone_no,batch"
   ]
  },
  {
   "cell_type": "code",
   "execution_count": 48,
   "id": "dfa0b2fd-90ee-4ae5-881f-1927fc934c5f",
   "metadata": {
    "execution": {
     "iopub.execute_input": "2025-05-21T14:55:04.647465Z",
     "iopub.status.busy": "2025-05-21T14:55:04.647465Z",
     "iopub.status.idle": "2025-05-21T14:55:04.677466Z",
     "shell.execute_reply": "2025-05-21T14:55:04.675463Z",
     "shell.execute_reply.started": "2025-05-21T14:55:04.647465Z"
    }
   },
   "outputs": [
    {
     "data": {
      "text/plain": [
       "('sudh', 'sudh@euron.one', 456456546, 'python with dsa')"
      ]
     },
     "execution_count": 48,
     "metadata": {},
     "output_type": "execute_result"
    }
   ],
   "source": [
    "registration(name = \"sudh\",mail_id= \"sudh@euron.one\",phone_no=456456546,batch=\"python with dsa\")"
   ]
  },
  {
   "cell_type": "code",
   "execution_count": null,
   "id": "c652906c-8718-4e75-a665-0a2cc354e1be",
   "metadata": {},
   "outputs": [],
   "source": []
  },
  {
   "cell_type": "markdown",
   "id": "6b3b3b6d-c167-4ba3-ab7d-52714001fdd3",
   "metadata": {},
   "source": [
    "<center> <h2> Args,Kwargs, Syntax </h2> </center>"
   ]
  },
  {
   "cell_type": "code",
   "execution_count": 49,
   "id": "ae336288-458e-41c0-9868-6d26bb3bed5e",
   "metadata": {
    "execution": {
     "iopub.execute_input": "2025-05-21T14:55:05.191351Z",
     "iopub.status.busy": "2025-05-21T14:55:05.191351Z",
     "iopub.status.idle": "2025-05-21T14:55:05.200386Z",
     "shell.execute_reply": "2025-05-21T14:55:05.198352Z",
     "shell.execute_reply.started": "2025-05-21T14:55:05.191351Z"
    }
   },
   "outputs": [],
   "source": [
    "def add(a,b):\n",
    "    return a+b"
   ]
  },
  {
   "cell_type": "code",
   "execution_count": 50,
   "id": "11b4e0cd-653b-4de3-adcd-a96f7ccccbde",
   "metadata": {
    "execution": {
     "iopub.execute_input": "2025-05-21T14:55:05.387379Z",
     "iopub.status.busy": "2025-05-21T14:55:05.386382Z",
     "iopub.status.idle": "2025-05-21T14:55:05.406124Z",
     "shell.execute_reply": "2025-05-21T14:55:05.404605Z",
     "shell.execute_reply.started": "2025-05-21T14:55:05.387379Z"
    }
   },
   "outputs": [
    {
     "data": {
      "text/plain": [
       "11"
      ]
     },
     "execution_count": 50,
     "metadata": {},
     "output_type": "execute_result"
    }
   ],
   "source": [
    "add(5,6)"
   ]
  },
  {
   "cell_type": "code",
   "execution_count": 51,
   "id": "948c88d7-374c-41f7-8cf2-b02e02cc4050",
   "metadata": {
    "execution": {
     "iopub.execute_input": "2025-05-21T14:55:05.564140Z",
     "iopub.status.busy": "2025-05-21T14:55:05.563136Z",
     "iopub.status.idle": "2025-05-21T14:55:05.581141Z",
     "shell.execute_reply": "2025-05-21T14:55:05.579139Z",
     "shell.execute_reply.started": "2025-05-21T14:55:05.564140Z"
    }
   },
   "outputs": [],
   "source": [
    "def add(*args):\n",
    "    print(args)"
   ]
  },
  {
   "cell_type": "code",
   "execution_count": 52,
   "id": "0c909c59-62a2-4d63-b79b-fb30516e4a3b",
   "metadata": {
    "execution": {
     "iopub.execute_input": "2025-05-21T14:55:05.748515Z",
     "iopub.status.busy": "2025-05-21T14:55:05.747513Z",
     "iopub.status.idle": "2025-05-21T14:55:05.771507Z",
     "shell.execute_reply": "2025-05-21T14:55:05.769513Z",
     "shell.execute_reply.started": "2025-05-21T14:55:05.748515Z"
    }
   },
   "outputs": [
    {
     "name": "stdout",
     "output_type": "stream",
     "text": [
      "(4, 5, 6, 7, 8, 8, 9)\n"
     ]
    }
   ],
   "source": [
    "add(4,5,6,7,8,8,9)"
   ]
  },
  {
   "cell_type": "code",
   "execution_count": 53,
   "id": "eae1a977-b3ef-4839-898d-f8b233682811",
   "metadata": {
    "execution": {
     "iopub.execute_input": "2025-05-21T14:55:05.941210Z",
     "iopub.status.busy": "2025-05-21T14:55:05.940196Z",
     "iopub.status.idle": "2025-05-21T14:55:05.961203Z",
     "shell.execute_reply": "2025-05-21T14:55:05.959201Z",
     "shell.execute_reply.started": "2025-05-21T14:55:05.941210Z"
    }
   },
   "outputs": [
    {
     "name": "stdout",
     "output_type": "stream",
     "text": [
      "(4, 5, 6, 7, 7, 8, 9, 0)\n"
     ]
    }
   ],
   "source": [
    "add(4,5,6,7,7,8,9,0)"
   ]
  },
  {
   "cell_type": "code",
   "execution_count": 54,
   "id": "a532b2d0-c56e-4590-ab8e-32ce33d8e018",
   "metadata": {
    "execution": {
     "iopub.execute_input": "2025-05-21T14:55:06.121227Z",
     "iopub.status.busy": "2025-05-21T14:55:06.120233Z",
     "iopub.status.idle": "2025-05-21T14:55:06.136230Z",
     "shell.execute_reply": "2025-05-21T14:55:06.134228Z",
     "shell.execute_reply.started": "2025-05-21T14:55:06.121227Z"
    }
   },
   "outputs": [],
   "source": [
    "def add(*euron):\n",
    "    print(euron)"
   ]
  },
  {
   "cell_type": "code",
   "execution_count": 55,
   "id": "ce726b57-b301-48ca-95e2-335efd76790c",
   "metadata": {
    "execution": {
     "iopub.execute_input": "2025-05-21T14:55:06.276285Z",
     "iopub.status.busy": "2025-05-21T14:55:06.274290Z",
     "iopub.status.idle": "2025-05-21T14:55:06.294283Z",
     "shell.execute_reply": "2025-05-21T14:55:06.293283Z",
     "shell.execute_reply.started": "2025-05-21T14:55:06.276285Z"
    }
   },
   "outputs": [
    {
     "name": "stdout",
     "output_type": "stream",
     "text": [
      "(5, 6, 7, 8, 9, 0, 4, 45)\n"
     ]
    }
   ],
   "source": [
    "add(5,6,7,8,9,0,4,45)"
   ]
  },
  {
   "cell_type": "code",
   "execution_count": 56,
   "id": "e58a5959-c254-4471-b767-56e41d6153ca",
   "metadata": {
    "execution": {
     "iopub.execute_input": "2025-05-21T14:55:06.466287Z",
     "iopub.status.busy": "2025-05-21T14:55:06.465283Z",
     "iopub.status.idle": "2025-05-21T14:55:06.485285Z",
     "shell.execute_reply": "2025-05-21T14:55:06.484284Z",
     "shell.execute_reply.started": "2025-05-21T14:55:06.466287Z"
    }
   },
   "outputs": [],
   "source": [
    "def add(*sudh):\n",
    "    print(sudh)\n",
    "    j = 0 \n",
    "    for i in sudh:\n",
    "        j = j+i\n",
    "    return j "
   ]
  },
  {
   "cell_type": "code",
   "execution_count": 57,
   "id": "8f2a0c9a-7a01-45b4-bd2a-dda67aa4eb6a",
   "metadata": {
    "execution": {
     "iopub.execute_input": "2025-05-21T14:55:06.655487Z",
     "iopub.status.busy": "2025-05-21T14:55:06.654489Z",
     "iopub.status.idle": "2025-05-21T14:55:06.675489Z",
     "shell.execute_reply": "2025-05-21T14:55:06.674485Z",
     "shell.execute_reply.started": "2025-05-21T14:55:06.655487Z"
    }
   },
   "outputs": [
    {
     "name": "stdout",
     "output_type": "stream",
     "text": [
      "(4, 56, 56, 454, 65, 65, 67, 76)\n"
     ]
    },
    {
     "data": {
      "text/plain": [
       "843"
      ]
     },
     "execution_count": 57,
     "metadata": {},
     "output_type": "execute_result"
    }
   ],
   "source": [
    "add(4,56,56,454,65,65,67,76)"
   ]
  },
  {
   "cell_type": "code",
   "execution_count": 58,
   "id": "b99c7a49-a576-4dfb-a913-5e73cbd68e8a",
   "metadata": {
    "execution": {
     "iopub.execute_input": "2025-05-21T14:55:06.818111Z",
     "iopub.status.busy": "2025-05-21T14:55:06.817112Z",
     "iopub.status.idle": "2025-05-21T14:55:06.834654Z",
     "shell.execute_reply": "2025-05-21T14:55:06.833659Z",
     "shell.execute_reply.started": "2025-05-21T14:55:06.818111Z"
    }
   },
   "outputs": [],
   "source": [
    "def multiply_all(factor , *sudh):\n",
    "    return  factor*sudh"
   ]
  },
  {
   "cell_type": "code",
   "execution_count": 59,
   "id": "9c6b9d44-0506-49e0-b2f4-486394c05da4",
   "metadata": {
    "execution": {
     "iopub.execute_input": "2025-05-21T14:55:07.000332Z",
     "iopub.status.busy": "2025-05-21T14:55:06.999338Z",
     "iopub.status.idle": "2025-05-21T14:55:07.024699Z",
     "shell.execute_reply": "2025-05-21T14:55:07.023335Z",
     "shell.execute_reply.started": "2025-05-21T14:55:07.000332Z"
    }
   },
   "outputs": [
    {
     "data": {
      "text/plain": [
       "(5, 6, 7, 8, 89, 9, 5, 6, 7, 8, 89, 9)"
      ]
     },
     "execution_count": 59,
     "metadata": {},
     "output_type": "execute_result"
    }
   ],
   "source": [
    "multiply_all(2,5,6,7,8,89,9)"
   ]
  },
  {
   "cell_type": "code",
   "execution_count": 60,
   "id": "1eaaa208-7e90-42bc-a9c3-e3886c752e19",
   "metadata": {
    "execution": {
     "iopub.execute_input": "2025-05-21T14:55:07.202189Z",
     "iopub.status.busy": "2025-05-21T14:55:07.201192Z",
     "iopub.status.idle": "2025-05-21T14:55:07.214192Z",
     "shell.execute_reply": "2025-05-21T14:55:07.212191Z",
     "shell.execute_reply.started": "2025-05-21T14:55:07.202189Z"
    }
   },
   "outputs": [],
   "source": [
    "def profile(**kwargs):\n",
    "    for i in kwargs.items():\n",
    "        print(i)"
   ]
  },
  {
   "cell_type": "code",
   "execution_count": 61,
   "id": "1287b417-5e9a-47fc-bdef-68b88ebb25e0",
   "metadata": {
    "execution": {
     "iopub.execute_input": "2025-05-21T14:55:07.397190Z",
     "iopub.status.busy": "2025-05-21T14:55:07.396195Z",
     "iopub.status.idle": "2025-05-21T14:55:07.405200Z",
     "shell.execute_reply": "2025-05-21T14:55:07.403191Z",
     "shell.execute_reply.started": "2025-05-21T14:55:07.397190Z"
    }
   },
   "outputs": [],
   "source": [
    "profile()"
   ]
  },
  {
   "cell_type": "code",
   "execution_count": 62,
   "id": "c1930dd2-278b-4ce1-962f-d89e512e0cd9",
   "metadata": {
    "execution": {
     "iopub.execute_input": "2025-05-21T14:55:07.555220Z",
     "iopub.status.busy": "2025-05-21T14:55:07.554214Z",
     "iopub.status.idle": "2025-05-21T14:55:07.564217Z",
     "shell.execute_reply": "2025-05-21T14:55:07.562220Z",
     "shell.execute_reply.started": "2025-05-21T14:55:07.555220Z"
    }
   },
   "outputs": [
    {
     "name": "stdout",
     "output_type": "stream",
     "text": [
      "('name', 'sudh')\n",
      "('batch', 'python')\n"
     ]
    }
   ],
   "source": [
    "profile(name = \"sudh\",batch = \"python\")"
   ]
  },
  {
   "cell_type": "code",
   "execution_count": 63,
   "id": "79e99586-e1d2-4505-bd8a-3be09febda96",
   "metadata": {
    "execution": {
     "iopub.execute_input": "2025-05-21T14:55:07.746216Z",
     "iopub.status.busy": "2025-05-21T14:55:07.745214Z",
     "iopub.status.idle": "2025-05-21T14:55:07.753219Z",
     "shell.execute_reply": "2025-05-21T14:55:07.752219Z",
     "shell.execute_reply.started": "2025-05-21T14:55:07.746216Z"
    }
   },
   "outputs": [],
   "source": [
    "def mix_fun(*sudh,**euron):\n",
    "    return sudh,euron"
   ]
  },
  {
   "cell_type": "code",
   "execution_count": 64,
   "id": "7fc80afa-a5fa-49c0-903d-d14a1ba46f64",
   "metadata": {
    "execution": {
     "iopub.execute_input": "2025-05-21T14:55:07.949389Z",
     "iopub.status.busy": "2025-05-21T14:55:07.948388Z",
     "iopub.status.idle": "2025-05-21T14:55:07.974404Z",
     "shell.execute_reply": "2025-05-21T14:55:07.972393Z",
     "shell.execute_reply.started": "2025-05-21T14:55:07.949389Z"
    }
   },
   "outputs": [
    {
     "data": {
      "text/plain": [
       "((), {})"
      ]
     },
     "execution_count": 64,
     "metadata": {},
     "output_type": "execute_result"
    }
   ],
   "source": [
    "mix_fun()"
   ]
  },
  {
   "cell_type": "code",
   "execution_count": 65,
   "id": "79956677-c9cc-4028-b5df-47aa06264c0d",
   "metadata": {
    "execution": {
     "iopub.execute_input": "2025-05-21T14:55:08.119160Z",
     "iopub.status.busy": "2025-05-21T14:55:08.118156Z",
     "iopub.status.idle": "2025-05-21T14:55:08.134175Z",
     "shell.execute_reply": "2025-05-21T14:55:08.132163Z",
     "shell.execute_reply.started": "2025-05-21T14:55:08.119160Z"
    }
   },
   "outputs": [
    {
     "data": {
      "text/plain": [
       "((4, 5, 6, 7, 4, 5, 65, 67, 'sudh'), {'name': 'sudh', 'age': 345})"
      ]
     },
     "execution_count": 65,
     "metadata": {},
     "output_type": "execute_result"
    }
   ],
   "source": [
    "mix_fun(4,5,6,7,4,5,65,67,\"sudh\",name = \"sudh\",age = 345)"
   ]
  },
  {
   "cell_type": "code",
   "execution_count": 66,
   "id": "db4cb2f4-785b-4948-b2cf-db74cae7b243",
   "metadata": {
    "execution": {
     "iopub.execute_input": "2025-05-21T14:55:08.401824Z",
     "iopub.status.busy": "2025-05-21T14:55:08.401824Z",
     "iopub.status.idle": "2025-05-21T14:55:08.416368Z",
     "shell.execute_reply": "2025-05-21T14:55:08.415367Z",
     "shell.execute_reply.started": "2025-05-21T14:55:08.401824Z"
    }
   },
   "outputs": [],
   "source": [
    "def great(name,/):\n",
    "    print(f\"you are great  {name}\")"
   ]
  },
  {
   "cell_type": "code",
   "execution_count": 67,
   "id": "ac869f01-8c56-4451-964b-efbb2052fdaa",
   "metadata": {
    "execution": {
     "iopub.execute_input": "2025-05-21T14:55:08.592607Z",
     "iopub.status.busy": "2025-05-21T14:55:08.592607Z",
     "iopub.status.idle": "2025-05-21T14:55:08.607147Z",
     "shell.execute_reply": "2025-05-21T14:55:08.605609Z",
     "shell.execute_reply.started": "2025-05-21T14:55:08.592607Z"
    }
   },
   "outputs": [
    {
     "name": "stdout",
     "output_type": "stream",
     "text": [
      "you are great  sudh\n"
     ]
    }
   ],
   "source": [
    "great(\"sudh\")"
   ]
  },
  {
   "cell_type": "code",
   "execution_count": 68,
   "id": "90fc1dc7-c244-4755-aebd-ac70b6225f80",
   "metadata": {
    "execution": {
     "iopub.execute_input": "2025-05-21T14:55:08.766174Z",
     "iopub.status.busy": "2025-05-21T14:55:08.764169Z",
     "iopub.status.idle": "2025-05-21T14:55:08.811170Z",
     "shell.execute_reply": "2025-05-21T14:55:08.809171Z",
     "shell.execute_reply.started": "2025-05-21T14:55:08.765170Z"
    }
   },
   "outputs": [
    {
     "ename": "TypeError",
     "evalue": "great() got some positional-only arguments passed as keyword arguments: 'name'",
     "output_type": "error",
     "traceback": [
      "\u001b[1;31m---------------------------------------------------------------------------\u001b[0m",
      "\u001b[1;31mTypeError\u001b[0m                                 Traceback (most recent call last)",
      "Cell \u001b[1;32mIn[68], line 1\u001b[0m\n\u001b[1;32m----> 1\u001b[0m \u001b[43mgreat\u001b[49m\u001b[43m(\u001b[49m\u001b[43mname\u001b[49m\u001b[43m \u001b[49m\u001b[38;5;241;43m=\u001b[39;49m\u001b[43m \u001b[49m\u001b[38;5;124;43m\"\u001b[39;49m\u001b[38;5;124;43msudh\u001b[39;49m\u001b[38;5;124;43m\"\u001b[39;49m\u001b[43m)\u001b[49m\n",
      "\u001b[1;31mTypeError\u001b[0m: great() got some positional-only arguments passed as keyword arguments: 'name'"
     ]
    }
   ],
   "source": [
    "great(name = \"sudh\")"
   ]
  },
  {
   "cell_type": "code",
   "execution_count": 69,
   "id": "f4fc1467-f92d-4f35-a14d-d67aa67cd4ea",
   "metadata": {
    "execution": {
     "iopub.execute_input": "2025-05-21T14:55:08.958328Z",
     "iopub.status.busy": "2025-05-21T14:55:08.958328Z",
     "iopub.status.idle": "2025-05-21T14:55:08.984300Z",
     "shell.execute_reply": "2025-05-21T14:55:08.983290Z",
     "shell.execute_reply.started": "2025-05-21T14:55:08.958328Z"
    }
   },
   "outputs": [
    {
     "name": "stdout",
     "output_type": "stream",
     "text": [
      "you are great  sudhanshu\n"
     ]
    }
   ],
   "source": [
    "def great(name):\n",
    "    print(f\"you are great  {name}\")\n",
    "\n",
    "great(name = \"sudhanshu\")"
   ]
  },
  {
   "cell_type": "code",
   "execution_count": 70,
   "id": "e5cad110-9196-4444-8026-b5669849867d",
   "metadata": {
    "execution": {
     "iopub.execute_input": "2025-05-21T14:55:09.149287Z",
     "iopub.status.busy": "2025-05-21T14:55:09.148285Z",
     "iopub.status.idle": "2025-05-21T14:55:09.160288Z",
     "shell.execute_reply": "2025-05-21T14:55:09.159288Z",
     "shell.execute_reply.started": "2025-05-21T14:55:09.149287Z"
    }
   },
   "outputs": [],
   "source": [
    "def add(a,b,c,/):\n",
    "    return a+b+c"
   ]
  },
  {
   "cell_type": "code",
   "execution_count": 71,
   "id": "72639f4f-2705-47e1-8e1a-7c72792265a6",
   "metadata": {
    "execution": {
     "iopub.execute_input": "2025-05-21T14:55:09.433287Z",
     "iopub.status.busy": "2025-05-21T14:55:09.432287Z",
     "iopub.status.idle": "2025-05-21T14:55:09.447288Z",
     "shell.execute_reply": "2025-05-21T14:55:09.445286Z",
     "shell.execute_reply.started": "2025-05-21T14:55:09.433287Z"
    }
   },
   "outputs": [
    {
     "data": {
      "text/plain": [
       "15"
      ]
     },
     "execution_count": 71,
     "metadata": {},
     "output_type": "execute_result"
    }
   ],
   "source": [
    "add(4,5,6)"
   ]
  },
  {
   "cell_type": "code",
   "execution_count": 72,
   "id": "538d7280-6323-41e1-af77-23fc0a92420d",
   "metadata": {
    "execution": {
     "iopub.execute_input": "2025-05-21T14:55:09.664287Z",
     "iopub.status.busy": "2025-05-21T14:55:09.663292Z",
     "iopub.status.idle": "2025-05-21T14:55:09.701286Z",
     "shell.execute_reply": "2025-05-21T14:55:09.699295Z",
     "shell.execute_reply.started": "2025-05-21T14:55:09.664287Z"
    }
   },
   "outputs": [
    {
     "ename": "TypeError",
     "evalue": "add() got some positional-only arguments passed as keyword arguments: 'a, b, c'",
     "output_type": "error",
     "traceback": [
      "\u001b[1;31m---------------------------------------------------------------------------\u001b[0m",
      "\u001b[1;31mTypeError\u001b[0m                                 Traceback (most recent call last)",
      "Cell \u001b[1;32mIn[72], line 1\u001b[0m\n\u001b[1;32m----> 1\u001b[0m \u001b[43madd\u001b[49m\u001b[43m(\u001b[49m\u001b[43mb\u001b[49m\u001b[43m \u001b[49m\u001b[38;5;241;43m=\u001b[39;49m\u001b[43m \u001b[49m\u001b[38;5;241;43m45\u001b[39;49m\u001b[43m,\u001b[49m\u001b[43m \u001b[49m\u001b[43ma\u001b[49m\u001b[43m \u001b[49m\u001b[38;5;241;43m=\u001b[39;49m\u001b[43m \u001b[49m\u001b[38;5;241;43m3\u001b[39;49m\u001b[43m,\u001b[49m\u001b[43mc\u001b[49m\u001b[43m \u001b[49m\u001b[38;5;241;43m=\u001b[39;49m\u001b[43m \u001b[49m\u001b[38;5;241;43m1\u001b[39;49m\u001b[43m)\u001b[49m\n",
      "\u001b[1;31mTypeError\u001b[0m: add() got some positional-only arguments passed as keyword arguments: 'a, b, c'"
     ]
    }
   ],
   "source": [
    "add(b = 45, a = 3,c = 1)"
   ]
  },
  {
   "cell_type": "code",
   "execution_count": 73,
   "id": "da7515b2-bd8c-42a7-9bb0-912960cf500e",
   "metadata": {
    "execution": {
     "iopub.execute_input": "2025-05-21T14:55:09.880285Z",
     "iopub.status.busy": "2025-05-21T14:55:09.879287Z",
     "iopub.status.idle": "2025-05-21T14:55:09.891289Z",
     "shell.execute_reply": "2025-05-21T14:55:09.889290Z",
     "shell.execute_reply.started": "2025-05-21T14:55:09.880285Z"
    }
   },
   "outputs": [],
   "source": [
    "def add(a,b,/,c):\n",
    "    return a+b+c"
   ]
  },
  {
   "cell_type": "code",
   "execution_count": 74,
   "id": "b774e2ba-ace2-4315-80e2-a941b04987ea",
   "metadata": {
    "execution": {
     "iopub.execute_input": "2025-05-21T14:55:10.040288Z",
     "iopub.status.busy": "2025-05-21T14:55:10.039283Z",
     "iopub.status.idle": "2025-05-21T14:55:10.049289Z",
     "shell.execute_reply": "2025-05-21T14:55:10.047302Z",
     "shell.execute_reply.started": "2025-05-21T14:55:10.039283Z"
    }
   },
   "outputs": [],
   "source": [
    "def add(a,b,*,c):\n",
    "    return a+b+c"
   ]
  },
  {
   "cell_type": "code",
   "execution_count": 75,
   "id": "bbfae113-2f7f-4df4-8789-5ae7ef0950e5",
   "metadata": {
    "execution": {
     "iopub.execute_input": "2025-05-21T14:55:10.229291Z",
     "iopub.status.busy": "2025-05-21T14:55:10.228286Z",
     "iopub.status.idle": "2025-05-21T14:55:10.253285Z",
     "shell.execute_reply": "2025-05-21T14:55:10.252283Z",
     "shell.execute_reply.started": "2025-05-21T14:55:10.229291Z"
    }
   },
   "outputs": [
    {
     "data": {
      "text/plain": [
       "15"
      ]
     },
     "execution_count": 75,
     "metadata": {},
     "output_type": "execute_result"
    }
   ],
   "source": [
    "add(b = 4,a = 5,c = 6)"
   ]
  },
  {
   "cell_type": "code",
   "execution_count": null,
   "id": "8e3ee9a1-56a5-4c19-9774-732b1871c8bb",
   "metadata": {},
   "outputs": [],
   "source": []
  },
  {
   "cell_type": "markdown",
   "id": "22df24fe-0284-4653-8596-55637c0c8d42",
   "metadata": {},
   "source": [
    "<center> <h2> Lambda Function </h2> </center>"
   ]
  },
  {
   "cell_type": "code",
   "execution_count": 76,
   "id": "387969c9-9498-48f5-9e66-e6ea90705e1b",
   "metadata": {
    "execution": {
     "iopub.execute_input": "2025-05-21T14:55:10.823461Z",
     "iopub.status.busy": "2025-05-21T14:55:10.823461Z",
     "iopub.status.idle": "2025-05-21T14:55:10.835476Z",
     "shell.execute_reply": "2025-05-21T14:55:10.834463Z",
     "shell.execute_reply.started": "2025-05-21T14:55:10.823461Z"
    }
   },
   "outputs": [],
   "source": [
    "def add(a,b):\n",
    "    return a+b"
   ]
  },
  {
   "cell_type": "code",
   "execution_count": 77,
   "id": "722c6902-30e6-4eed-9143-5fa5422ec29c",
   "metadata": {
    "execution": {
     "iopub.execute_input": "2025-05-21T14:55:11.027402Z",
     "iopub.status.busy": "2025-05-21T14:55:11.026419Z",
     "iopub.status.idle": "2025-05-21T14:55:11.041402Z",
     "shell.execute_reply": "2025-05-21T14:55:11.040400Z",
     "shell.execute_reply.started": "2025-05-21T14:55:11.027402Z"
    }
   },
   "outputs": [
    {
     "data": {
      "text/plain": [
       "9"
      ]
     },
     "execution_count": 77,
     "metadata": {},
     "output_type": "execute_result"
    }
   ],
   "source": [
    "add(4,5)"
   ]
  },
  {
   "cell_type": "code",
   "execution_count": 78,
   "id": "d326e8fd-6cc8-4d01-b7e3-cd0d1cb6e1a2",
   "metadata": {
    "execution": {
     "iopub.execute_input": "2025-05-21T14:55:11.216502Z",
     "iopub.status.busy": "2025-05-21T14:55:11.216502Z",
     "iopub.status.idle": "2025-05-21T14:55:11.231441Z",
     "shell.execute_reply": "2025-05-21T14:55:11.230458Z",
     "shell.execute_reply.started": "2025-05-21T14:55:11.216502Z"
    }
   },
   "outputs": [],
   "source": [
    "c = lambda a,b :a+b"
   ]
  },
  {
   "cell_type": "code",
   "execution_count": 79,
   "id": "e0640fe2-c6cf-4f9e-96e8-7aea4c764758",
   "metadata": {
    "execution": {
     "iopub.execute_input": "2025-05-21T14:55:11.403441Z",
     "iopub.status.busy": "2025-05-21T14:55:11.402443Z",
     "iopub.status.idle": "2025-05-21T14:55:11.421442Z",
     "shell.execute_reply": "2025-05-21T14:55:11.420439Z",
     "shell.execute_reply.started": "2025-05-21T14:55:11.403441Z"
    }
   },
   "outputs": [
    {
     "data": {
      "text/plain": [
       "9"
      ]
     },
     "execution_count": 79,
     "metadata": {},
     "output_type": "execute_result"
    }
   ],
   "source": [
    "c(4,5)"
   ]
  },
  {
   "cell_type": "code",
   "execution_count": 80,
   "id": "635f2320-f6b6-4c55-bdd9-c36071c7e80a",
   "metadata": {
    "execution": {
     "iopub.execute_input": "2025-05-21T14:55:11.613440Z",
     "iopub.status.busy": "2025-05-21T14:55:11.612441Z",
     "iopub.status.idle": "2025-05-21T14:55:11.627445Z",
     "shell.execute_reply": "2025-05-21T14:55:11.626439Z",
     "shell.execute_reply.started": "2025-05-21T14:55:11.613440Z"
    }
   },
   "outputs": [],
   "source": [
    "square = lambda a : a**2 "
   ]
  },
  {
   "cell_type": "code",
   "execution_count": 81,
   "id": "cef98f48-c766-4578-956c-49cc38b42789",
   "metadata": {
    "execution": {
     "iopub.execute_input": "2025-05-21T14:55:11.784439Z",
     "iopub.status.busy": "2025-05-21T14:55:11.783437Z",
     "iopub.status.idle": "2025-05-21T14:55:11.803440Z",
     "shell.execute_reply": "2025-05-21T14:55:11.802441Z",
     "shell.execute_reply.started": "2025-05-21T14:55:11.783437Z"
    }
   },
   "outputs": [
    {
     "data": {
      "text/plain": [
       "36"
      ]
     },
     "execution_count": 81,
     "metadata": {},
     "output_type": "execute_result"
    }
   ],
   "source": [
    "square(6)"
   ]
  },
  {
   "cell_type": "code",
   "execution_count": 82,
   "id": "3f240131-d774-46bd-a1a2-7d2610be25d6",
   "metadata": {
    "execution": {
     "iopub.execute_input": "2025-05-21T14:55:11.996445Z",
     "iopub.status.busy": "2025-05-21T14:55:11.995439Z",
     "iopub.status.idle": "2025-05-21T14:55:12.009443Z",
     "shell.execute_reply": "2025-05-21T14:55:12.008458Z",
     "shell.execute_reply.started": "2025-05-21T14:55:11.996445Z"
    }
   },
   "outputs": [],
   "source": [
    "max = lambda a,b : a if a > b else b"
   ]
  },
  {
   "cell_type": "code",
   "execution_count": 83,
   "id": "f6b298e0-440b-45d4-94ea-81e6fd1f9007",
   "metadata": {
    "execution": {
     "iopub.execute_input": "2025-05-21T14:55:12.197388Z",
     "iopub.status.busy": "2025-05-21T14:55:12.195393Z",
     "iopub.status.idle": "2025-05-21T14:55:12.216394Z",
     "shell.execute_reply": "2025-05-21T14:55:12.215394Z",
     "shell.execute_reply.started": "2025-05-21T14:55:12.197388Z"
    }
   },
   "outputs": [
    {
     "data": {
      "text/plain": [
       "56"
      ]
     },
     "execution_count": 83,
     "metadata": {},
     "output_type": "execute_result"
    }
   ],
   "source": [
    "max(56,34)"
   ]
  },
  {
   "cell_type": "code",
   "execution_count": 84,
   "id": "9ae81221-ab9b-4957-83ee-4df4c5a7d307",
   "metadata": {
    "execution": {
     "iopub.execute_input": "2025-05-21T14:55:12.368545Z",
     "iopub.status.busy": "2025-05-21T14:55:12.367544Z",
     "iopub.status.idle": "2025-05-21T14:55:12.376545Z",
     "shell.execute_reply": "2025-05-21T14:55:12.374566Z",
     "shell.execute_reply.started": "2025-05-21T14:55:12.368545Z"
    }
   },
   "outputs": [],
   "source": [
    "even_odd = lambda number : \"even\" if number%2 == 0 else \"odd\""
   ]
  },
  {
   "cell_type": "code",
   "execution_count": 85,
   "id": "3421f805-b2f5-4eed-91a8-5579115fb73a",
   "metadata": {
    "execution": {
     "iopub.execute_input": "2025-05-21T14:55:12.550198Z",
     "iopub.status.busy": "2025-05-21T14:55:12.549192Z",
     "iopub.status.idle": "2025-05-21T14:55:12.565196Z",
     "shell.execute_reply": "2025-05-21T14:55:12.564193Z",
     "shell.execute_reply.started": "2025-05-21T14:55:12.550198Z"
    }
   },
   "outputs": [
    {
     "data": {
      "text/plain": [
       "'odd'"
      ]
     },
     "execution_count": 85,
     "metadata": {},
     "output_type": "execute_result"
    }
   ],
   "source": [
    "even_odd(45)"
   ]
  },
  {
   "cell_type": "code",
   "execution_count": 86,
   "id": "af54d91f-b636-4207-bc6e-23e688dad322",
   "metadata": {
    "execution": {
     "iopub.execute_input": "2025-05-21T14:55:12.740230Z",
     "iopub.status.busy": "2025-05-21T14:55:12.739227Z",
     "iopub.status.idle": "2025-05-21T14:55:12.754226Z",
     "shell.execute_reply": "2025-05-21T14:55:12.753222Z",
     "shell.execute_reply.started": "2025-05-21T14:55:12.740230Z"
    }
   },
   "outputs": [
    {
     "data": {
      "text/plain": [
       "'even'"
      ]
     },
     "execution_count": 86,
     "metadata": {},
     "output_type": "execute_result"
    }
   ],
   "source": [
    "even_odd(6)"
   ]
  },
  {
   "cell_type": "code",
   "execution_count": null,
   "id": "88126424-2526-41ba-9221-ee556fa91518",
   "metadata": {},
   "outputs": [],
   "source": []
  },
  {
   "cell_type": "markdown",
   "id": "161f3ec9-e7ea-401e-81d1-3c12a1ef93f6",
   "metadata": {},
   "source": [
    "<center> <h2> Closures </h2> </center>"
   ]
  },
  {
   "cell_type": "code",
   "execution_count": 87,
   "id": "233c49dd-71d7-46a5-9382-bcfee1266104",
   "metadata": {
    "execution": {
     "iopub.execute_input": "2025-05-21T14:55:13.326453Z",
     "iopub.status.busy": "2025-05-21T14:55:13.325451Z",
     "iopub.status.idle": "2025-05-21T14:55:13.338450Z",
     "shell.execute_reply": "2025-05-21T14:55:13.335454Z",
     "shell.execute_reply.started": "2025-05-21T14:55:13.326453Z"
    }
   },
   "outputs": [],
   "source": [
    "def outer_fun(a):\n",
    "    print(\"print the value of a \" ,a )\n",
    "    def inner_fun(b):\n",
    "        print(\"print the value of b\",b)\n",
    "        return a+b\n",
    "    return inner_fun"
   ]
  },
  {
   "cell_type": "code",
   "execution_count": 88,
   "id": "00c75c67-a81f-4e51-9974-bf270c6617d9",
   "metadata": {
    "execution": {
     "iopub.execute_input": "2025-05-21T14:55:13.498450Z",
     "iopub.status.busy": "2025-05-21T14:55:13.497451Z",
     "iopub.status.idle": "2025-05-21T14:55:13.511457Z",
     "shell.execute_reply": "2025-05-21T14:55:13.510454Z",
     "shell.execute_reply.started": "2025-05-21T14:55:13.498450Z"
    }
   },
   "outputs": [
    {
     "name": "stdout",
     "output_type": "stream",
     "text": [
      "print the value of a  10\n"
     ]
    }
   ],
   "source": [
    "closure = outer_fun(10)"
   ]
  },
  {
   "cell_type": "code",
   "execution_count": 89,
   "id": "b7d70151-4c4b-46d8-b993-59314a41a34b",
   "metadata": {
    "execution": {
     "iopub.execute_input": "2025-05-21T14:55:13.709594Z",
     "iopub.status.busy": "2025-05-21T14:55:13.708599Z",
     "iopub.status.idle": "2025-05-21T14:55:13.734162Z",
     "shell.execute_reply": "2025-05-21T14:55:13.733146Z",
     "shell.execute_reply.started": "2025-05-21T14:55:13.709594Z"
    }
   },
   "outputs": [
    {
     "data": {
      "text/plain": [
       "<function __main__.outer_fun.<locals>.inner_fun(b)>"
      ]
     },
     "execution_count": 89,
     "metadata": {},
     "output_type": "execute_result"
    }
   ],
   "source": [
    "closure"
   ]
  },
  {
   "cell_type": "code",
   "execution_count": 90,
   "id": "95ddec4f-06ce-48db-944c-44f293602884",
   "metadata": {
    "execution": {
     "iopub.execute_input": "2025-05-21T14:55:13.933146Z",
     "iopub.status.busy": "2025-05-21T14:55:13.932158Z",
     "iopub.status.idle": "2025-05-21T14:55:13.957166Z",
     "shell.execute_reply": "2025-05-21T14:55:13.956163Z",
     "shell.execute_reply.started": "2025-05-21T14:55:13.933146Z"
    }
   },
   "outputs": [
    {
     "name": "stdout",
     "output_type": "stream",
     "text": [
      "print the value of b 5\n"
     ]
    },
    {
     "data": {
      "text/plain": [
       "15"
      ]
     },
     "execution_count": 90,
     "metadata": {},
     "output_type": "execute_result"
    }
   ],
   "source": [
    "closure(5)"
   ]
  },
  {
   "cell_type": "code",
   "execution_count": 91,
   "id": "e07ca006-a951-4136-8309-426e6c91bb11",
   "metadata": {
    "execution": {
     "iopub.execute_input": "2025-05-21T14:55:14.096212Z",
     "iopub.status.busy": "2025-05-21T14:55:14.094210Z",
     "iopub.status.idle": "2025-05-21T14:55:14.117211Z",
     "shell.execute_reply": "2025-05-21T14:55:14.116211Z",
     "shell.execute_reply.started": "2025-05-21T14:55:14.096212Z"
    }
   },
   "outputs": [],
   "source": [
    "l = [4,5,[4,5]]"
   ]
  },
  {
   "cell_type": "code",
   "execution_count": 92,
   "id": "9244df7f-a171-4ad0-a11c-1a6dc3bc9b54",
   "metadata": {
    "execution": {
     "iopub.execute_input": "2025-05-21T14:55:14.436158Z",
     "iopub.status.busy": "2025-05-21T14:55:14.435156Z",
     "iopub.status.idle": "2025-05-21T14:55:14.450147Z",
     "shell.execute_reply": "2025-05-21T14:55:14.448150Z",
     "shell.execute_reply.started": "2025-05-21T14:55:14.436158Z"
    }
   },
   "outputs": [
    {
     "data": {
      "text/plain": [
       "4"
      ]
     },
     "execution_count": 92,
     "metadata": {},
     "output_type": "execute_result"
    }
   ],
   "source": [
    "l[2][0]"
   ]
  },
  {
   "cell_type": "code",
   "execution_count": 93,
   "id": "88a0a56c-6292-401e-8d0c-523f10a569cc",
   "metadata": {
    "execution": {
     "iopub.execute_input": "2025-05-21T14:55:14.640050Z",
     "iopub.status.busy": "2025-05-21T14:55:14.639055Z",
     "iopub.status.idle": "2025-05-21T14:55:14.652583Z",
     "shell.execute_reply": "2025-05-21T14:55:14.650584Z",
     "shell.execute_reply.started": "2025-05-21T14:55:14.640050Z"
    }
   },
   "outputs": [
    {
     "name": "stdout",
     "output_type": "stream",
     "text": [
      "print the value of b 89\n"
     ]
    },
    {
     "data": {
      "text/plain": [
       "99"
      ]
     },
     "execution_count": 93,
     "metadata": {},
     "output_type": "execute_result"
    }
   ],
   "source": [
    "closure(89)"
   ]
  },
  {
   "cell_type": "code",
   "execution_count": 94,
   "id": "51159e07-7a4d-4986-8096-898f91963a59",
   "metadata": {
    "execution": {
     "iopub.execute_input": "2025-05-21T14:55:14.878366Z",
     "iopub.status.busy": "2025-05-21T14:55:14.877349Z",
     "iopub.status.idle": "2025-05-21T14:55:14.890347Z",
     "shell.execute_reply": "2025-05-21T14:55:14.889356Z",
     "shell.execute_reply.started": "2025-05-21T14:55:14.878366Z"
    }
   },
   "outputs": [
    {
     "name": "stdout",
     "output_type": "stream",
     "text": [
      "print the value of b 2\n"
     ]
    },
    {
     "data": {
      "text/plain": [
       "12"
      ]
     },
     "execution_count": 94,
     "metadata": {},
     "output_type": "execute_result"
    }
   ],
   "source": [
    "closure(2)"
   ]
  },
  {
   "cell_type": "code",
   "execution_count": 95,
   "id": "26692308-7ba5-423f-b7ef-ea1295ceb315",
   "metadata": {
    "execution": {
     "iopub.execute_input": "2025-05-21T14:55:15.084353Z",
     "iopub.status.busy": "2025-05-21T14:55:15.083354Z",
     "iopub.status.idle": "2025-05-21T14:55:15.096346Z",
     "shell.execute_reply": "2025-05-21T14:55:15.094350Z",
     "shell.execute_reply.started": "2025-05-21T14:55:15.084353Z"
    }
   },
   "outputs": [],
   "source": [
    "def outer():\n",
    "    msg = \"hello remember this \"\n",
    "    def inner(name):\n",
    "        print(msg + name)\n",
    "    return inner"
   ]
  },
  {
   "cell_type": "code",
   "execution_count": 96,
   "id": "24066f33-5c49-42ca-a9c9-f8072070faec",
   "metadata": {
    "execution": {
     "iopub.execute_input": "2025-05-21T14:55:15.397464Z",
     "iopub.status.busy": "2025-05-21T14:55:15.397464Z",
     "iopub.status.idle": "2025-05-21T14:55:15.411453Z",
     "shell.execute_reply": "2025-05-21T14:55:15.410454Z",
     "shell.execute_reply.started": "2025-05-21T14:55:15.397464Z"
    }
   },
   "outputs": [],
   "source": [
    "out = outer()"
   ]
  },
  {
   "cell_type": "code",
   "execution_count": 97,
   "id": "7744aabd-3a18-4c6c-80ce-549475575656",
   "metadata": {
    "execution": {
     "iopub.execute_input": "2025-05-21T14:55:15.600282Z",
     "iopub.status.busy": "2025-05-21T14:55:15.598282Z",
     "iopub.status.idle": "2025-05-21T14:55:15.614279Z",
     "shell.execute_reply": "2025-05-21T14:55:15.613280Z",
     "shell.execute_reply.started": "2025-05-21T14:55:15.599283Z"
    }
   },
   "outputs": [
    {
     "name": "stdout",
     "output_type": "stream",
     "text": [
      "hello remember this sudhandhu\n"
     ]
    }
   ],
   "source": [
    "out(\"sudhandhu\")"
   ]
  },
  {
   "cell_type": "code",
   "execution_count": null,
   "id": "3edbe9c1-5264-4b91-bbfb-c017b050292f",
   "metadata": {},
   "outputs": [],
   "source": []
  },
  {
   "cell_type": "markdown",
   "id": "3d6e3caa-4fce-4f0d-bb20-ddc00cb3aa34",
   "metadata": {},
   "source": [
    "<center> <h2> Decorator </h2> </center>"
   ]
  },
  {
   "cell_type": "code",
   "execution_count": 98,
   "id": "f42f8779-2291-4c4e-a5ce-96858abb45fa",
   "metadata": {
    "execution": {
     "iopub.execute_input": "2025-05-21T14:55:16.376407Z",
     "iopub.status.busy": "2025-05-21T14:55:16.376407Z",
     "iopub.status.idle": "2025-05-21T14:55:16.388404Z",
     "shell.execute_reply": "2025-05-21T14:55:16.387403Z",
     "shell.execute_reply.started": "2025-05-21T14:55:16.376407Z"
    }
   },
   "outputs": [],
   "source": [
    "def say_hi():\n",
    "    print(\"hi euron\")"
   ]
  },
  {
   "cell_type": "code",
   "execution_count": 99,
   "id": "7acb7eb0-c9a6-4543-b69a-386ccee8916f",
   "metadata": {
    "execution": {
     "iopub.execute_input": "2025-05-21T14:55:16.556619Z",
     "iopub.status.busy": "2025-05-21T14:55:16.555613Z",
     "iopub.status.idle": "2025-05-21T14:55:16.563616Z",
     "shell.execute_reply": "2025-05-21T14:55:16.562616Z",
     "shell.execute_reply.started": "2025-05-21T14:55:16.556619Z"
    }
   },
   "outputs": [
    {
     "name": "stdout",
     "output_type": "stream",
     "text": [
      "hi euron\n"
     ]
    }
   ],
   "source": [
    "say_hi()"
   ]
  },
  {
   "cell_type": "code",
   "execution_count": 100,
   "id": "8af792dd-1bb0-4bd1-a075-11e191b26518",
   "metadata": {
    "execution": {
     "iopub.execute_input": "2025-05-21T14:55:16.735263Z",
     "iopub.status.busy": "2025-05-21T14:55:16.734259Z",
     "iopub.status.idle": "2025-05-21T14:55:16.755261Z",
     "shell.execute_reply": "2025-05-21T14:55:16.753289Z",
     "shell.execute_reply.started": "2025-05-21T14:55:16.734259Z"
    }
   },
   "outputs": [],
   "source": [
    "def decorator_func(func):\n",
    "    def wrapper():\n",
    "        print(\"you will be printed before function\")\n",
    "        func()\n",
    "        print(\"you will be printed after function call \")\n",
    "    return wrapper"
   ]
  },
  {
   "cell_type": "code",
   "execution_count": 101,
   "id": "de8c0995-52a9-4443-b912-55b2c18e97fe",
   "metadata": {
    "execution": {
     "iopub.execute_input": "2025-05-21T14:55:16.927550Z",
     "iopub.status.busy": "2025-05-21T14:55:16.926549Z",
     "iopub.status.idle": "2025-05-21T14:55:16.944572Z",
     "shell.execute_reply": "2025-05-21T14:55:16.943575Z",
     "shell.execute_reply.started": "2025-05-21T14:55:16.927550Z"
    }
   },
   "outputs": [],
   "source": [
    "@decorator_func\n",
    "def say_hi():\n",
    "    print(\"hi euron\")"
   ]
  },
  {
   "cell_type": "code",
   "execution_count": 102,
   "id": "792ce475-5403-4796-bc04-522cf1b9cc8e",
   "metadata": {
    "execution": {
     "iopub.execute_input": "2025-05-21T14:55:17.111529Z",
     "iopub.status.busy": "2025-05-21T14:55:17.109538Z",
     "iopub.status.idle": "2025-05-21T14:55:17.133527Z",
     "shell.execute_reply": "2025-05-21T14:55:17.132523Z",
     "shell.execute_reply.started": "2025-05-21T14:55:17.111529Z"
    }
   },
   "outputs": [
    {
     "name": "stdout",
     "output_type": "stream",
     "text": [
      "you will be printed before function\n",
      "hi euron\n",
      "you will be printed after function call \n"
     ]
    }
   ],
   "source": [
    "say_hi()"
   ]
  },
  {
   "cell_type": "code",
   "execution_count": 103,
   "id": "507cec86-4296-4f0b-b64c-ca76e15bdfd2",
   "metadata": {
    "execution": {
     "iopub.execute_input": "2025-05-21T14:55:17.330526Z",
     "iopub.status.busy": "2025-05-21T14:55:17.329531Z",
     "iopub.status.idle": "2025-05-21T14:55:17.341531Z",
     "shell.execute_reply": "2025-05-21T14:55:17.339530Z",
     "shell.execute_reply.started": "2025-05-21T14:55:17.330526Z"
    }
   },
   "outputs": [],
   "source": [
    "import time\n",
    "\n",
    "def timer(func):\n",
    "    def wrapper(*args , **kwargs):\n",
    "        start = time.time()\n",
    "        result = func(*args,**kwargs)\n",
    "        print(\"time taken by this function is \",time.time() - start)\n",
    "        return  result\n",
    "    return wrapper\n",
    "        "
   ]
  },
  {
   "cell_type": "code",
   "execution_count": 104,
   "id": "c1604feb-8a8e-4376-aa87-76a9ce5af4c9",
   "metadata": {
    "execution": {
     "iopub.execute_input": "2025-05-21T14:55:17.587490Z",
     "iopub.status.busy": "2025-05-21T14:55:17.586510Z",
     "iopub.status.idle": "2025-05-21T14:55:17.609493Z",
     "shell.execute_reply": "2025-05-21T14:55:17.608492Z",
     "shell.execute_reply.started": "2025-05-21T14:55:17.587490Z"
    }
   },
   "outputs": [],
   "source": [
    "@timer\n",
    "def listparser(l):\n",
    "    time.sleep(1)\n",
    "    print(l)\n",
    "    for i in l :\n",
    "        print(i)\n",
    "        "
   ]
  },
  {
   "cell_type": "code",
   "execution_count": 105,
   "id": "c52bbef7-3d58-4cae-8b3d-00525d370507",
   "metadata": {
    "execution": {
     "iopub.execute_input": "2025-05-21T14:55:18.934847Z",
     "iopub.status.busy": "2025-05-21T14:55:18.933845Z",
     "iopub.status.idle": "2025-05-21T14:55:19.973440Z",
     "shell.execute_reply": "2025-05-21T14:55:19.970434Z",
     "shell.execute_reply.started": "2025-05-21T14:55:18.934847Z"
    }
   },
   "outputs": [
    {
     "name": "stdout",
     "output_type": "stream",
     "text": [
      "[4, 5, 56, 6, 7, 8, 8]\n",
      "4\n",
      "5\n",
      "56\n",
      "6\n",
      "7\n",
      "8\n",
      "8\n",
      "time taken by this function is  1.0160634517669678\n"
     ]
    }
   ],
   "source": [
    "listparser([4,5,56,6,7,8,8])"
   ]
  },
  {
   "cell_type": "code",
   "execution_count": 106,
   "id": "7dfbc949-a4b8-4560-b936-ffe36ea52233",
   "metadata": {
    "execution": {
     "iopub.execute_input": "2025-05-21T14:55:19.979438Z",
     "iopub.status.busy": "2025-05-21T14:55:19.978436Z",
     "iopub.status.idle": "2025-05-21T14:55:20.003438Z",
     "shell.execute_reply": "2025-05-21T14:55:20.000436Z",
     "shell.execute_reply.started": "2025-05-21T14:55:19.979438Z"
    }
   },
   "outputs": [],
   "source": [
    "def decorator_func1(func):\n",
    "    def wrapper(*args , **kwargs):\n",
    "        print(\"you will be printed before function\")\n",
    "        func(*args , **kwargs)\n",
    "        print(\"you will be printed after function call \")\n",
    "    return wrapper"
   ]
  },
  {
   "cell_type": "code",
   "execution_count": 107,
   "id": "84d8a304-851d-4b89-bc83-d1e5c935759c",
   "metadata": {
    "execution": {
     "iopub.execute_input": "2025-05-21T14:55:20.640617Z",
     "iopub.status.busy": "2025-05-21T14:55:20.639611Z",
     "iopub.status.idle": "2025-05-21T14:55:20.663610Z",
     "shell.execute_reply": "2025-05-21T14:55:20.662609Z",
     "shell.execute_reply.started": "2025-05-21T14:55:20.640617Z"
    }
   },
   "outputs": [],
   "source": [
    "@timer\n",
    "@decorator_func1\n",
    "def listparser(l):\n",
    "    time.sleep(1)\n",
    "    print(l)\n",
    "    for i in l :\n",
    "        print(i)"
   ]
  },
  {
   "cell_type": "code",
   "execution_count": 108,
   "id": "9840187c-8440-492b-8e7d-2feab1b0549f",
   "metadata": {
    "execution": {
     "iopub.execute_input": "2025-05-21T14:55:21.591342Z",
     "iopub.status.busy": "2025-05-21T14:55:21.590346Z",
     "iopub.status.idle": "2025-05-21T14:55:22.614663Z",
     "shell.execute_reply": "2025-05-21T14:55:22.612659Z",
     "shell.execute_reply.started": "2025-05-21T14:55:21.590346Z"
    }
   },
   "outputs": [
    {
     "name": "stdout",
     "output_type": "stream",
     "text": [
      "you will be printed before function\n",
      "[3, 4, 5, 6]\n",
      "3\n",
      "4\n",
      "5\n",
      "6\n",
      "you will be printed after function call \n",
      "time taken by this function is  1.003335952758789\n"
     ]
    }
   ],
   "source": [
    "listparser([3,4,5,6,])"
   ]
  },
  {
   "cell_type": "code",
   "execution_count": null,
   "id": "ebd6a4b2-352f-4c50-9243-bc537a10be05",
   "metadata": {},
   "outputs": [],
   "source": []
  }
 ],
 "metadata": {
  "kernelspec": {
   "display_name": "Python 3 (ipykernel)",
   "language": "python",
   "name": "python3"
  },
  "language_info": {
   "codemirror_mode": {
    "name": "ipython",
    "version": 3
   },
   "file_extension": ".py",
   "mimetype": "text/x-python",
   "name": "python",
   "nbconvert_exporter": "python",
   "pygments_lexer": "ipython3",
   "version": "3.10.0"
  },
  "widgets": {
   "application/vnd.jupyter.widget-state+json": {
    "state": {},
    "version_major": 2,
    "version_minor": 0
   }
  }
 },
 "nbformat": 4,
 "nbformat_minor": 5
}
