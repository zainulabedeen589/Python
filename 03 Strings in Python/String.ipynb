{
 "cells": [
  {
   "cell_type": "markdown",
   "id": "9c36f1b0",
   "metadata": {},
   "source": [
    "# String\n",
    "\n",
    "## String Indexing and Slicing"
   ]
  },
  {
   "cell_type": "code",
   "execution_count": 1,
   "id": "bd667b92",
   "metadata": {},
   "outputs": [],
   "source": [
    "s = 'sudh'"
   ]
  },
  {
   "cell_type": "code",
   "execution_count": 2,
   "id": "5549f1f7",
   "metadata": {},
   "outputs": [],
   "source": [
    "s1 = \"sudh\""
   ]
  },
  {
   "cell_type": "code",
   "execution_count": 3,
   "id": "46585565",
   "metadata": {},
   "outputs": [
    {
     "data": {
      "text/plain": [
       "str"
      ]
     },
     "execution_count": 3,
     "metadata": {},
     "output_type": "execute_result"
    }
   ],
   "source": [
    "type(s)"
   ]
  },
  {
   "cell_type": "code",
   "execution_count": 4,
   "id": "808bc724",
   "metadata": {},
   "outputs": [],
   "source": [
    "s2 = \"\"\"my name is sudh\"\"\""
   ]
  },
  {
   "cell_type": "code",
   "execution_count": 5,
   "id": "65503197",
   "metadata": {},
   "outputs": [
    {
     "data": {
      "text/plain": [
       "str"
      ]
     },
     "execution_count": 5,
     "metadata": {},
     "output_type": "execute_result"
    }
   ],
   "source": [
    "type(s2)"
   ]
  },
  {
   "cell_type": "code",
   "execution_count": 6,
   "id": "77796691",
   "metadata": {},
   "outputs": [
    {
     "ename": "SyntaxError",
     "evalue": "unterminated string literal (detected at line 1) (1170391085.py, line 1)",
     "output_type": "error",
     "traceback": [
      "\u001b[1;36m  Cell \u001b[1;32mIn[6], line 1\u001b[1;36m\u001b[0m\n\u001b[1;33m    s3 ='don't'\u001b[0m\n\u001b[1;37m              ^\u001b[0m\n\u001b[1;31mSyntaxError\u001b[0m\u001b[1;31m:\u001b[0m unterminated string literal (detected at line 1)\n"
     ]
    }
   ],
   "source": [
    "s3 ='don't'"
   ]
  },
  {
   "cell_type": "code",
   "execution_count": 7,
   "id": "fa8a4819",
   "metadata": {},
   "outputs": [],
   "source": [
    "s3 =\"don't\""
   ]
  },
  {
   "cell_type": "code",
   "execution_count": 8,
   "id": "b1275585",
   "metadata": {},
   "outputs": [],
   "source": [
    "s4 = 'don\"t'"
   ]
  },
  {
   "cell_type": "code",
   "execution_count": 9,
   "id": "a13463b2",
   "metadata": {},
   "outputs": [],
   "source": [
    "a = \"euron\""
   ]
  },
  {
   "cell_type": "code",
   "execution_count": 10,
   "id": "d331cf2a",
   "metadata": {},
   "outputs": [
    {
     "data": {
      "text/plain": [
       "'e'"
      ]
     },
     "execution_count": 10,
     "metadata": {},
     "output_type": "execute_result"
    }
   ],
   "source": [
    "a[0]"
   ]
  },
  {
   "cell_type": "code",
   "execution_count": 11,
   "id": "0ee947a0",
   "metadata": {},
   "outputs": [
    {
     "data": {
      "text/plain": [
       "'n'"
      ]
     },
     "execution_count": 11,
     "metadata": {},
     "output_type": "execute_result"
    }
   ],
   "source": [
    "a[-1]"
   ]
  },
  {
   "cell_type": "code",
   "execution_count": 12,
   "id": "ca2b6f92",
   "metadata": {},
   "outputs": [
    {
     "data": {
      "text/plain": [
       "'euron'"
      ]
     },
     "execution_count": 12,
     "metadata": {},
     "output_type": "execute_result"
    }
   ],
   "source": [
    "a"
   ]
  },
  {
   "cell_type": "code",
   "execution_count": 13,
   "id": "6fd93e83",
   "metadata": {},
   "outputs": [
    {
     "data": {
      "text/plain": [
       "'eu'"
      ]
     },
     "execution_count": 13,
     "metadata": {},
     "output_type": "execute_result"
    }
   ],
   "source": [
    "a[0:2]"
   ]
  },
  {
   "cell_type": "code",
   "execution_count": 14,
   "id": "5af64d5c",
   "metadata": {},
   "outputs": [
    {
     "data": {
      "text/plain": [
       "'euro'"
      ]
     },
     "execution_count": 14,
     "metadata": {},
     "output_type": "execute_result"
    }
   ],
   "source": [
    "a[0:4]"
   ]
  },
  {
   "cell_type": "code",
   "execution_count": 15,
   "id": "c14d9d9c",
   "metadata": {},
   "outputs": [
    {
     "data": {
      "text/plain": [
       "'er'"
      ]
     },
     "execution_count": 15,
     "metadata": {},
     "output_type": "execute_result"
    }
   ],
   "source": [
    "a[0:3:2]"
   ]
  },
  {
   "cell_type": "code",
   "execution_count": 16,
   "id": "18047a45",
   "metadata": {},
   "outputs": [
    {
     "data": {
      "text/plain": [
       "''"
      ]
     },
     "execution_count": 16,
     "metadata": {},
     "output_type": "execute_result"
    }
   ],
   "source": [
    "a[4:0]"
   ]
  },
  {
   "cell_type": "code",
   "execution_count": 17,
   "id": "2cea1989",
   "metadata": {},
   "outputs": [
    {
     "data": {
      "text/plain": [
       "'norue'"
      ]
     },
     "execution_count": 17,
     "metadata": {},
     "output_type": "execute_result"
    }
   ],
   "source": [
    "a[4::-1]"
   ]
  },
  {
   "cell_type": "code",
   "execution_count": 18,
   "id": "057f379d",
   "metadata": {},
   "outputs": [
    {
     "data": {
      "text/plain": [
       "'norue'"
      ]
     },
     "execution_count": 18,
     "metadata": {},
     "output_type": "execute_result"
    }
   ],
   "source": [
    "a[::-1]"
   ]
  },
  {
   "cell_type": "markdown",
   "id": "1fb3be3d",
   "metadata": {},
   "source": [
    "## String Immutablity Interning"
   ]
  },
  {
   "cell_type": "code",
   "execution_count": 19,
   "id": "f6db7715",
   "metadata": {},
   "outputs": [],
   "source": [
    "s = \"sudhanshu\""
   ]
  },
  {
   "cell_type": "code",
   "execution_count": 20,
   "id": "a7ca590b",
   "metadata": {},
   "outputs": [
    {
     "data": {
      "text/plain": [
       "2731372817776"
      ]
     },
     "execution_count": 20,
     "metadata": {},
     "output_type": "execute_result"
    }
   ],
   "source": [
    "id(s)"
   ]
  },
  {
   "cell_type": "code",
   "execution_count": 21,
   "id": "fff1b4df",
   "metadata": {},
   "outputs": [],
   "source": [
    "modify = s + \"kumar\""
   ]
  },
  {
   "cell_type": "code",
   "execution_count": 22,
   "id": "bec192c2",
   "metadata": {},
   "outputs": [
    {
     "data": {
      "text/plain": [
       "2731372814832"
      ]
     },
     "execution_count": 22,
     "metadata": {},
     "output_type": "execute_result"
    }
   ],
   "source": [
    "id(modify)"
   ]
  },
  {
   "cell_type": "code",
   "execution_count": 23,
   "id": "3ce29aa5",
   "metadata": {},
   "outputs": [],
   "source": [
    "s = s + \"kumar\""
   ]
  },
  {
   "cell_type": "code",
   "execution_count": 24,
   "id": "73c1ce2e",
   "metadata": {},
   "outputs": [
    {
     "data": {
      "text/plain": [
       "2731372860848"
      ]
     },
     "execution_count": 24,
     "metadata": {},
     "output_type": "execute_result"
    }
   ],
   "source": [
    "id(s)"
   ]
  },
  {
   "cell_type": "code",
   "execution_count": 25,
   "id": "48ec1c16",
   "metadata": {},
   "outputs": [
    {
     "data": {
      "text/plain": [
       "2731372730992"
      ]
     },
     "execution_count": 25,
     "metadata": {},
     "output_type": "execute_result"
    }
   ],
   "source": [
    "s = \"euron\"\n",
    "id(s)"
   ]
  },
  {
   "cell_type": "code",
   "execution_count": 26,
   "id": "1802fbe0",
   "metadata": {},
   "outputs": [
    {
     "ename": "TypeError",
     "evalue": "'str' object does not support item assignment",
     "output_type": "error",
     "traceback": [
      "\u001b[1;31m---------------------------------------------------------------------------\u001b[0m",
      "\u001b[1;31mTypeError\u001b[0m                                 Traceback (most recent call last)",
      "Cell \u001b[1;32mIn[26], line 1\u001b[0m\n\u001b[1;32m----> 1\u001b[0m \u001b[43ms\u001b[49m\u001b[43m[\u001b[49m\u001b[38;5;241;43m0\u001b[39;49m\u001b[43m]\u001b[49m \u001b[38;5;241m=\u001b[39m \u001b[38;5;124m\"\u001b[39m\u001b[38;5;124ms\u001b[39m\u001b[38;5;124m\"\u001b[39m\n",
      "\u001b[1;31mTypeError\u001b[0m: 'str' object does not support item assignment"
     ]
    }
   ],
   "source": [
    "s[0] = \"s\""
   ]
  },
  {
   "cell_type": "code",
   "execution_count": 28,
   "id": "cc91eff2",
   "metadata": {},
   "outputs": [
    {
     "data": {
      "text/plain": [
       "2731394244400"
      ]
     },
     "execution_count": 28,
     "metadata": {},
     "output_type": "execute_result"
    }
   ],
   "source": [
    "s = \"suron\"\n",
    "id(s)"
   ]
  },
  {
   "cell_type": "code",
   "execution_count": 29,
   "id": "154d241b",
   "metadata": {},
   "outputs": [],
   "source": [
    "a = \"euron\"\n",
    "b = \"euron\""
   ]
  },
  {
   "cell_type": "code",
   "execution_count": 30,
   "id": "8a5ef491",
   "metadata": {},
   "outputs": [
    {
     "data": {
      "text/plain": [
       "2731372730992"
      ]
     },
     "execution_count": 30,
     "metadata": {},
     "output_type": "execute_result"
    }
   ],
   "source": [
    "id(a)"
   ]
  },
  {
   "cell_type": "code",
   "execution_count": 31,
   "id": "2e4a8c8c",
   "metadata": {},
   "outputs": [
    {
     "data": {
      "text/plain": [
       "2731372730992"
      ]
     },
     "execution_count": 31,
     "metadata": {},
     "output_type": "execute_result"
    }
   ],
   "source": [
    "id(b)"
   ]
  },
  {
   "cell_type": "code",
   "execution_count": 32,
   "id": "a79035d9",
   "metadata": {},
   "outputs": [
    {
     "data": {
      "text/plain": [
       "'sudhanshu'"
      ]
     },
     "execution_count": 32,
     "metadata": {},
     "output_type": "execute_result"
    }
   ],
   "source": [
    "c = \"sudh\" + \"anshu\"\n",
    "c"
   ]
  },
  {
   "cell_type": "code",
   "execution_count": 33,
   "id": "581341e5",
   "metadata": {},
   "outputs": [
    {
     "data": {
      "text/plain": [
       "'sudhanshu'"
      ]
     },
     "execution_count": 33,
     "metadata": {},
     "output_type": "execute_result"
    }
   ],
   "source": [
    "d = \"sudhanshu\"\n",
    "d"
   ]
  },
  {
   "cell_type": "code",
   "execution_count": 34,
   "id": "0f8c96f5",
   "metadata": {},
   "outputs": [
    {
     "data": {
      "text/plain": [
       "2731394257968"
      ]
     },
     "execution_count": 34,
     "metadata": {},
     "output_type": "execute_result"
    }
   ],
   "source": [
    "id(c)"
   ]
  },
  {
   "cell_type": "code",
   "execution_count": 36,
   "id": "ff318f20",
   "metadata": {},
   "outputs": [
    {
     "data": {
      "text/plain": [
       "2731394257968"
      ]
     },
     "execution_count": 36,
     "metadata": {},
     "output_type": "execute_result"
    }
   ],
   "source": [
    "id(d)"
   ]
  },
  {
   "cell_type": "markdown",
   "id": "ed497384",
   "metadata": {},
   "source": [
    "## String Inbuild Functions"
   ]
  },
  {
   "cell_type": "code",
   "execution_count": 37,
   "id": "1f48ca19",
   "metadata": {},
   "outputs": [],
   "source": [
    "s = \"euron\""
   ]
  },
  {
   "cell_type": "code",
   "execution_count": 38,
   "id": "b81009c2",
   "metadata": {},
   "outputs": [],
   "source": [
    "s = s.upper()"
   ]
  },
  {
   "cell_type": "code",
   "execution_count": 39,
   "id": "ae9b0711",
   "metadata": {},
   "outputs": [
    {
     "data": {
      "text/plain": [
       "'EURON'"
      ]
     },
     "execution_count": 39,
     "metadata": {},
     "output_type": "execute_result"
    }
   ],
   "source": [
    "s"
   ]
  },
  {
   "cell_type": "code",
   "execution_count": 40,
   "id": "025614fd",
   "metadata": {},
   "outputs": [
    {
     "data": {
      "text/plain": [
       "'euron'"
      ]
     },
     "execution_count": 40,
     "metadata": {},
     "output_type": "execute_result"
    }
   ],
   "source": [
    "s.lower()"
   ]
  },
  {
   "cell_type": "code",
   "execution_count": 41,
   "id": "bc009d24",
   "metadata": {},
   "outputs": [
    {
     "data": {
      "text/plain": [
       "'Sudhanshu kumar'"
      ]
     },
     "execution_count": 41,
     "metadata": {},
     "output_type": "execute_result"
    }
   ],
   "source": [
    "s = \"sudhanshu kumar\"\n",
    "s.capitalize()"
   ]
  },
  {
   "cell_type": "code",
   "execution_count": 42,
   "id": "6508b18e",
   "metadata": {},
   "outputs": [
    {
     "data": {
      "text/plain": [
       "'Sudhanshu Kumar'"
      ]
     },
     "execution_count": 42,
     "metadata": {},
     "output_type": "execute_result"
    }
   ],
   "source": [
    "s.title()"
   ]
  },
  {
   "cell_type": "code",
   "execution_count": 43,
   "id": "0737b2dd",
   "metadata": {},
   "outputs": [],
   "source": [
    "s1 = \"sudhanshu Kumar\""
   ]
  },
  {
   "cell_type": "code",
   "execution_count": 44,
   "id": "695428d3",
   "metadata": {},
   "outputs": [
    {
     "data": {
      "text/plain": [
       "'SUDHANSHU kUMAR'"
      ]
     },
     "execution_count": 44,
     "metadata": {},
     "output_type": "execute_result"
    }
   ],
   "source": [
    "s1.swapcase()"
   ]
  },
  {
   "cell_type": "code",
   "execution_count": 45,
   "id": "c2b11e2d",
   "metadata": {},
   "outputs": [
    {
     "data": {
      "text/plain": [
       "'sudhanshu kumar'"
      ]
     },
     "execution_count": 45,
     "metadata": {},
     "output_type": "execute_result"
    }
   ],
   "source": [
    "s1.casefold()"
   ]
  },
  {
   "cell_type": "code",
   "execution_count": 46,
   "id": "24f39b5f",
   "metadata": {},
   "outputs": [
    {
     "data": {
      "text/plain": [
       "'sudhanshu Kumar'"
      ]
     },
     "execution_count": 46,
     "metadata": {},
     "output_type": "execute_result"
    }
   ],
   "source": [
    "s1"
   ]
  },
  {
   "cell_type": "code",
   "execution_count": 47,
   "id": "b7cb23e8",
   "metadata": {},
   "outputs": [],
   "source": [
    "s= \"euron is my company\" "
   ]
  },
  {
   "cell_type": "code",
   "execution_count": 48,
   "id": "c6d37e1c",
   "metadata": {},
   "outputs": [
    {
     "data": {
      "text/plain": [
       "9"
      ]
     },
     "execution_count": 48,
     "metadata": {},
     "output_type": "execute_result"
    }
   ],
   "source": [
    "s.find(\"my\")"
   ]
  },
  {
   "cell_type": "code",
   "execution_count": 49,
   "id": "80575317",
   "metadata": {},
   "outputs": [
    {
     "data": {
      "text/plain": [
       "-1"
      ]
     },
     "execution_count": 49,
     "metadata": {},
     "output_type": "execute_result"
    }
   ],
   "source": [
    "s.find(\"sudhanshu\")"
   ]
  },
  {
   "cell_type": "code",
   "execution_count": 50,
   "id": "5a90dedb",
   "metadata": {},
   "outputs": [
    {
     "data": {
      "text/plain": [
       "9"
      ]
     },
     "execution_count": 50,
     "metadata": {},
     "output_type": "execute_result"
    }
   ],
   "source": [
    "s.index(\"my\")"
   ]
  },
  {
   "cell_type": "code",
   "execution_count": 51,
   "id": "67c348c1",
   "metadata": {},
   "outputs": [
    {
     "ename": "ValueError",
     "evalue": "substring not found",
     "output_type": "error",
     "traceback": [
      "\u001b[1;31m---------------------------------------------------------------------------\u001b[0m",
      "\u001b[1;31mValueError\u001b[0m                                Traceback (most recent call last)",
      "Cell \u001b[1;32mIn[51], line 1\u001b[0m\n\u001b[1;32m----> 1\u001b[0m \u001b[43ms\u001b[49m\u001b[38;5;241;43m.\u001b[39;49m\u001b[43mindex\u001b[49m\u001b[43m(\u001b[49m\u001b[38;5;124;43m\"\u001b[39;49m\u001b[38;5;124;43msudh\u001b[39;49m\u001b[38;5;124;43m\"\u001b[39;49m\u001b[43m)\u001b[49m\n",
      "\u001b[1;31mValueError\u001b[0m: substring not found"
     ]
    }
   ],
   "source": [
    "s.index(\"sudh\")"
   ]
  },
  {
   "cell_type": "code",
   "execution_count": 52,
   "id": "4192216c",
   "metadata": {},
   "outputs": [
    {
     "data": {
      "text/plain": [
       "'euron is my company'"
      ]
     },
     "execution_count": 52,
     "metadata": {},
     "output_type": "execute_result"
    }
   ],
   "source": [
    "s"
   ]
  },
  {
   "cell_type": "code",
   "execution_count": 53,
   "id": "dc3f5427",
   "metadata": {},
   "outputs": [
    {
     "data": {
      "text/plain": [
       "0"
      ]
     },
     "execution_count": 53,
     "metadata": {},
     "output_type": "execute_result"
    }
   ],
   "source": [
    "s.count(\"sudh\")"
   ]
  },
  {
   "cell_type": "code",
   "execution_count": 54,
   "id": "c7554847",
   "metadata": {},
   "outputs": [
    {
     "data": {
      "text/plain": [
       "False"
      ]
     },
     "execution_count": 54,
     "metadata": {},
     "output_type": "execute_result"
    }
   ],
   "source": [
    "s.isalpha()"
   ]
  },
  {
   "cell_type": "code",
   "execution_count": 56,
   "id": "778fa701",
   "metadata": {},
   "outputs": [
    {
     "data": {
      "text/plain": [
       "'euron is my company'"
      ]
     },
     "execution_count": 56,
     "metadata": {},
     "output_type": "execute_result"
    }
   ],
   "source": [
    "s"
   ]
  },
  {
   "cell_type": "code",
   "execution_count": 57,
   "id": "06465bac",
   "metadata": {},
   "outputs": [],
   "source": [
    "s1 = \"sudhanshu\""
   ]
  },
  {
   "cell_type": "code",
   "execution_count": 58,
   "id": "ee4d047d",
   "metadata": {},
   "outputs": [
    {
     "data": {
      "text/plain": [
       "True"
      ]
     },
     "execution_count": 58,
     "metadata": {},
     "output_type": "execute_result"
    }
   ],
   "source": [
    "s1.isalpha()"
   ]
  },
  {
   "cell_type": "code",
   "execution_count": 59,
   "id": "e0b3bd37",
   "metadata": {},
   "outputs": [
    {
     "data": {
      "text/plain": [
       "True"
      ]
     },
     "execution_count": 59,
     "metadata": {},
     "output_type": "execute_result"
    }
   ],
   "source": [
    "s1.isalnum()"
   ]
  },
  {
   "cell_type": "markdown",
   "id": "7ef2cbb7",
   "metadata": {},
   "source": [
    "## String Operation"
   ]
  },
  {
   "cell_type": "code",
   "execution_count": 60,
   "id": "037a4c7c",
   "metadata": {},
   "outputs": [
    {
     "name": "stdout",
     "output_type": "stream",
     "text": [
      "my name is sudhanshu \n",
      "i use to teach \n",
      "data\n"
     ]
    }
   ],
   "source": [
    "print(\"my name is sudhanshu \\ni use to teach \\ndata\")"
   ]
  },
  {
   "cell_type": "code",
   "execution_count": 61,
   "id": "806d6e37",
   "metadata": {},
   "outputs": [
    {
     "name": "stdout",
     "output_type": "stream",
     "text": [
      "my name is sudhanshu \ti use to teach \tdata\n"
     ]
    }
   ],
   "source": [
    "print(\"my name is sudhanshu \\ti use to teach \\tdata\")"
   ]
  },
  {
   "cell_type": "code",
   "execution_count": 62,
   "id": "7d130e62",
   "metadata": {},
   "outputs": [
    {
     "name": "stdout",
     "output_type": "stream",
     "text": [
      "\\\n"
     ]
    }
   ],
   "source": [
    "print(\"\\\\\")"
   ]
  },
  {
   "cell_type": "code",
   "execution_count": 63,
   "id": "f5340f2e",
   "metadata": {},
   "outputs": [
    {
     "ename": "SyntaxError",
     "evalue": "(unicode error) 'unicodeescape' codec can't decode bytes in position 2-3: truncated \\UXXXXXXXX escape (2517376580.py, line 1)",
     "output_type": "error",
     "traceback": [
      "\u001b[1;36m  Cell \u001b[1;32mIn[63], line 1\u001b[1;36m\u001b[0m\n\u001b[1;33m    raw_data = \"C:\\Users\\Sudhanshu\\Desktop\\python\"\u001b[0m\n\u001b[1;37m                                                  ^\u001b[0m\n\u001b[1;31mSyntaxError\u001b[0m\u001b[1;31m:\u001b[0m (unicode error) 'unicodeescape' codec can't decode bytes in position 2-3: truncated \\UXXXXXXXX escape\n"
     ]
    }
   ],
   "source": [
    "raw_data = \"C:\\Users\\Sudhanshu\\Desktop\\python\"\n",
    "print(raw_data)"
   ]
  },
  {
   "cell_type": "code",
   "execution_count": 64,
   "id": "a46e6e69",
   "metadata": {},
   "outputs": [
    {
     "name": "stdout",
     "output_type": "stream",
     "text": [
      "C:\\Users\\Sudhanshu\\Desktop\\python\n"
     ]
    }
   ],
   "source": [
    "raw_data = r\"C:\\Users\\Sudhanshu\\Desktop\\python\"\n",
    "print(raw_data)"
   ]
  },
  {
   "cell_type": "code",
   "execution_count": 65,
   "id": "9610584b",
   "metadata": {},
   "outputs": [
    {
     "name": "stdout",
     "output_type": "stream",
     "text": [
      "C:\\Users\\Sudhanshu\\Desktop\\python\n"
     ]
    }
   ],
   "source": [
    "raw_data = \"C:\\\\Users\\\\Sudhanshu\\\\Desktop\\\\python\"\n",
    "print(raw_data)"
   ]
  },
  {
   "cell_type": "code",
   "execution_count": 66,
   "id": "2a5944f6",
   "metadata": {},
   "outputs": [
    {
     "name": "stdout",
     "output_type": "stream",
     "text": [
      "ὤ3\n"
     ]
    }
   ],
   "source": [
    "print(\"\\u1F643\")"
   ]
  },
  {
   "cell_type": "code",
   "execution_count": 67,
   "id": "dc1f05e5",
   "metadata": {},
   "outputs": [
    {
     "name": "stdout",
     "output_type": "stream",
     "text": [
      "©\n"
     ]
    }
   ],
   "source": [
    "print(\"\\u00A9\") "
   ]
  },
  {
   "cell_type": "code",
   "execution_count": 68,
   "id": "152e39fc",
   "metadata": {},
   "outputs": [
    {
     "name": "stdout",
     "output_type": "stream",
     "text": [
      "Δ\n"
     ]
    }
   ],
   "source": [
    "print(\"\\N{GREEK CAPITAL LETTER DELTA}\")  "
   ]
  },
  {
   "cell_type": "code",
   "execution_count": 69,
   "id": "e42ccafd",
   "metadata": {},
   "outputs": [
    {
     "name": "stdout",
     "output_type": "stream",
     "text": [
      "☃\n"
     ]
    }
   ],
   "source": [
    "print(\"\\N{SNOWMAN}\") "
   ]
  },
  {
   "cell_type": "code",
   "execution_count": 72,
   "id": "f440f24f",
   "metadata": {},
   "outputs": [
    {
     "name": "stdout",
     "output_type": "stream",
     "text": [
      "☺\n"
     ]
    }
   ],
   "source": [
    "print(\"\\u263A\") "
   ]
  },
  {
   "cell_type": "code",
   "execution_count": 73,
   "id": "3322dc80",
   "metadata": {},
   "outputs": [
    {
     "data": {
      "text/plain": [
       "'my name is sudhanshu\\ni use to work for euron\\ni use to teach data'"
      ]
     },
     "execution_count": 73,
     "metadata": {},
     "output_type": "execute_result"
    }
   ],
   "source": [
    "\"\"\"my name is sudhanshu\n",
    "i use to work for euron\n",
    "i use to teach data\"\"\""
   ]
  },
  {
   "cell_type": "code",
   "execution_count": 74,
   "id": "c1ab46c8",
   "metadata": {},
   "outputs": [
    {
     "data": {
      "text/plain": [
       "'my name is sudhanshui use to work for euroni use to teach data'"
      ]
     },
     "execution_count": 74,
     "metadata": {},
     "output_type": "execute_result"
    }
   ],
   "source": [
    "\"my name is sudhanshu\"\\\n",
    "\"i use to work for euron\"\\\n",
    "    \"i use to teach data\""
   ]
  },
  {
   "cell_type": "code",
   "execution_count": 76,
   "id": "9f52ca51",
   "metadata": {},
   "outputs": [
    {
     "name": "stdout",
     "output_type": "stream",
     "text": [
      "my name is Wasiq my age is 24 and my phone number is 1234567890\n"
     ]
    }
   ],
   "source": [
    "name = input(\"enter your name\")\n",
    "age = int(input(\"enter your age\"))\n",
    "phone = 1234567890\n",
    "\n",
    "print(f\"my name is {name} my age is {age} and my phone number is {phone}\") "
   ]
  },
  {
   "cell_type": "code",
   "execution_count": 77,
   "id": "bf1c81bc",
   "metadata": {},
   "outputs": [
    {
     "name": "stdout",
     "output_type": "stream",
     "text": [
      "my name is 24 my age is Wasiq\n"
     ]
    }
   ],
   "source": [
    "print(\"my name is {} my age is {}\".format(age, name))"
   ]
  },
  {
   "cell_type": "code",
   "execution_count": 78,
   "id": "09b13876",
   "metadata": {},
   "outputs": [
    {
     "name": "stdout",
     "output_type": "stream",
     "text": [
      "my name is Wasiq my age is 24\n"
     ]
    }
   ],
   "source": [
    "print(\"my name is {n} my age is {a}\".format(a =age, n = name))"
   ]
  },
  {
   "cell_type": "code",
   "execution_count": 79,
   "id": "751078ba",
   "metadata": {},
   "outputs": [],
   "source": [
    "from string import Template"
   ]
  },
  {
   "cell_type": "code",
   "execution_count": 80,
   "id": "7464c6b9",
   "metadata": {},
   "outputs": [
    {
     "data": {
      "text/plain": [
       "'my name is Wasiq my age is 34'"
      ]
     },
     "execution_count": 80,
     "metadata": {},
     "output_type": "execute_result"
    }
   ],
   "source": [
    "Template(\"my name is $name my age is $age\").substitute(name = name, age = 34)"
   ]
  },
  {
   "cell_type": "code",
   "execution_count": 81,
   "id": "bc72fe61",
   "metadata": {},
   "outputs": [],
   "source": [
    "email_template = Template(\"\"\"\n",
    "                          From:$sender\n",
    "                          To:$receiver\n",
    "                            Subject:$subject\n",
    "                            $body\n",
    "                          \"\"\")"
   ]
  },
  {
   "cell_type": "code",
   "execution_count": 82,
   "id": "0ba81149",
   "metadata": {},
   "outputs": [
    {
     "data": {
      "text/plain": [
       "'\\n                          From:wasiq@gmail.com\\n                          To:sskuamr@gmail.com\\n                            Subject:test mail\\n                            this is a test mail\\n                          '"
      ]
     },
     "execution_count": 82,
     "metadata": {},
     "output_type": "execute_result"
    }
   ],
   "source": [
    "email_template.substitute(sender = input(\"enter a serder information\"),receiver=\"sskuamr@gmail.com\",\n",
    "                          subject=\"test mail\",body=\"this is a test mail\")"
   ]
  },
  {
   "cell_type": "code",
   "execution_count": 83,
   "id": "fe518456",
   "metadata": {},
   "outputs": [
    {
     "name": "stdout",
     "output_type": "stream",
     "text": [
      "\n",
      "                          From:wasiq@gmail.com\n",
      "                          To:sskuamr@gmail.com\n",
      "                            Subject:test mail\n",
      "                            this is a test mail\n",
      "                          \n"
     ]
    }
   ],
   "source": [
    "temp= email_template.substitute(sender = input(\"enter a serder information\"),receiver=\"sskuamr@gmail.com\",\n",
    "                          subject=\"test mail\",body=\"this is a test mail\")\n",
    "\n",
    "print(temp)"
   ]
  },
  {
   "cell_type": "code",
   "execution_count": null,
   "id": "485a5a4e",
   "metadata": {},
   "outputs": [],
   "source": []
  }
 ],
 "metadata": {
  "kernelspec": {
   "display_name": "Python 3",
   "language": "python",
   "name": "python3"
  },
  "language_info": {
   "codemirror_mode": {
    "name": "ipython",
    "version": 3
   },
   "file_extension": ".py",
   "mimetype": "text/x-python",
   "name": "python",
   "nbconvert_exporter": "python",
   "pygments_lexer": "ipython3",
   "version": "3.10.0"
  }
 },
 "nbformat": 4,
 "nbformat_minor": 5
}
