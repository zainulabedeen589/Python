{
 "cells": [
  {
   "cell_type": "markdown",
   "id": "ae64e6a5",
   "metadata": {},
   "source": [
    "<center> <h1 style= \"color:red\"> Assignments-2 </h1> </center>\n",
    "\n",
    "<center> <h2 style= \"color:orange\"> Section 1: Creating & Accessing Strings (Basic) </h2> </center>\n",
    "\n",
    "1. Create three different strings using different quotation methods (single quotes, double \n",
    "quotes, and triple quotes). \n",
    "2. Create a string variable containing your full name and write code to:\n",
    "    * Print the first character\n",
    "    * Print the last character\n",
    "    * Print the length of the string \n",
    "3. Given the string s = \"Python Programming\": \n",
    "    * Access and print the letter 'P' in \"Programming\" using positive indexing\n",
    "    * Access and print the letter 'P' in \"Programming\" using negative indexing"
   ]
  },
  {
   "cell_type": "code",
   "execution_count": 2,
   "id": "dbeb4949",
   "metadata": {},
   "outputs": [],
   "source": [
    "# Task 1: Different quotation methods\n",
    "string1 = 'This is a string using single quotes.'\n",
    "string2 = \"This is a string using double quotes.\"\n",
    "string3 = '''This is a string using triple quotes, \n",
    "which can span multiple lines.'''"
   ]
  },
  {
   "cell_type": "code",
   "execution_count": 3,
   "id": "08f2f36a",
   "metadata": {},
   "outputs": [
    {
     "name": "stdout",
     "output_type": "stream",
     "text": [
      "First character: M\n",
      "Last character: q\n",
      "Length of the string: 14\n"
     ]
    }
   ],
   "source": [
    "\n",
    "# Task 2: String operations with a full name\n",
    "full_name = \"Mohammad Wasiq\"\n",
    "\n",
    "# Printing the first character\n",
    "print(\"First character:\", full_name[0])\n",
    "\n",
    "# Printing the last character\n",
    "print(\"Last character:\", full_name[-1])\n",
    "\n",
    "# Printing the length of the string\n",
    "print(\"Length of the string:\", len(full_name))"
   ]
  },
  {
   "cell_type": "code",
   "execution_count": 4,
   "id": "45372b18",
   "metadata": {},
   "outputs": [
    {
     "name": "stdout",
     "output_type": "stream",
     "text": [
      "Positive Indexing: P\n",
      "Negative Indexing: P\n"
     ]
    }
   ],
   "source": [
    "# Task 3: Accessing 'P' in \"Programming\"\n",
    "s = \"Python Programming\"\n",
    "\n",
    "# Using positive indexing\n",
    "print(\"Positive Indexing:\", s[7])  # 'P' in \"Programming\"\n",
    "\n",
    "# Using negative indexing\n",
    "print(\"Negative Indexing:\", s[-11])  # 'P' in \"Programming\"\n"
   ]
  },
  {
   "cell_type": "markdown",
   "id": "eff0cf97",
   "metadata": {},
   "source": [
    "\n",
    "<center> <h2 style= \"color:orange\"> Section 2: Slicing & Extended Slicing (Basic to Intermediate) </h2> </center>\n",
    " \n",
    "1. Using the string s = \"Python Programming\": \n",
    "    * Extract and print \"Python\" \n",
    "    * Extract and print \"Programming\" \n",
    "    * Extract and print \"gram\" \n",
    "2. Given s = \"0123456789\": \n",
    "    * Extract every even-indexed character \n",
    "    * Extract every odd-indexed character \n",
    "    * Reverse the string using slicing \n",
    "3. Create a function that takes a string and returns a \"rotated\" version where the first character is moved to the end. For example, \"Python\" becomes \"ythonP\". \n"
   ]
  },
  {
   "cell_type": "code",
   "execution_count": 5,
   "id": "108999be",
   "metadata": {},
   "outputs": [
    {
     "name": "stdout",
     "output_type": "stream",
     "text": [
      "Extracted 'Python': Python\n",
      "Extracted 'Programming': Programming\n",
      "Extracted 'gram': gram\n"
     ]
    }
   ],
   "source": [
    "# Task 1: Slicing the string \"Python Programming\"\n",
    "s = \"Python Programming\"\n",
    "\n",
    "# Extracting and printing \"Python\"\n",
    "print(\"Extracted 'Python':\", s[:6])\n",
    "\n",
    "# Extracting and printing \"Programming\"\n",
    "print(\"Extracted 'Programming':\", s[7:])\n",
    "\n",
    "# Extracting and printing \"gram\"\n",
    "print(\"Extracted 'gram':\", s[10:14])"
   ]
  },
  {
   "cell_type": "code",
   "execution_count": 6,
   "id": "5e72a805",
   "metadata": {},
   "outputs": [
    {
     "name": "stdout",
     "output_type": "stream",
     "text": [
      "Even-indexed characters: 02468\n",
      "Odd-indexed characters: 13579\n",
      "Reversed string: 9876543210\n"
     ]
    }
   ],
   "source": [
    "\n",
    "# Task 2: Extracting characters using slicing\n",
    "s2 = \"0123456789\"\n",
    "\n",
    "# Extract every even-indexed character\n",
    "print(\"Even-indexed characters:\", s2[::2])\n",
    "\n",
    "# Extract every odd-indexed character\n",
    "print(\"Odd-indexed characters:\", s2[1::2])\n",
    "\n",
    "# Reverse the string using slicing\n",
    "print(\"Reversed string:\", s2[::-1])"
   ]
  },
  {
   "cell_type": "code",
   "execution_count": 7,
   "id": "69fc1025",
   "metadata": {},
   "outputs": [
    {
     "name": "stdout",
     "output_type": "stream",
     "text": [
      "Rotated string: ythonP\n"
     ]
    }
   ],
   "source": [
    "\n",
    "# Task 3: Function to rotate a string\n",
    "def rotate_string(input_string):\n",
    "    return input_string[1:] + input_string[0]\n",
    "\n",
    "# Testing the function\n",
    "rotated = rotate_string(\"Python\")\n",
    "print(\"Rotated string:\", rotated)"
   ]
  },
  {
   "cell_type": "markdown",
   "id": "25c6428d",
   "metadata": {},
   "source": [
    "<center> <h2 style= \"color:orange\"> Section 3: Immutability & Interning (Intermediate) </h2> </center>\n",
    "\n",
    "1. Demonstrate string immutability with an example. Try to change a character in a string and explain what happens. \n",
    "2. Write code to check if two strings with the same content point to the same memory location. Test this with: \n",
    "    * Two string literals with the same content \n",
    "    * Two string variables assigned the same string literal \n",
    "    * Two string variables created using string operations that result in the same content \n",
    "3. Create a function that efficiently concatenates a large number of strings. Compare your  approach with using the + operator in a loop. "
   ]
  },
  {
   "cell_type": "code",
   "execution_count": 8,
   "id": "42ffd0f1",
   "metadata": {},
   "outputs": [
    {
     "ename": "TypeError",
     "evalue": "'str' object does not support item assignment",
     "output_type": "error",
     "traceback": [
      "\u001b[1;31m---------------------------------------------------------------------------\u001b[0m",
      "\u001b[1;31mTypeError\u001b[0m                                 Traceback (most recent call last)",
      "Cell \u001b[1;32mIn[8], line 3\u001b[0m\n\u001b[0;32m      1\u001b[0m \u001b[38;5;66;03m# Task 1: Demonstrating string immutability\u001b[39;00m\n\u001b[0;32m      2\u001b[0m s \u001b[38;5;241m=\u001b[39m \u001b[38;5;124m\"\u001b[39m\u001b[38;5;124mHello\u001b[39m\u001b[38;5;124m\"\u001b[39m\n\u001b[1;32m----> 3\u001b[0m \u001b[43ms\u001b[49m\u001b[43m[\u001b[49m\u001b[38;5;241;43m0\u001b[39;49m\u001b[43m]\u001b[49m \u001b[38;5;241m=\u001b[39m \u001b[38;5;124m'\u001b[39m\u001b[38;5;124mJ\u001b[39m\u001b[38;5;124m'\u001b[39m\n\u001b[0;32m      4\u001b[0m s\n",
      "\u001b[1;31mTypeError\u001b[0m: 'str' object does not support item assignment"
     ]
    }
   ],
   "source": [
    "# Task 1: Demonstrating string immutability\n",
    "s = \"Hello\"\n",
    "s[0] = 'J'\n",
    "s"
   ]
  },
  {
   "cell_type": "code",
   "execution_count": 9,
   "id": "4fa8e9e6",
   "metadata": {},
   "outputs": [
    {
     "name": "stdout",
     "output_type": "stream",
     "text": [
      "s1 and s2 point to the same memory location: True\n",
      "str1 and str2 point to the same memory location: True\n",
      "new_str1 and new_str2 point to the same memory location: True\n"
     ]
    }
   ],
   "source": [
    "\n",
    "# Task 2: Checking if two strings point to the same memory location\n",
    "# Two string literals with the same content\n",
    "s1 = \"Python\"\n",
    "s2 = \"Python\"\n",
    "print(\"s1 and s2 point to the same memory location:\", s1 is s2)\n",
    "\n",
    "# Two string variables assigned the same string literal\n",
    "str1 = \"Programming\"\n",
    "str2 = str1\n",
    "print(\"str1 and str2 point to the same memory location:\", str1 is str2)\n",
    "\n",
    "# Two string variables created using operations resulting in the same content\n",
    "new_str1 = \"Py\" + \"thon\"  # This results in \"Python\"\n",
    "new_str2 = \"Python\"\n",
    "print(\"new_str1 and new_str2 point to the same memory location:\", new_str1 is new_str2)"
   ]
  },
  {
   "cell_type": "code",
   "execution_count": null,
   "id": "31862701",
   "metadata": {},
   "outputs": [
    {
     "name": "stdout",
     "output_type": "stream",
     "text": [
      "Efficient Concatenation: Hello World!\n",
      "Inefficient Concatenation: Hello World!\n"
     ]
    }
   ],
   "source": [
    "# Task 3: Efficiently concatenating a large number of strings\n",
    "def efficient_concatenation(strings):\n",
    "    return \"\".join(strings)  # Using join() for better performance\n",
    "\n",
    "# Compare with using the + operator in a loop\n",
    "def inefficient_concatenation(strings):\n",
    "    result = \"\"\n",
    "    for s in strings:\n",
    "        result += s  # Using += in loop (inefficient)\n",
    "    return result\n",
    "\n",
    "# Testing both approaches\n",
    "test_strings = [\"Hello\", \" \", \"World\", \"!\"]\n",
    "print(\"Efficient Concatenation:\", efficient_concatenation(test_strings))\n",
    "print(\"Inefficient Concatenation:\", inefficient_concatenation(test_strings))"
   ]
  },
  {
   "cell_type": "markdown",
   "id": "60187302",
   "metadata": {},
   "source": [
    "<center> <h2 style= \"color:orange\"> Section 4: String Methods (Intermediate) </h2> </center>\n",
    "\n",
    "1. Given the string s = \" Python is Amazing! \": \n",
    "    * Remove leading and trailing whitespace \n",
    "    * Convert to all uppercase \n",
    "    * Convert to all lowercase \n",
    "    * Replace \"Amazing\" with \"Awesome\" \n",
    "2. Write a function that counts the occurrences of each character in a string and returns a dictionary with the results. \n",
    "3. Create a function that checks if a string is a palindrome (reads the same backward as  forward), ignoring case, spaces, and punctuation. \n",
    "4. Given s = \"python,java,c++,javascript,ruby\": \n",
    "    * Split the string into a list of programming languages \n",
    "    * Join the list with a different separator (e.g., \" | \")"
   ]
  },
  {
   "cell_type": "code",
   "execution_count": 11,
   "id": "004e25d5",
   "metadata": {},
   "outputs": [
    {
     "name": "stdout",
     "output_type": "stream",
     "text": [
      "Trimmed: Python is Amazing!\n",
      "Uppercase:  PYTHON IS AMAZING! \n",
      "Lowercase:  python is amazing! \n",
      "Replaced:  Python is Awesome! \n"
     ]
    }
   ],
   "source": [
    "import string\n",
    "\n",
    "# Task 1: String methods\n",
    "s = \" Python is Amazing! \"\n",
    "\n",
    "# Removing leading and trailing whitespace\n",
    "print(\"Trimmed:\", s.strip())\n",
    "\n",
    "# Converting to all uppercase\n",
    "print(\"Uppercase:\", s.upper())\n",
    "\n",
    "# Converting to all lowercase\n",
    "print(\"Lowercase:\", s.lower())\n",
    "\n",
    "# Replacing \"Amazing\" with \"Awesome\"\n",
    "print(\"Replaced:\", s.replace(\"Amazing\", \"Awesome\"))"
   ]
  },
  {
   "cell_type": "code",
   "execution_count": 12,
   "id": "ce7f3c04",
   "metadata": {},
   "outputs": [
    {
     "name": "stdout",
     "output_type": "stream",
     "text": [
      "Character count: {'h': 1, 'e': 1, 'l': 3, 'o': 2, ' ': 1, 'w': 1, 'r': 1, 'd': 1}\n"
     ]
    }
   ],
   "source": [
    "\n",
    "# Task 2: Function to count occurrences of each character\n",
    "def count_characters(input_string):\n",
    "    char_count = {}\n",
    "    for char in input_string:\n",
    "        char_count[char] = char_count.get(char, 0) + 1\n",
    "    return char_count\n",
    "\n",
    "# Testing character count function\n",
    "print(\"Character count:\", count_characters(\"hello world\"))"
   ]
  },
  {
   "cell_type": "code",
   "execution_count": 13,
   "id": "7eab70d5",
   "metadata": {},
   "outputs": [
    {
     "name": "stdout",
     "output_type": "stream",
     "text": [
      "Is 'racecar' a palindrome? True\n",
      "Is 'Was it a car or a cat I saw' a palindrome? True\n"
     ]
    }
   ],
   "source": [
    "\n",
    "# Task 3: Function to check if a string is a palindrome\n",
    "def is_palindrome(input_string):\n",
    "    cleaned_string = \"\".join(char.lower() for char in input_string if char.isalnum())  # Remove spaces & punctuation\n",
    "    return cleaned_string == cleaned_string[::-1]\n",
    "\n",
    "# Testing palindrome function\n",
    "print(\"Is 'racecar' a palindrome?\", is_palindrome(\"Racecar\"))\n",
    "print(\"Is 'Was it a car or a cat I saw' a palindrome?\", is_palindrome(\"Was it a car or a cat I saw\"))"
   ]
  },
  {
   "cell_type": "code",
   "execution_count": null,
   "id": "1b50e2a0",
   "metadata": {},
   "outputs": [
    {
     "name": "stdout",
     "output_type": "stream",
     "text": [
      "Languages list: ['python', 'java', 'c++', 'javascript', 'ruby']\n",
      "Joined with separator: python | java | c++ | javascript | ruby\n"
     ]
    }
   ],
   "source": [
    "# Task 4: Splitting and joining strings\n",
    "s2 = \"python,java,c++,javascript,ruby\"\n",
    "\n",
    "# Splitting into a list\n",
    "languages = s2.split(\",\")\n",
    "print(\"Languages list:\", languages)\n",
    "\n",
    "# Joining the list with a different separator\n",
    "print(\"Joined with separator:\", \" | \".join(languages))"
   ]
  },
  {
   "cell_type": "markdown",
   "id": "61ddb8bf",
   "metadata": {},
   "source": [
    "<center> <h2 style= \"color:orange\"> Section 5: Escape Sequences & Raw Strings (Intermediate) </h2> </center>\n",
    "\n",
    "1. Create a string that includes tab characters, newlines, and quotes using escape sequences. \n",
    "2. Explain when you would use raw strings in Python and provide an example with file  paths. \n",
    "3. Create a function that formats a multi-line address with proper newlines and indentation  using escape sequences. \n",
    "4. Write a program that takes a Windows file path (with backslashes) as input and correctly processes it using raw strings."
   ]
  },
  {
   "cell_type": "code",
   "execution_count": 15,
   "id": "022a4c2d",
   "metadata": {},
   "outputs": [
    {
     "name": "stdout",
     "output_type": "stream",
     "text": [
      "Escaped String:\n",
      " This is a tab:\tIndented text\n",
      "This is a newline.\n",
      "\"Here is a quote.\"\n"
     ]
    }
   ],
   "source": [
    "# Task 1: String with escape sequences\n",
    "escaped_string = \"This is a tab:\\tIndented text\\nThis is a newline.\\n\\\"Here is a quote.\\\"\"\n",
    "print(\"Escaped String:\\n\", escaped_string)"
   ]
  },
  {
   "cell_type": "code",
   "execution_count": 16,
   "id": "185c484f",
   "metadata": {},
   "outputs": [
    {
     "name": "stdout",
     "output_type": "stream",
     "text": [
      "Raw String File Path: C:\\Users\\Name\\Documents\\example.txt\n"
     ]
    }
   ],
   "source": [
    "\n",
    "# Task 2: Using raw strings and file path example\n",
    "file_path = r\"C:\\Users\\Name\\Documents\\example.txt\"\n",
    "print(\"Raw String File Path:\", file_path)"
   ]
  },
  {
   "cell_type": "code",
   "execution_count": 17,
   "id": "e2f10342",
   "metadata": {},
   "outputs": [
    {
     "name": "stdout",
     "output_type": "stream",
     "text": [
      "Formatted Address:\n",
      " John Doe\n",
      "\t123 Main St\n",
      "\tSpringfield, 12345\n"
     ]
    }
   ],
   "source": [
    "\n",
    "# Explanation: \n",
    "# Raw strings are useful when dealing with file paths or regular expressions \n",
    "# because they prevent Python from interpreting backslashes as escape characters.\n",
    "\n",
    "# Task 3: Function to format a multi-line address\n",
    "def format_address(name, street, city, zip_code):\n",
    "    return f\"{name}\\n\\t{street}\\n\\t{city}, {zip_code}\"\n",
    "\n",
    "# Testing the address formatting function\n",
    "formatted_address = format_address(\"John Doe\", \"123 Main St\", \"Springfield\", \"12345\")\n",
    "print(\"Formatted Address:\\n\", formatted_address)"
   ]
  },
  {
   "cell_type": "code",
   "execution_count": 18,
   "id": "7b0feba2",
   "metadata": {},
   "outputs": [
    {
     "name": "stdout",
     "output_type": "stream",
     "text": [
      "Processed File Path: C:\\Users\\Name\\Documents\\example.txt\n"
     ]
    }
   ],
   "source": [
    "# Task 4: Processing Windows file path with raw strings\n",
    "def process_file_path(file_path):\n",
    "    # Using raw string to correctly interpret backslashes\n",
    "    return r\"{}\".format(file_path)\n",
    "\n",
    "# Testing file path processing function\n",
    "windows_path = \"C:\\\\Users\\\\Name\\\\Documents\\\\example.txt\"\n",
    "print(\"Processed File Path:\", process_file_path(windows_path))\n"
   ]
  },
  {
   "cell_type": "markdown",
   "id": "a82c98fe",
   "metadata": {},
   "source": [
    "<center> <h2 style= \"color:orange\"> Section 6: Unicode & Multiline Strings (Intermediate to Advanced) </h2> </center>\n",
    "\n",
    "1. Create strings containing characters from at least three different writing systems (e.g.,  Latin, Cyrillic, Arabic, CJK). \n",
    "2. Write a function that counts the number of characters in a Unicode string, taking into  account combining characters and surrogate pairs. \n",
    "3. Create a multi-line string containing a short poem or quote with proper formatting. \n",
    "4. Create a function that takes a multi-line string and returns the line with the most characters. "
   ]
  },
  {
   "cell_type": "code",
   "execution_count": 19,
   "id": "69d568be",
   "metadata": {},
   "outputs": [
    {
     "name": "stdout",
     "output_type": "stream",
     "text": [
      "Latin: Hello, world!\n",
      "Cyrillic: Привет, мир!\n",
      "Arabic: مرحبا بالعالم!\n",
      "CJK: 你好，世界！\n"
     ]
    }
   ],
   "source": [
    "import unicodedata\n",
    "\n",
    "# Task 1: Strings with different writing systems\n",
    "latin = \"Hello, world!\"  # Latin script\n",
    "cyrillic = \"Привет, мир!\"  # Cyrillic script (Russian)\n",
    "arabic = \"مرحبا بالعالم!\"  # Arabic script\n",
    "cjk = \"你好，世界！\"  # Chinese script\n",
    "\n",
    "print(\"Latin:\", latin)\n",
    "print(\"Cyrillic:\", cyrillic)\n",
    "print(\"Arabic:\", arabic)\n",
    "print(\"CJK:\", cjk)"
   ]
  },
  {
   "cell_type": "code",
   "execution_count": 20,
   "id": "bb8a106d",
   "metadata": {},
   "outputs": [
    {
     "name": "stdout",
     "output_type": "stream",
     "text": [
      "Unicode character count: 5\n"
     ]
    }
   ],
   "source": [
    "\n",
    "# Task 2: Function to count characters in a Unicode string\n",
    "def count_unicode_chars(input_string):\n",
    "    return sum(1 for char in input_string if unicodedata.category(char) != \"Mn\")  # Ignoring combining marks\n",
    "\n",
    "# Testing character counting function\n",
    "unicode_text = \"Héllo̩\"  # Contains combining characters\n",
    "print(\"Unicode character count:\", count_unicode_chars(unicode_text))"
   ]
  },
  {
   "cell_type": "code",
   "execution_count": 21,
   "id": "b2df8c5c",
   "metadata": {},
   "outputs": [
    {
     "name": "stdout",
     "output_type": "stream",
     "text": [
      "Poem:\n",
      " Rivers flow, mountains stand,\n",
      "Time moves like grains of sand.\n",
      "\n",
      "Stars will shine, and winds will dance,\n",
      "Life is fleeting—take a chance.\n",
      "\n"
     ]
    }
   ],
   "source": [
    "\n",
    "# Task 3: Multi-line string with proper formatting (short poem)\n",
    "poem = \"\"\"\\\n",
    "Rivers flow, mountains stand,\n",
    "Time moves like grains of sand.\n",
    "\n",
    "Stars will shine, and winds will dance,\n",
    "Life is fleeting—take a chance.\n",
    "\"\"\"\n",
    "print(\"Poem:\\n\", poem)"
   ]
  },
  {
   "cell_type": "code",
   "execution_count": 22,
   "id": "190a0d50",
   "metadata": {},
   "outputs": [
    {
     "name": "stdout",
     "output_type": "stream",
     "text": [
      "Longest line: Stay humble and kind.\n"
     ]
    }
   ],
   "source": [
    "# Task 4: Function to find the longest line in a multi-line string\n",
    "def longest_line(multiline_text):\n",
    "    lines = multiline_text.split(\"\\n\")\n",
    "    return max(lines, key=len)\n",
    "\n",
    "# Testing longest line function\n",
    "quote = \"\"\"\\\n",
    "Dream big.\n",
    "Work hard.\n",
    "Stay humble and kind.\n",
    "Never stop learning.\n",
    "\"\"\"\n",
    "print(\"Longest line:\", longest_line(quote))"
   ]
  },
  {
   "cell_type": "markdown",
   "id": "ec4b86b7",
   "metadata": {},
   "source": [
    "<center> <h2 style= \"color:orange\"> Section 7: String Formatting (Advanced) </h2> </center>\n",
    "\n",
    "1. Format the same data using all three main formatting methods (f-strings, .format(), and % formatting): \n",
    "    * Format a floating-point number to two decimal places \n",
    "    * Format an integer with leading zeros \n",
    "    * Format a string with fixed width and alignment \n",
    "2. Given a dictionary with student information (name, ID, grades), create formatted output using all three formatting methods. \n",
    "3. Create a function that generates a table of data with proper alignment using f-strings. \n",
    "4. Write a program that formats dates and times in different regional formats using string formatting."
   ]
  },
  {
   "cell_type": "code",
   "execution_count": 24,
   "id": "1ff8267e",
   "metadata": {},
   "outputs": [
    {
     "name": "stdout",
     "output_type": "stream",
     "text": [
      "F-string: 123.46\n",
      "Format method: 123.46\n",
      "Percentage formatting: 123.46\n",
      "F-string: 00042\n",
      "Format method: 00042\n",
      "Percentage formatting: 00042\n",
      "F-string: Python    \n",
      "Format method: Python    \n",
      "Percentage formatting: Python    \n"
     ]
    }
   ],
   "source": [
    "# Task 1: Formatting using f-strings, .format(), and % formatting\n",
    "num = 123.45678\n",
    "integer_value = 42\n",
    "text = \"Python\"\n",
    "\n",
    "# Formatting a floating-point number to two decimal places\n",
    "print(f\"F-string: {num:.2f}\")\n",
    "print(\"Format method: {:.2f}\".format(num))\n",
    "print(\"Percentage formatting: %.2f\" % num)\n",
    "\n",
    "# Formatting an integer with leading zeros (width of 5)\n",
    "print(f\"F-string: {integer_value:05d}\")\n",
    "print(\"Format method: {:05d}\".format(integer_value))\n",
    "print(\"Percentage formatting: %05d\" % integer_value)\n",
    "\n",
    "# Formatting a string with fixed width and alignment\n",
    "print(f\"F-string: {text:<10}\")  # Left-aligned\n",
    "print(\"Format method: {:<10}\".format(text))  # Left-aligned\n",
    "print(\"Percentage formatting: %-10s\" % text)  # Left-aligned"
   ]
  },
  {
   "cell_type": "code",
   "execution_count": 25,
   "id": "8964a533",
   "metadata": {},
   "outputs": [
    {
     "name": "stdout",
     "output_type": "stream",
     "text": [
      "Student: Alice, ID: 12345, Grades: [90, 85, 88]\n",
      "Student: Alice, ID: 12345, Grades: [90, 85, 88]\n",
      "Student: Alice, ID: 12345, Grades: [90, 85, 88]\n"
     ]
    }
   ],
   "source": [
    "# Task 2: Formatting student information using all three methods\n",
    "student = {\"name\": \"Alice\", \"ID\": 12345, \"grades\": [90, 85, 88]}\n",
    "\n",
    "# Using f-strings\n",
    "print(f\"Student: {student['name']}, ID: {student['ID']}, Grades: {student['grades']}\")\n",
    "\n",
    "# Using format()\n",
    "print(\"Student: {}, ID: {}, Grades: {}\".format(student[\"name\"], student[\"ID\"], student[\"grades\"]))\n",
    "\n",
    "# Using % formatting\n",
    "print(\"Student: %s, ID: %d, Grades: %s\" % (student[\"name\"], student[\"ID\"], student[\"grades\"]))"
   ]
  },
  {
   "cell_type": "code",
   "execution_count": 26,
   "id": "59d37fa5",
   "metadata": {},
   "outputs": [
    {
     "name": "stdout",
     "output_type": "stream",
     "text": [
      "Name       Score     \n",
      "====================\n",
      "Alice      90        \n",
      "Bob        85        \n",
      "Charlie    88        \n"
     ]
    }
   ],
   "source": [
    "# Task 3: Function to generate a table with proper alignment using f-strings\n",
    "def format_table(data):\n",
    "    print(f\"{'Name':<10} {'Score':<10}\")\n",
    "    print(\"=\" * 20)\n",
    "    for name, score in data:\n",
    "        print(f\"{name:<10} {score:<10}\")\n",
    "\n",
    "# Testing table formatting\n",
    "students_data = [(\"Alice\", 90), (\"Bob\", 85), (\"Charlie\", 88)]\n",
    "format_table(students_data)"
   ]
  },
  {
   "cell_type": "code",
   "execution_count": null,
   "id": "5a6e0efe",
   "metadata": {},
   "outputs": [
    {
     "name": "stdout",
     "output_type": "stream",
     "text": [
      "ISO Format: 2025-05-09T21:42:28.174756\n",
      "US Format: 05/09/2025 09:42 PM\n",
      "European Format: 09/05/2025 21:42\n",
      "Asian Format: 2025-05-09 21:42\n",
      "Custom Format: Friday, May 09, 2025 21:42:28\n"
     ]
    }
   ],
   "source": [
    "from datetime import datetime\n",
    "# Task 4: Formatting dates and times in different regional formats\n",
    "now = datetime.now()\n",
    "\n",
    "# ISO Format (default)\n",
    "print(f\"ISO Format: {now.isoformat()}\")\n",
    "\n",
    "# US format (MM/DD/YYYY HH:MM AM/PM)\n",
    "print(f\"US Format: {now.strftime('%m/%d/%Y %I:%M %p')}\")\n",
    "\n",
    "# European format (DD/MM/YYYY HH:MM)\n",
    "print(f\"European Format: {now.strftime('%d/%m/%Y %H:%M')}\")\n",
    "\n",
    "# Asian format (YYYY-MM-DD HH:MM)\n",
    "print(f\"Asian Format: {now.strftime('%Y-%m-%d %H:%M')}\")\n",
    "\n",
    "# Custom format (weekday, full date & time)\n",
    "print(f\"Custom Format: {now.strftime('%A, %B %d, %Y %H:%M:%S')}\")\n"
   ]
  },
  {
   "cell_type": "code",
   "execution_count": null,
   "id": "8645c34a",
   "metadata": {},
   "outputs": [],
   "source": []
  }
 ],
 "metadata": {
  "kernelspec": {
   "display_name": "Python 3",
   "language": "python",
   "name": "python3"
  },
  "language_info": {
   "codemirror_mode": {
    "name": "ipython",
    "version": 3
   },
   "file_extension": ".py",
   "mimetype": "text/x-python",
   "name": "python",
   "nbconvert_exporter": "python",
   "pygments_lexer": "ipython3",
   "version": "3.10.0"
  }
 },
 "nbformat": 4,
 "nbformat_minor": 5
}
