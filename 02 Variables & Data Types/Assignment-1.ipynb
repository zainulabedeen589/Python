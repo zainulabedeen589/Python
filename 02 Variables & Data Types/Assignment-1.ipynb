{
 "cells": [
  {
   "cell_type": "markdown",
   "id": "6de93f5c",
   "metadata": {},
   "source": [
    "<center> <h1 style= \"color:red\"> Assignments-I </h1> </center>\n",
    "\n",
    "<center> <h2 style= \"color:orange\"> Part 1: Variables and Memory Allocation </h2> </center>\n",
    "\n",
    "\n",
    "### Exercise 1.1: Memory Exploration \n",
    "Write a program that demonstrates how variables and memory allocation work in Python. Your \n",
    "program should: \n",
    "1. Create variables of different types (int, float, string, list, tuple). \n",
    "2. Print the ID (memory address) of each variable using the id() function. \n",
    "3. Create a second variable that references the same object as one of your first variables. \n",
    "4. Modify the original variable and observe what happens to the second one (for both \n",
    "mutable and immutable types). \n",
    "5. Include comments explaining the behavior you observe. "
   ]
  },
  {
   "cell_type": "code",
   "execution_count": 3,
   "id": "d2eb2775",
   "metadata": {},
   "outputs": [],
   "source": [
    "# Memory Exploration in Python\n",
    "\n",
    "# 1: Create variables of different types\n",
    "integer_var = 42\n",
    "float_var = 3.14\n",
    "string_var = \"Hello\"\n",
    "list_var = [1, 2, 3]\n",
    "tuple_var = (4, 5, 6)"
   ]
  },
  {
   "cell_type": "code",
   "execution_count": 4,
   "id": "3adab6a4",
   "metadata": {},
   "outputs": [
    {
     "name": "stdout",
     "output_type": "stream",
     "text": [
      "Memory addresses of variables:\n",
      "integer_var: 1995278583312\n",
      "float_var: 1995354634064\n",
      "string_var: 1995356655088\n",
      "list_var: 1995356465984\n",
      "tuple_var: 1995356468608\n"
     ]
    }
   ],
   "source": [
    "# 2: Print memory address of each variable\n",
    "print(\"Memory addresses of variables:\")\n",
    "print(f\"integer_var: {id(integer_var)}\")\n",
    "print(f\"float_var: {id(float_var)}\")\n",
    "print(f\"string_var: {id(string_var)}\")\n",
    "print(f\"list_var: {id(list_var)}\")\n",
    "print(f\"tuple_var: {id(tuple_var)}\")"
   ]
  },
  {
   "cell_type": "code",
   "execution_count": 5,
   "id": "d34ffc04",
   "metadata": {},
   "outputs": [
    {
     "name": "stdout",
     "output_type": "stream",
     "text": [
      "\n",
      "Memory addresses after aliasing:\n",
      "second_list_var: 1995356465984 (same as list_var)\n",
      "second_string_var: 1995356655088 (same as string_var)\n"
     ]
    }
   ],
   "source": [
    "# 3: Create a second variable referencing the same object\n",
    "second_list_var = list_var  # References the same list object\n",
    "second_string_var = string_var  # References the same string object\n",
    "\n",
    "print(\"\\nMemory addresses after aliasing:\")\n",
    "print(f\"second_list_var: {id(second_list_var)} (same as list_var)\")\n",
    "print(f\"second_string_var: {id(second_string_var)} (same as string_var)\")"
   ]
  },
  {
   "cell_type": "code",
   "execution_count": 6,
   "id": "d1f4c428",
   "metadata": {},
   "outputs": [
    {
     "name": "stdout",
     "output_type": "stream",
     "text": [
      "\n",
      "Memory addresses after modification:\n",
      "list_var: 1995356465984\n",
      "second_list_var: 1995356465984\n",
      "string_var: 1995356664496\n",
      "second_string_var: 1995356655088\n"
     ]
    }
   ],
   "source": [
    "# 4: Modify the original variable and observe changes\n",
    "list_var.append(4)  # Lists are mutable, changes affect all references\n",
    "string_var = \"World\"  # Strings are immutable, reassignment creates a new object\n",
    "\n",
    "print(\"\\nMemory addresses after modification:\")\n",
    "print(f\"list_var: {id(list_var)}\")\n",
    "print(f\"second_list_var: {id(second_list_var)}\")  # Still the same, since list is mutable\n",
    "print(f\"string_var: {id(string_var)}\")  # New memory address because strings are immutable\n",
    "print(f\"second_string_var: {id(second_string_var)}\")  # Remains same, as original reference is unchanged"
   ]
  },
  {
   "cell_type": "markdown",
   "id": "96b51117",
   "metadata": {
    "vscode": {
     "languageId": "latex"
    }
   },
   "source": [
    "### **Observations**:\n",
    "- Immutable objects (int, float, string, tuple) cannot be modified. Changing them creates a new memory allocation.\n",
    "- Mutable objects (list, dict) can be modified in place, affecting all references pointing to them.\n"
   ]
  },
  {
   "cell_type": "markdown",
   "id": "2b92b430",
   "metadata": {},
   "source": [
    "### Exercise 1.2: Variable Scope Investigation \n",
    "Create a function that demonstrates variable scope in Python: \n",
    "1. Define global variables outside the function. \n",
    "2. Define local variables inside the function with the same names. \n",
    "3. Try to modify a global variable both with and without the global keyword. \n",
    "4. Print the IDs of all variables before and after modifications. \n",
    "5. Explain what happens and why in your comments."
   ]
  },
  {
   "cell_type": "code",
   "execution_count": 7,
   "id": "09fd2f90",
   "metadata": {},
   "outputs": [
    {
     "name": "stdout",
     "output_type": "stream",
     "text": [
      "Outside function - Initial global_var:\n",
      "global_var: 10, ID: 1995278582288\n",
      "Inside function - Before modification:\n",
      "Local global_var: 20, ID: 1995278582608\n",
      "local_var: 30, ID: 1995278582928\n",
      "\n",
      "Inside function - After modification (without global keyword):\n",
      "Local global_var: 25, ID: 1995278582768\n",
      "\n",
      "Inside function - Before modification (with global keyword):\n",
      "global_var: 10, ID: 1995278582288\n",
      "\n",
      "Inside function - After modification (with global keyword):\n",
      "global_var: 15, ID: 1995278582448\n",
      "\n",
      "Outside function - Final global_var:\n",
      "global_var: 15, ID: 1995278582448\n"
     ]
    }
   ],
   "source": [
    "# Global variable definition\n",
    "global_var = 10  # A global variable\n",
    "\n",
    "def scope_exploration():\n",
    "    # Local variable with the same name as the global variable\n",
    "    global_var = 20  # This creates a new local variable, NOT modifying the global one\n",
    "    local_var = 30   # Another local variable\n",
    "\n",
    "    print(\"Inside function - Before modification:\")\n",
    "    print(f\"Local global_var: {global_var}, ID: {id(global_var)}\")\n",
    "    print(f\"local_var: {local_var}, ID: {id(local_var)}\")\n",
    "\n",
    "    # Trying to modify the global variable without 'global' keyword\n",
    "    global_var += 5  # This only affects the local copy\n",
    "\n",
    "    print(\"\\nInside function - After modification (without global keyword):\")\n",
    "    print(f\"Local global_var: {global_var}, ID: {id(global_var)}\")\n",
    "\n",
    "def scope_modification():\n",
    "    global global_var  # Explicitly declare we are modifying the global variable\n",
    "    print(\"\\nInside function - Before modification (with global keyword):\")\n",
    "    print(f\"global_var: {global_var}, ID: {id(global_var)}\")\n",
    "\n",
    "    global_var += 5  # Modifies the actual global variable\n",
    "\n",
    "    print(\"\\nInside function - After modification (with global keyword):\")\n",
    "    print(f\"global_var: {global_var}, ID: {id(global_var)}\")\n",
    "\n",
    "# Checking initial global variable\n",
    "print(\"Outside function - Initial global_var:\")\n",
    "print(f\"global_var: {global_var}, ID: {id(global_var)}\")\n",
    "\n",
    "# Calling the functions\n",
    "scope_exploration()\n",
    "scope_modification()\n",
    "\n",
    "# Final global variable check\n",
    "print(\"\\nOutside function - Final global_var:\")\n",
    "print(f\"global_var: {global_var}, ID: {id(global_var)}\")"
   ]
  },
  {
   "cell_type": "markdown",
   "id": "7ee5fa16",
   "metadata": {},
   "source": [
    "<center> <h2 style= \"color:orange\"> Part 2: Data Types and Type Conversion </h2> </center>\n",
    "\n",
    "### Create a program that: \n",
    "1. Creates at least one variable of each of these types: int, float, complex, bool, str, and \n",
    "None. \n",
    "2. Uses the type() function to verify the type of each variable. \n",
    "3. Uses isinstance() to check if variables are of specific types. \n",
    "4. Demonstrates at least three examples where Python automatically converts types in \n",
    "expressions. \n",
    "5. Includes comments documenting your observations about type behavior. "
   ]
  },
  {
   "cell_type": "code",
   "execution_count": 8,
   "id": "05b10a74",
   "metadata": {},
   "outputs": [],
   "source": [
    "# Type Exploration in Python\n",
    "\n",
    "# 1: Creating variables of different types\n",
    "int_var = 10  # Integer\n",
    "float_var = 3.14  # Floating-point number\n",
    "complex_var = 2 + 3j  # Complex number\n",
    "bool_var = True  # Boolean\n",
    "str_var = \"Hello, Python!\"  # String\n",
    "none_var = None  # NoneType"
   ]
  },
  {
   "cell_type": "code",
   "execution_count": 9,
   "id": "ca735127",
   "metadata": {},
   "outputs": [
    {
     "name": "stdout",
     "output_type": "stream",
     "text": [
      "Variable Types:\n",
      "int_var: <class 'int'>\n",
      "float_var: <class 'float'>\n",
      "complex_var: <class 'complex'>\n",
      "bool_var: <class 'bool'>\n",
      "str_var: <class 'str'>\n",
      "none_var: <class 'NoneType'>\n"
     ]
    }
   ],
   "source": [
    "# 2: Verifying types using type()\n",
    "print(\"Variable Types:\")\n",
    "print(f\"int_var: {type(int_var)}\")\n",
    "print(f\"float_var: {type(float_var)}\")\n",
    "print(f\"complex_var: {type(complex_var)}\")\n",
    "print(f\"bool_var: {type(bool_var)}\")\n",
    "print(f\"str_var: {type(str_var)}\")\n",
    "print(f\"none_var: {type(none_var)}\")"
   ]
  },
  {
   "cell_type": "code",
   "execution_count": 10,
   "id": "0d715009",
   "metadata": {},
   "outputs": [
    {
     "name": "stdout",
     "output_type": "stream",
     "text": [
      "\n",
      "Type Checking with isinstance():\n",
      "Is int_var an int? True\n",
      "Is float_var a float? True\n",
      "Is complex_var a complex number? True\n",
      "Is bool_var a bool? True\n",
      "Is str_var a string? True\n",
      "Is none_var None? True\n"
     ]
    }
   ],
   "source": [
    "# 3: Checking types with isinstance()\n",
    "print(\"\\nType Checking with isinstance():\")\n",
    "print(f\"Is int_var an int? {isinstance(int_var, int)}\")\n",
    "print(f\"Is float_var a float? {isinstance(float_var, float)}\")\n",
    "print(f\"Is complex_var a complex number? {isinstance(complex_var, complex)}\")\n",
    "print(f\"Is bool_var a bool? {isinstance(bool_var, bool)}\")\n",
    "print(f\"Is str_var a string? {isinstance(str_var, str)}\")\n",
    "print(f\"Is none_var None? {isinstance(none_var, type(None))}\")"
   ]
  },
  {
   "cell_type": "code",
   "execution_count": 11,
   "id": "e359731f",
   "metadata": {},
   "outputs": [
    {
     "name": "stdout",
     "output_type": "stream",
     "text": [
      "\n",
      "Automatic Type Conversion Examples:\n",
      "int_var + float_var = 13.14, Type: <class 'float'>\n",
      "bool_var + int_var = 11, Type: <class 'int'>\n",
      "float_var * complex_var = (6.28+9.42j), Type: <class 'complex'>\n"
     ]
    }
   ],
   "source": [
    "# 4: Demonstrating automatic type conversion\n",
    "print(\"\\nAutomatic Type Conversion Examples:\")\n",
    "result_1 = int_var + float_var  # int + float → float\n",
    "print(f\"int_var + float_var = {result_1}, Type: {type(result_1)}\")\n",
    "\n",
    "result_2 = bool_var + int_var  # bool + int → int (True is treated as 1)\n",
    "print(f\"bool_var + int_var = {result_2}, Type: {type(result_2)}\")\n",
    "\n",
    "result_3 = float_var * complex_var  # float * complex → complex\n",
    "print(f\"float_var * complex_var = {result_3}, Type: {type(result_3)}\")\n"
   ]
  },
  {
   "cell_type": "markdown",
   "id": "dee634ce",
   "metadata": {},
   "source": [
    "\n",
    "### **Observations**:\n",
    "- Python dynamically assigns types to variables.\n",
    "- The `type()` function confirms the variable type.\n",
    "- `isinstance()` checks type membership, useful for conditional operations.\n",
    "- Python automatically promotes types in expressions:\n",
    "    - `int` + `float` results in a `float`.\n",
    "    - `bool` behaves like `int` (True → 1, False → 0).\n",
    "    - `float` and `complex` combine into a `complex` result."
   ]
  },
  {
   "cell_type": "markdown",
   "id": "05926980",
   "metadata": {},
   "source": [
    "### Exercise 2.2: Type Conversion Challenge \n",
    "Write a function that: \n",
    "1. Takes a string input containing a mixture of numbers and text (e.g., \"I am 25 years old \n",
    "and my height is 5.9 feet\"). \n",
    "2. Extracts all numbers from the string and converts them to their appropriate numeric types \n",
    "(int or float). \n",
    "3. Returns a tuple containing two lists: one with all integers found and one with all floats \n",
    "found. \n",
    "4. Handles potential conversion errors gracefully. "
   ]
  },
  {
   "cell_type": "code",
   "execution_count": 12,
   "id": "0feb1ff9",
   "metadata": {},
   "outputs": [
    {
     "name": "stdout",
     "output_type": "stream",
     "text": [
      "Extracted integers: [25]\n",
      "Extracted floats: [5.9]\n"
     ]
    }
   ],
   "source": [
    "import re\n",
    "\n",
    "def extract_numbers(text):\n",
    "\n",
    "    try:\n",
    "        # Step 1: Find all number-like patterns using regex\n",
    "        number_strings = re.findall(r'\\d+\\.\\d+|\\d+', text)\n",
    "\n",
    "        # Step 2: Convert extracted numbers to int or float\n",
    "        int_list = []\n",
    "        float_list = []\n",
    "\n",
    "        for num_str in number_strings:\n",
    "            if '.' in num_str:  # Contains a decimal point, so it's a float\n",
    "                float_list.append(float(num_str))\n",
    "            else:  # Otherwise, it's an integer\n",
    "                int_list.append(int(num_str))\n",
    "\n",
    "        return int_list, float_list\n",
    "\n",
    "    except Exception as e:\n",
    "        print(f\"Error during extraction: {e}\")\n",
    "        return [], []\n",
    "\n",
    "# Example usage\n",
    "text = \"I am 25 years old and my height is 5.9 feet\"\n",
    "integers, floats = extract_numbers(text)\n",
    "\n",
    "print(\"Extracted integers:\", integers)\n",
    "print(\"Extracted floats:\", floats)"
   ]
  },
  {
   "cell_type": "markdown",
   "id": "09db05e6",
   "metadata": {},
   "source": [
    "<center> <h2 style= \"color:orange\"> Part 3: Number Systems and Representation </h2> </center>\n",
    "\n",
    "### Exercise 3.1: Base Converter \n",
    "Create a set of functions that: \n",
    "1. Converts decimal integers to binary, octal, and hexadecimal strings without using built-in \n",
    "functions like bin(), oct(), or hex(). \n",
    "2. Converts binary, octal, and hexadecimal strings to decimal integers without using int(x, \n",
    "base). \n",
    "3. Demonstrates your functions with at least five different numbers. \n",
    "4. Verifies your results by comparing with Python's built-in conversion functions."
   ]
  },
  {
   "cell_type": "code",
   "execution_count": 13,
   "id": "20d6ae96",
   "metadata": {},
   "outputs": [
    {
     "name": "stdout",
     "output_type": "stream",
     "text": [
      "Decimal to Binary, Octal, Hexadecimal conversions:\n",
      "Decimal: 0\n",
      "Binary: 0 (Python: 0)\n",
      "Octal: 0 (Python: 0)\n",
      "Hexadecimal: 0 (Python: 0)\n",
      "\n",
      "Decimal: 15\n",
      "Binary: 1111 (Python: 1111)\n",
      "Octal: 17 (Python: 17)\n",
      "Hexadecimal: F (Python: f)\n",
      "\n",
      "Decimal: 42\n",
      "Binary: 101010 (Python: 101010)\n",
      "Octal: 52 (Python: 52)\n",
      "Hexadecimal: 2A (Python: 2a)\n",
      "\n",
      "Decimal: 128\n",
      "Binary: 10000000 (Python: 10000000)\n",
      "Octal: 200 (Python: 200)\n",
      "Hexadecimal: 80 (Python: 80)\n",
      "\n",
      "Decimal: 255\n",
      "Binary: 11111111 (Python: 11111111)\n",
      "Octal: 377 (Python: 377)\n",
      "Hexadecimal: FF (Python: ff)\n",
      "\n",
      "Binary to Decimal conversions:\n",
      "Binary: 0, Decimal: 0 (Python: 0)\n",
      "Binary: 1111, Decimal: 15 (Python: 15)\n",
      "Binary: 101010, Decimal: 42 (Python: 42)\n",
      "Binary: 10000000, Decimal: 128 (Python: 128)\n",
      "Binary: 11111111, Decimal: 255 (Python: 255)\n",
      "\n",
      "Octal to Decimal conversions:\n",
      "Octal: 0, Decimal: 0 (Python: 0)\n",
      "Octal: 17, Decimal: 15 (Python: 15)\n",
      "Octal: 52, Decimal: 42 (Python: 42)\n",
      "Octal: 200, Decimal: 128 (Python: 128)\n",
      "Octal: 377, Decimal: 255 (Python: 255)\n",
      "\n",
      "Hexadecimal to Decimal conversions:\n",
      "Hexadecimal: 0, Decimal: 0 (Python: 0)\n",
      "Hexadecimal: F, Decimal: 15 (Python: 15)\n",
      "Hexadecimal: 2A, Decimal: 42 (Python: 42)\n",
      "Hexadecimal: 80, Decimal: 128 (Python: 128)\n",
      "Hexadecimal: FF, Decimal: 255 (Python: 255)\n"
     ]
    }
   ],
   "source": [
    "# Function to convert decimal to binary\n",
    "def decimal_to_binary(n):\n",
    "    binary = \"\"\n",
    "    if n == 0:\n",
    "        return \"0\"\n",
    "    while n > 0:\n",
    "        binary = str(n % 2) + binary\n",
    "        n //= 2\n",
    "    return binary\n",
    "\n",
    "# Function to convert decimal to octal\n",
    "def decimal_to_octal(n):\n",
    "    octal = \"\"\n",
    "    if n == 0:\n",
    "        return \"0\"\n",
    "    while n > 0:\n",
    "        octal = str(n % 8) + octal\n",
    "        n //= 8\n",
    "    return octal\n",
    "\n",
    "# Function to convert decimal to hexadecimal\n",
    "def decimal_to_hexadecimal(n):\n",
    "    hex_digits = \"0123456789ABCDEF\"\n",
    "    hexadecimal = \"\"\n",
    "    if n == 0:\n",
    "        return \"0\"\n",
    "    while n > 0:\n",
    "        hexadecimal = hex_digits[n % 16] + hexadecimal\n",
    "        n //= 16\n",
    "    return hexadecimal\n",
    "\n",
    "# Function to convert binary to decimal\n",
    "def binary_to_decimal(binary_str):\n",
    "    decimal = 0\n",
    "    for digit in binary_str:\n",
    "        decimal = decimal * 2 + int(digit)\n",
    "    return decimal\n",
    "\n",
    "# Function to convert octal to decimal\n",
    "def octal_to_decimal(octal_str):\n",
    "    decimal = 0\n",
    "    for digit in octal_str:\n",
    "        decimal = decimal * 8 + int(digit)\n",
    "    return decimal\n",
    "\n",
    "# Function to convert hexadecimal to decimal\n",
    "def hexadecimal_to_decimal(hex_str):\n",
    "    hex_digits = \"0123456789ABCDEF\"\n",
    "    decimal = 0\n",
    "    for digit in hex_str.upper():\n",
    "        decimal = decimal * 16 + hex_digits.index(digit)\n",
    "    return decimal\n",
    "\n",
    "# Demonstration with sample numbers\n",
    "sample_numbers = [0, 15, 42, 128, 255]\n",
    "\n",
    "print(\"Decimal to Binary, Octal, Hexadecimal conversions:\")\n",
    "for num in sample_numbers:\n",
    "    print(f\"Decimal: {num}\")\n",
    "    print(f\"Binary: {decimal_to_binary(num)} (Python: {bin(num)[2:]})\")\n",
    "    print(f\"Octal: {decimal_to_octal(num)} (Python: {oct(num)[2:]})\")\n",
    "    print(f\"Hexadecimal: {decimal_to_hexadecimal(num)} (Python: {hex(num)[2:]})\\n\")\n",
    "\n",
    "print(\"Binary to Decimal conversions:\")\n",
    "binary_values = [\"0\", \"1111\", \"101010\", \"10000000\", \"11111111\"]\n",
    "for b in binary_values:\n",
    "    print(f\"Binary: {b}, Decimal: {binary_to_decimal(b)} (Python: {int(b, 2)})\")\n",
    "\n",
    "print(\"\\nOctal to Decimal conversions:\")\n",
    "octal_values = [\"0\", \"17\", \"52\", \"200\", \"377\"]\n",
    "for o in octal_values:\n",
    "    print(f\"Octal: {o}, Decimal: {octal_to_decimal(o)} (Python: {int(o, 8)})\")\n",
    "\n",
    "print(\"\\nHexadecimal to Decimal conversions:\")\n",
    "hex_values = [\"0\", \"F\", \"2A\", \"80\", \"FF\"]\n",
    "for h in hex_values:\n",
    "    print(f\"Hexadecimal: {h}, Decimal: {hexadecimal_to_decimal(h)} (Python: {int(h, 16)})\")\n"
   ]
  },
  {
   "cell_type": "markdown",
   "id": "48a9afa5",
   "metadata": {},
   "source": [
    "<center> <h2 style= \"color:orange\"> Part 4: Floating-Point Precision </h2> </center>\n",
    "\n",
    "### Exercise 4.1: Precision Problems \n",
    "Write a program that demonstrates floating-point precision issues: \n",
    "1. Create at least five examples where floating-point arithmetic gives unexpected results. \n",
    "2. For each example, explain why the result occurs. \n",
    "3. Implement a solution to each problem using at least two different approaches (rounding, \n",
    "epsilon comparison, Decimal, Fraction, etc.). \n",
    "4. Compare the accuracy and performance of each solution. "
   ]
  },
  {
   "cell_type": "code",
   "execution_count": 14,
   "id": "2b7955fb",
   "metadata": {},
   "outputs": [
    {
     "name": "stdout",
     "output_type": "stream",
     "text": [
      "Example 1: 0.1 + 0.2 = 0.30000000000000004 (Expected: 0.3)\n",
      "Solution: Rounded to 10 decimal places: 0.3\n",
      "Example 2: Is 0.1 + 0.2 == 0.3? False\n",
      "Solution: Using epsilon comparison: True\n",
      "Example 3: Large number precision loss: 1e16 + 1.0 = 1e+16 (Expected: 1e16 + 1)\n",
      "Solution: Using Decimal: 10000000000000001.0\n",
      "Example 4: 1 / 3 = 0.3333333333333333 (Unexpected floating-point representation)\n",
      "Solution: Using Fraction module: 1/3\n",
      "Example 5: Accumulation error: Sum of ten 0.1s = 0.9999999999999999 (Expected: 1.0)\n",
      "Solution: Using Decimal: 1.0\n",
      "\n",
      "Performance Comparison:\n",
      "Floating-point sum time: 0.06423 seconds\n",
      "Decimal sum time: 0.17707 seconds\n"
     ]
    }
   ],
   "source": [
    "import math\n",
    "import decimal\n",
    "import fractions\n",
    "\n",
    "# Example 1: Unexpected rounding errors\n",
    "num1 = 0.1 + 0.2\n",
    "print(f\"Example 1: 0.1 + 0.2 = {num1} (Expected: 0.3)\")\n",
    "\n",
    "# Solution 1: Using rounding\n",
    "rounded_num1 = round(num1, 10)\n",
    "print(f\"Solution: Rounded to 10 decimal places: {rounded_num1}\")\n",
    "\n",
    "# Example 2: Comparing floating-point values directly\n",
    "num2 = 0.3\n",
    "print(f\"Example 2: Is 0.1 + 0.2 == 0.3? {num1 == num2}\")\n",
    "\n",
    "# Solution 2: Using epsilon comparison\n",
    "epsilon = 1e-9\n",
    "print(f\"Solution: Using epsilon comparison: {math.isclose(num1, num2, rel_tol=epsilon)}\")\n",
    "\n",
    "# Example 3: Large numbers losing precision\n",
    "num3 = 1e16 + 1.0\n",
    "print(f\"Example 3: Large number precision loss: 1e16 + 1.0 = {num3} (Expected: 1e16 + 1)\")\n",
    "\n",
    "# Solution 3: Using Decimal module\n",
    "decimal.getcontext().prec = 30\n",
    "decimal_num3 = decimal.Decimal(\"1e16\") + decimal.Decimal(\"1.0\")\n",
    "print(f\"Solution: Using Decimal: {decimal_num3}\")\n",
    "\n",
    "# Example 4: Division precision errors\n",
    "num4 = 1 / 3\n",
    "print(f\"Example 4: 1 / 3 = {num4} (Unexpected floating-point representation)\")\n",
    "\n",
    "# Solution 4: Using Fraction module\n",
    "fraction_num4 = fractions.Fraction(1, 3)\n",
    "print(f\"Solution: Using Fraction module: {fraction_num4}\")\n",
    "\n",
    "# Example 5: Accumulation errors in loops\n",
    "sum_accumulate = 0.0\n",
    "for _ in range(10):\n",
    "    sum_accumulate += 0.1\n",
    "\n",
    "print(f\"Example 5: Accumulation error: Sum of ten 0.1s = {sum_accumulate} (Expected: 1.0)\")\n",
    "\n",
    "# Solution 5: Using Decimal for accumulation\n",
    "decimal_sum = decimal.Decimal(\"0.0\")\n",
    "for _ in range(10):\n",
    "    decimal_sum += decimal.Decimal(\"0.1\")\n",
    "\n",
    "print(f\"Solution: Using Decimal: {decimal_sum}\")\n",
    "\n",
    "# Performance Comparison\n",
    "import timeit\n",
    "float_time = timeit.timeit(\"sum([0.1] * 10)\", number=100000)\n",
    "decimal_time = timeit.timeit(\"sum([decimal.Decimal('0.1')] * 10)\", setup=\"import decimal\", number=100000)\n",
    "print(\"\\nPerformance Comparison:\")\n",
    "print(f\"Floating-point sum time: {float_time:.5f} seconds\")\n",
    "print(f\"Decimal sum time: {decimal_time:.5f} seconds\")\n",
    "\n"
   ]
  },
  {
   "cell_type": "markdown",
   "id": "b10ffdcf",
   "metadata": {},
   "source": [
    "<center> <h2 style= \"color:orange\"> Part 5: Deep Dive Modules </h2> </center>\n",
    " \n",
    "Exercise 5.1: Math Module Explorer \n",
    "Write a program that explores the capabilities of the math module: \n",
    "1. Use at least 10 different functions from the math module. \n",
    "2. Create practical examples for each function. \n",
    "3. Create a function that calculates the roots of a quadratic equation using math functions. \n",
    "4. Create a function that converts between different angle units (degrees, radians) using \n",
    "math functions. \n",
    "5. Include comments explaining each function and its application."
   ]
  },
  {
   "cell_type": "code",
   "execution_count": 15,
   "id": "85c74dd3",
   "metadata": {},
   "outputs": [
    {
     "name": "stdout",
     "output_type": "stream",
     "text": [
      "Square root of 16: 4.0\n",
      "Factorial of 2: 2\n",
      "Power of 16 to 2: 256.0\n",
      "Logarithm of 16: 2.772588722239781\n",
      "Ceiling of 16: 16\n",
      "Floor of 16: 16\n",
      "Trigonometric sine of 16 radians: -0.2879033166650653\n",
      "Cosine of 16 radians: -0.9576594803233847\n",
      "Absolute value of -4: 4.0\n",
      "Radian to Degree conversion of 16 radians: 916.7324722093172\n"
     ]
    }
   ],
   "source": [
    "import math\n",
    "\n",
    "# 1.& 2. Use at least 10 different functions from the math module\n",
    "x = 16\n",
    "y = 2\n",
    "z = -4\n",
    "\n",
    "# Examples:\n",
    "print(f\"Square root of {x}: {math.sqrt(x)}\")\n",
    "print(f\"Factorial of {y}: {math.factorial(y)}\")\n",
    "print(f\"Power of {x} to {y}: {math.pow(x, y)}\")\n",
    "print(f\"Logarithm of {x}: {math.log(x)}\")\n",
    "print(f\"Ceiling of {x}: {math.ceil(x)}\")\n",
    "print(f\"Floor of {x}: {math.floor(x)}\")\n",
    "print(f\"Trigonometric sine of {x} radians: {math.sin(x)}\")\n",
    "print(f\"Cosine of {x} radians: {math.cos(x)}\")\n",
    "print(f\"Absolute value of {z}: {math.fabs(z)}\")\n",
    "print(f\"Radian to Degree conversion of {x} radians: {math.degrees(x)}\")"
   ]
  },
  {
   "cell_type": "code",
   "execution_count": 16,
   "id": "5240c067",
   "metadata": {},
   "outputs": [
    {
     "name": "stdout",
     "output_type": "stream",
     "text": [
      "Roots of equation 1x^2 - 3x + 2 = 0: (2.0, 1.0)\n"
     ]
    }
   ],
   "source": [
    "# 3. Function to calculate the roots of a quadratic equation using math functions\n",
    "def calculate_roots(a, b, c):\n",
    "    discriminant = math.sqrt(b**2 - 4*a*c)\n",
    "    root1 = (-b + discriminant) / (2*a)\n",
    "    root2 = (-b - discriminant) / (2*a)\n",
    "    return (root1, root2)\n",
    "\n",
    "print(f\"Roots of equation 1x^2 - 3x + 2 = 0: {calculate_roots(1, -3, 2)}\")"
   ]
  },
  {
   "cell_type": "code",
   "execution_count": 17,
   "id": "75995568",
   "metadata": {},
   "outputs": [
    {
     "name": "stdout",
     "output_type": "stream",
     "text": [
      "90 degrees to radians: 1.5707963267948966\n",
      "π/2 radians to degrees: 90.0\n"
     ]
    }
   ],
   "source": [
    "# 4. Function to convert between different angle units\n",
    "def convert_angle(value, unit=\"radian\"):\n",
    "    if unit == \"radian\":\n",
    "        return math.degrees(value)\n",
    "    elif unit == \"degree\":\n",
    "        return math.radians(value)\n",
    "    else:\n",
    "        return \"Invalid unit\"\n",
    "\n",
    "# Convert 90 degrees to radians\n",
    "print(f\"90 degrees to radians: {convert_angle(90, 'degree')}\")\n",
    "\n",
    "# Convert π/2 radians to degrees\n",
    "print(f\"π/2 radians to degrees: {convert_angle(math.pi / 2, 'radian')}\")\n"
   ]
  }
 ],
 "metadata": {
  "kernelspec": {
   "display_name": "Python 3",
   "language": "python",
   "name": "python3"
  },
  "language_info": {
   "codemirror_mode": {
    "name": "ipython",
    "version": 3
   },
   "file_extension": ".py",
   "mimetype": "text/x-python",
   "name": "python",
   "nbconvert_exporter": "python",
   "pygments_lexer": "ipython3",
   "version": "3.10.0"
  }
 },
 "nbformat": 4,
 "nbformat_minor": 5
}
