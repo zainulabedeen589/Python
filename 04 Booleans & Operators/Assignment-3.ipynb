{
 "cells": [
  {
   "cell_type": "markdown",
   "id": "12a9ebfe",
   "metadata": {},
   "source": [
    "<center> <h1 style= \"color:red\"> Assignments-3 </h1> </center>\n",
    "\n",
    "<center> <h2 style= \"color:orange\"> Boolean & Operators </h2> </center>\n",
    "\n",
    "1. Write a Python script to compare two numbers and print whether the first is greater. \n",
    "2. Check if a given number is between 10 and 50. \n",
    "3. Write a program that checks if a number is positive and even using logical and. \n",
    "4. Given two strings, check if either string is empty using logical or. \n",
    "5. Use not to flip a boolean variable and print its new value. \n",
    "6. Evaluate and explain: 5 > 3 and 2 < 4 \n",
    "7. Determine the output: not (3 == 3 or 4 > 5) \n",
    "8. Write a program to check if a variable is None using is. \n",
    "9. Check if two variables point to the same object using is. \n",
    "10. Create two identical lists and compare them using == and is. \n",
    "11. What will be the result of True and not False or False and True? Break down its precedence.\n",
    "12. Write a function that returns True if a value is falsy. \n",
    "13. Implement a condition to check if a string is not empty and contains the word \"Python\". \n",
    "14. Create a truth table for A and B or not A with all possible combinations. \n",
    "15. Compare identity and equality with numbers and strings — explain when they behave differently. \n",
    "16. Write a function that checks if a list is empty without using len(). \n",
    "17. Evaluate: None == False, None is False, [] == [], [] is [] and explain. \n",
    "18. Make a calculator that returns result only if all inputs are truthy; else returns 'Invalid Input'. \n",
    "19. Compare how not (x and y) differs from not x or not y using DeMorgan's Laws. \n",
    "20. Assign a complex logical expression to a variable and explain it step-by-step using print statements."
   ]
  },
  {
   "cell_type": "code",
   "execution_count": 1,
   "id": "a8cd9f31",
   "metadata": {},
   "outputs": [
    {
     "name": "stdout",
     "output_type": "stream",
     "text": [
      "10 is greater than 5\n"
     ]
    }
   ],
   "source": [
    "# 1. Compare two numbers and print whether the first is greater\n",
    "\n",
    "a, b = 10, 5\n",
    "if a > b:\n",
    "    print(f\"{a} is greater than {b}\")"
   ]
  },
  {
   "cell_type": "code",
   "execution_count": 2,
   "id": "43ba8afb",
   "metadata": {},
   "outputs": [
    {
     "name": "stdout",
     "output_type": "stream",
     "text": [
      "25 is between 10 and 50\n"
     ]
    }
   ],
   "source": [
    "# 2. Check if a number is between 10 and 50\n",
    "\n",
    "num = 25\n",
    "if 10 <= num <= 50:\n",
    "    print(f\"{num} is between 10 and 50\")"
   ]
  },
  {
   "cell_type": "code",
   "execution_count": 3,
   "id": "f18bdef0",
   "metadata": {},
   "outputs": [
    {
     "name": "stdout",
     "output_type": "stream",
     "text": [
      "8 is positive and even\n"
     ]
    }
   ],
   "source": [
    "# 3. Check if a number is positive and even using `and`\n",
    "\n",
    "num = 8\n",
    "if num > 0 and num % 2 == 0:\n",
    "    print(f\"{num} is positive and even\")"
   ]
  },
  {
   "cell_type": "code",
   "execution_count": 4,
   "id": "d2ba0dac",
   "metadata": {},
   "outputs": [
    {
     "name": "stdout",
     "output_type": "stream",
     "text": [
      "One of the strings is empty\n"
     ]
    }
   ],
   "source": [
    "# 4. Check if either string is empty using `or`\n",
    "\n",
    "str1, str2 = \"Hello\", \"\"\n",
    "if not str1 or not str2:\n",
    "    print(\"One of the strings is empty\")"
   ]
  },
  {
   "cell_type": "code",
   "execution_count": 5,
   "id": "44df3393",
   "metadata": {},
   "outputs": [
    {
     "name": "stdout",
     "output_type": "stream",
     "text": [
      "False\n"
     ]
    }
   ],
   "source": [
    "# 5. Use `not` to flip a boolean variable\n",
    "\n",
    "flag = True\n",
    "flag = not flag\n",
    "print(flag)"
   ]
  },
  {
   "cell_type": "code",
   "execution_count": 6,
   "id": "f75c05d5",
   "metadata": {},
   "outputs": [
    {
     "name": "stdout",
     "output_type": "stream",
     "text": [
      "True\n"
     ]
    }
   ],
   "source": [
    "# 6. Evaluate: `5 > 3 and 2 < 4`\n",
    "\n",
    "result = 5 > 3 and 2 < 4  # True and True → True\n",
    "print(result)"
   ]
  },
  {
   "cell_type": "code",
   "execution_count": 7,
   "id": "bfabb0bf",
   "metadata": {},
   "outputs": [
    {
     "name": "stdout",
     "output_type": "stream",
     "text": [
      "False\n"
     ]
    }
   ],
   "source": [
    "# 7. Determine output: `not (3 == 3 or 4 > 5)`\n",
    "\n",
    "result = not (True or False)  # not True → False\n",
    "print(result)"
   ]
  },
  {
   "cell_type": "code",
   "execution_count": 8,
   "id": "bd79c4a9",
   "metadata": {},
   "outputs": [
    {
     "name": "stdout",
     "output_type": "stream",
     "text": [
      "Variable is None\n"
     ]
    }
   ],
   "source": [
    "# 8. Check if a variable is `None` using `is`\n",
    "\n",
    "var = None\n",
    "if var is None:\n",
    "    print(\"Variable is None\")"
   ]
  },
  {
   "cell_type": "code",
   "execution_count": 9,
   "id": "4f15c4de",
   "metadata": {},
   "outputs": [
    {
     "name": "stdout",
     "output_type": "stream",
     "text": [
      "False\n"
     ]
    }
   ],
   "source": [
    "# 9. Check if two variables point to the same object using `is`\n",
    "\n",
    "a, b = [], []\n",
    "print(a is b)  # False, as they are different objects"
   ]
  },
  {
   "cell_type": "code",
   "execution_count": 10,
   "id": "713cafd0",
   "metadata": {},
   "outputs": [
    {
     "name": "stdout",
     "output_type": "stream",
     "text": [
      "True\n",
      "False\n"
     ]
    }
   ],
   "source": [
    "# 10. Compare identical lists using `==` and `is`\n",
    "\n",
    "list1 = [1, 2, 3]\n",
    "list2 = [1, 2, 3]\n",
    "print(list1 == list2)  # True, as contents are equal\n",
    "print(list1 is list2)  # False, as they are different objects"
   ]
  },
  {
   "cell_type": "code",
   "execution_count": 11,
   "id": "cbaa5dcf",
   "metadata": {},
   "outputs": [
    {
     "name": "stdout",
     "output_type": "stream",
     "text": [
      "True\n"
     ]
    }
   ],
   "source": [
    "# 11. Evaluate: `True and not False or False and True`\n",
    "\n",
    "result = True and not False or False and True  # True or False → True\n",
    "print(result)"
   ]
  },
  {
   "cell_type": "code",
   "execution_count": 12,
   "id": "983ba5cb",
   "metadata": {},
   "outputs": [
    {
     "name": "stdout",
     "output_type": "stream",
     "text": [
      "True\n",
      "False\n"
     ]
    }
   ],
   "source": [
    "# 12. Function returning `True` for falsy values\n",
    "\n",
    "def is_falsy(value):\n",
    "    return not bool(value)\n",
    "\n",
    "print(is_falsy(0)) \n",
    "print(is_falsy(\"Hello\")) "
   ]
  },
  {
   "cell_type": "code",
   "execution_count": 13,
   "id": "b987bede",
   "metadata": {},
   "outputs": [
    {
     "name": "stdout",
     "output_type": "stream",
     "text": [
      "Valid string\n"
     ]
    }
   ],
   "source": [
    "# 13. Check if a string is not empty and contains \"Python\"\n",
    "\n",
    "text = \"I love Python\"\n",
    "if text and \"Python\" in text:\n",
    "    print(\"Valid string\")"
   ]
  },
  {
   "cell_type": "markdown",
   "id": "56607ca5",
   "metadata": {},
   "source": [
    "\n",
    "### 14. Truth table for `A and B or not A`\n",
    "\n",
    " A  |  B  |  not A  |  A and B  |  Result (A and B or not A) |\n",
    "----|-----|---------|-----------|----------------------------|\n",
    " 0  |  0  |   1    |     0     |            1                |\n",
    " 0  |  1  |   1    |     0     |            1                |\n",
    " 1  |  0  |   0    |     0     |            0                |\n",
    " 1  |  1  |   0    |     1     |            1                |"
   ]
  },
  {
   "cell_type": "markdown",
   "id": "78e62caf",
   "metadata": {},
   "source": [
    "### 15. Identity vs Equality explanation\n",
    "- `==` compares **values**.\n",
    "- `is` checks if variables reference the **same object**.\n",
    "- For small integers or strings, Python may reuse objects (`a = \"hello\"; b = \"hello\"` could mean `a is b` is `True`).\n",
    "- For lists, `a = [1, 2]` and `b = [1, 2]` means `a == b` is `True`, but `a is b` is `False`."
   ]
  },
  {
   "cell_type": "code",
   "execution_count": 14,
   "id": "b642dfb8",
   "metadata": {},
   "outputs": [
    {
     "name": "stdout",
     "output_type": "stream",
     "text": [
      "True\n",
      "False\n"
     ]
    }
   ],
   "source": [
    "# 16. Check if a list is empty without `len()`\n",
    "\n",
    "def is_empty(lst):\n",
    "    return not lst  # Empty lists are falsy\n",
    "\n",
    "print(is_empty([]))\n",
    "print(is_empty([1, 2]))"
   ]
  },
  {
   "cell_type": "code",
   "execution_count": 15,
   "id": "5eb92700",
   "metadata": {},
   "outputs": [
    {
     "name": "stdout",
     "output_type": "stream",
     "text": [
      "False\n",
      "False\n",
      "True\n",
      "False\n"
     ]
    }
   ],
   "source": [
    "# 17. Evaluate:\n",
    "\n",
    "print(None == False)  # False\n",
    "print(None is False)  # False\n",
    "print([] == [])  # True (same content)\n",
    "print([] is [])  # False (different objects)"
   ]
  },
  {
   "cell_type": "code",
   "execution_count": 16,
   "id": "568b37e6",
   "metadata": {},
   "outputs": [
    {
     "name": "stdout",
     "output_type": "stream",
     "text": [
      "7\n",
      "Invalid Input\n"
     ]
    }
   ],
   "source": [
    "# 18. Truthy calculator\n",
    "\n",
    "def calculator(a, b, operator):\n",
    "    if a and b:\n",
    "        return eval(f\"{a} {operator} {b}\")\n",
    "    return \"Invalid Input\"\n",
    "\n",
    "print(calculator(3, 4, \"+\"))\n",
    "print(calculator(0, 4, \"+\"))\n"
   ]
  },
  {
   "cell_type": "code",
   "execution_count": 17,
   "id": "a56cdb61",
   "metadata": {},
   "outputs": [
    {
     "name": "stdout",
     "output_type": "stream",
     "text": [
      "True\n",
      "True\n"
     ]
    }
   ],
   "source": [
    "# 19. `not (x and y)` vs `not x or not y`\n",
    "\n",
    "x, y = True, False\n",
    "print(not (x and y))  # True (negates both being true)\n",
    "print(not x or not y)  # True (negates each separately)"
   ]
  },
  {
   "cell_type": "code",
   "execution_count": 18,
   "id": "4167f449",
   "metadata": {},
   "outputs": [
    {
     "name": "stdout",
     "output_type": "stream",
     "text": [
      "Step 1: 5 > 2 → True\n",
      "Step 2: 3 == 3 → True, 4 > 5 → False\n",
      "Step 3: not (True or False) → False\n",
      "Final result: False\n"
     ]
    }
   ],
   "source": [
    "# 20. Complex logical expression breakdown\n",
    "\n",
    "expr = (5 > 2 and not (3 == 3 or 4 > 5))\n",
    "print(f\"Step 1: 5 > 2 → {5 > 2}\")  \n",
    "print(f\"Step 2: 3 == 3 → {3 == 3}, 4 > 5 → {4 > 5}\")\n",
    "print(f\"Step 3: not (True or False) → {not (True or False)}\")\n",
    "print(f\"Final result: {expr}\")  # False"
   ]
  }
 ],
 "metadata": {
  "kernelspec": {
   "display_name": "Python 3",
   "language": "python",
   "name": "python3"
  },
  "language_info": {
   "codemirror_mode": {
    "name": "ipython",
    "version": 3
   },
   "file_extension": ".py",
   "mimetype": "text/x-python",
   "name": "python",
   "nbconvert_exporter": "python",
   "pygments_lexer": "ipython3",
   "version": "3.10.0"
  }
 },
 "nbformat": 4,
 "nbformat_minor": 5
}
