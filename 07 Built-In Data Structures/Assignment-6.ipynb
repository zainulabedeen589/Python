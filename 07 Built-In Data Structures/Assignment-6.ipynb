{
 "cells": [
  {
   "cell_type": "markdown",
   "id": "12a9ebfe",
   "metadata": {},
   "source": [
    "<center> <h1 style= \"color:red\"> Assignments-6 </h1> </center>\n",
    "\n",
    "<center> <h2 style= \"color:orange\"> Built-In Data Structure </h2> </center>"
   ]
  },
  {
   "cell_type": "markdown",
   "id": "901047e1",
   "metadata": {},
   "source": [
    "<center> <h2 style= \"color:orange\"> Lists: Creation, Methods, Slicing, Nesting </h2> </center>\n",
    "\n",
    "1. Create a list of 10 integers and print the first 5 elements. \n",
    "2. Write a program to append and remove elements from a list. \n",
    "3. Demonstrate list slicing by reversing a list using slicing. \n",
    "4. Create a nested list and access a specific inner element. \n",
    "5. Find the maximum and minimum value from a list without using max/min. \n",
    "6. Flatten a nested list using loops. \n",
    "7. Sort a list in descending order. \n",
    "8. Count the occurrences of each element in a list. \n",
    "9. Write a program to rotate a list left by 2 positions. \n",
    "10. Merge two lists and remove duplicates. \n",
    "11. Generate a list of even numbers using a loop. \n",
    "12. Write a function to check if a list is a palindrome."
   ]
  },
  {
   "cell_type": "code",
   "execution_count": 1,
   "id": "714e7388",
   "metadata": {},
   "outputs": [
    {
     "name": "stdout",
     "output_type": "stream",
     "text": [
      "[1, 2, 3, 4, 5]\n"
     ]
    }
   ],
   "source": [
    "# 1. Create a list of 10 integers and print the first 5 elements\n",
    "num_list = [1, 2, 3, 4, 5, 6, 7, 8, 9, 10]\n",
    "print(num_list[:5])"
   ]
  },
  {
   "cell_type": "code",
   "execution_count": 2,
   "id": "6eedcd5b",
   "metadata": {},
   "outputs": [
    {
     "name": "stdout",
     "output_type": "stream",
     "text": [
      "[10, 30, 40]\n"
     ]
    }
   ],
   "source": [
    "# 2. Append and remove elements from a list\n",
    "my_list = [10, 20, 30]\n",
    "my_list.append(40)  # Append\n",
    "my_list.remove(20)  # Remove\n",
    "print(my_list)"
   ]
  },
  {
   "cell_type": "code",
   "execution_count": 3,
   "id": "520a5c85",
   "metadata": {},
   "outputs": [
    {
     "name": "stdout",
     "output_type": "stream",
     "text": [
      "[5, 4, 3, 2, 1]\n"
     ]
    }
   ],
   "source": [
    "# 3. Reverse a list using slicing\n",
    "reverse_list = [1, 2, 3, 4, 5]\n",
    "print(reverse_list[::-1])"
   ]
  },
  {
   "cell_type": "code",
   "execution_count": 4,
   "id": "396075e3",
   "metadata": {},
   "outputs": [
    {
     "name": "stdout",
     "output_type": "stream",
     "text": [
      "4\n"
     ]
    }
   ],
   "source": [
    "# 4. Create a nested list and access an inner element\n",
    "nested_list = [[1, 2], [3, 4], [5, 6]]\n",
    "print(nested_list[1][1])"
   ]
  },
  {
   "cell_type": "code",
   "execution_count": 5,
   "id": "e8f2e72a",
   "metadata": {},
   "outputs": [
    {
     "name": "stdout",
     "output_type": "stream",
     "text": [
      "Max: 40, Min: 5\n"
     ]
    }
   ],
   "source": [
    "# 5. Find max and min without using max/min\n",
    "num_list = [10, 20, 5, 40, 15]\n",
    "max_val = num_list[0]\n",
    "min_val = num_list[0]\n",
    "for num in num_list:\n",
    "    if num > max_val:\n",
    "        max_val = num\n",
    "    if num < min_val:\n",
    "        min_val = num\n",
    "print(f\"Max: {max_val}, Min: {min_val}\")\n"
   ]
  },
  {
   "cell_type": "code",
   "execution_count": 6,
   "id": "d5b228fb",
   "metadata": {},
   "outputs": [
    {
     "name": "stdout",
     "output_type": "stream",
     "text": [
      "[1, 2, 3, 4, 5, 6]\n"
     ]
    }
   ],
   "source": [
    "# 6. Flatten a nested list using loops\n",
    "nested_list = [[1, 2], [3, 4], [5, 6]]\n",
    "flat_list = []\n",
    "for sublist in nested_list:\n",
    "    for item in sublist:\n",
    "        flat_list.append(item)\n",
    "print(flat_list)"
   ]
  },
  {
   "cell_type": "code",
   "execution_count": 7,
   "id": "84d26c92",
   "metadata": {},
   "outputs": [
    {
     "name": "stdout",
     "output_type": "stream",
     "text": [
      "[9, 6, 5, 5, 2, 1]\n"
     ]
    }
   ],
   "source": [
    "# 7. Sort a list in descending order\n",
    "unsorted_list = [5, 2, 9, 1, 5, 6]\n",
    "sorted_list = sorted(unsorted_list, reverse=True)\n",
    "print(sorted_list)"
   ]
  },
  {
   "cell_type": "code",
   "execution_count": 8,
   "id": "fc6a9f44",
   "metadata": {},
   "outputs": [
    {
     "name": "stdout",
     "output_type": "stream",
     "text": [
      "{1: 1, 2: 2, 3: 3, 4: 1}\n"
     ]
    }
   ],
   "source": [
    "# 8. Count occurrences of each element in a list\n",
    "count_list = [1, 2, 2, 3, 3, 3, 4]\n",
    "occurrences = {}\n",
    "for num in count_list:\n",
    "    occurrences[num] = occurrences.get(num, 0) + 1\n",
    "print(occurrences)"
   ]
  },
  {
   "cell_type": "code",
   "execution_count": 9,
   "id": "4c59ff2d",
   "metadata": {},
   "outputs": [
    {
     "name": "stdout",
     "output_type": "stream",
     "text": [
      "[3, 4, 5, 1, 2]\n"
     ]
    }
   ],
   "source": [
    "# 9. Rotate a list left by 2 positions\n",
    "rotate_list = [1, 2, 3, 4, 5]\n",
    "rotate_list = rotate_list[2:] + rotate_list[:2]\n",
    "print(rotate_list)"
   ]
  },
  {
   "cell_type": "code",
   "execution_count": 10,
   "id": "441ece04",
   "metadata": {},
   "outputs": [
    {
     "name": "stdout",
     "output_type": "stream",
     "text": [
      "[1, 2, 3, 4, 5, 6]\n"
     ]
    }
   ],
   "source": [
    "# 10. Merge two lists and remove duplicates\n",
    "list1 = [1, 2, 3, 4]\n",
    "list2 = [3, 4, 5, 6]\n",
    "merged_list = list(set(list1 + list2))\n",
    "print(merged_list)"
   ]
  },
  {
   "cell_type": "code",
   "execution_count": 11,
   "id": "ae956d7d",
   "metadata": {},
   "outputs": [
    {
     "name": "stdout",
     "output_type": "stream",
     "text": [
      "[2, 4, 6, 8, 10, 12, 14, 16, 18, 20]\n"
     ]
    }
   ],
   "source": [
    "# 11. Generate a list of even numbers using a loop\n",
    "even_numbers = [num for num in range(2, 21, 2)]\n",
    "print(even_numbers)"
   ]
  },
  {
   "cell_type": "code",
   "execution_count": 12,
   "id": "9d01082c",
   "metadata": {},
   "outputs": [
    {
     "name": "stdout",
     "output_type": "stream",
     "text": [
      "True\n"
     ]
    }
   ],
   "source": [
    "# 12. Check if a list is a palindrome\n",
    "def is_palindrome(lst):\n",
    "    return lst == lst[::-1]\n",
    "palindrome_list = [1, 2, 3, 2, 1]\n",
    "print(is_palindrome(palindrome_list))"
   ]
  },
  {
   "cell_type": "markdown",
   "id": "c0705b05",
   "metadata": {},
   "source": [
    "<center> <h2 style= \"color:orange\"> Deep vs Shallow Copy </h2> </center>\n",
    "\n",
    "13. Demonstrate shallow copy using the copy() method. \n",
    "14. Create a deep copy of a nested list and prove the difference with an example. \n",
    "15. Show the effect of modifying a shallow copied list on the original. \n",
    "16. Use the deepcopy() method from the copy module and modify nested structure. \n",
    "17. Explain deep vs shallow copy with diagrams and code. \n",
    "18. Write a program to clone a list containing dictionaries. \n",
    "19. Experiment with shallow copy of list of lists and explain the output. \n",
    "20. Compare id() of nested elements in original and copied list."
   ]
  },
  {
   "cell_type": "code",
   "execution_count": 13,
   "id": "fda6f0fd",
   "metadata": {},
   "outputs": [
    {
     "name": "stdout",
     "output_type": "stream",
     "text": [
      "Original: [1, 2, [3, 4]], Shallow Copy: [1, 2, [3, 4]]\n"
     ]
    }
   ],
   "source": [
    "import copy\n",
    "\n",
    "# 13. Demonstrate shallow copy using the copy() method\n",
    "list1 = [1, 2, [3, 4]]\n",
    "shallow_copy = list1.copy()\n",
    "print(f\"Original: {list1}, Shallow Copy: {shallow_copy}\")"
   ]
  },
  {
   "cell_type": "code",
   "execution_count": 14,
   "id": "4a9548ce",
   "metadata": {},
   "outputs": [
    {
     "name": "stdout",
     "output_type": "stream",
     "text": [
      "Original: [[1, 2], [3, 4]], Deep Copy: [[99, 2], [3, 4]]\n"
     ]
    }
   ],
   "source": [
    "# 14. Create a deep copy of a nested list and prove the difference\n",
    "list2 = [[1, 2], [3, 4]]\n",
    "deep_copy = copy.deepcopy(list2)\n",
    "deep_copy[0][0] = 99  # Modify deep copy\n",
    "print(f\"Original: {list2}, Deep Copy: {deep_copy}\")"
   ]
  },
  {
   "cell_type": "code",
   "execution_count": 15,
   "id": "b1fbc150",
   "metadata": {},
   "outputs": [
    {
     "name": "stdout",
     "output_type": "stream",
     "text": [
      "Original: [1, 2, [99, 4]], Shallow Copy: [1, 2, [99, 4]]\n"
     ]
    }
   ],
   "source": [
    "# 15. Show the effect of modifying a shallow copied list on the original\n",
    "shallow_copy[2][0] = 99  # Modifying nested mutable object\n",
    "print(f\"Original: {list1}, Shallow Copy: {shallow_copy}\")"
   ]
  },
  {
   "cell_type": "code",
   "execution_count": 16,
   "id": "15880faf",
   "metadata": {},
   "outputs": [
    {
     "name": "stdout",
     "output_type": "stream",
     "text": [
      "Original: [[1, 2], [3, 4]], Deep Copied List: [[1, 2], [99, 4]]\n"
     ]
    }
   ],
   "source": [
    "# 16. Use deepcopy() and modify nested structure\n",
    "nested_list = [[1, 2], [3, 4]]\n",
    "deep_copied_list = copy.deepcopy(nested_list)\n",
    "deep_copied_list[1][0] = 99\n",
    "print(f\"Original: {nested_list}, Deep Copied List: {deep_copied_list}\")"
   ]
  },
  {
   "cell_type": "markdown",
   "id": "7b378ff2",
   "metadata": {},
   "source": [
    "```python\n",
    "# 17. Explain deep vs shallow copy with diagrams and code\n",
    "# - Shallow copy replicates the outer structure, but nested mutable elements share the same memory reference.\n",
    "# - Deep copy replicates everything independently.\n",
    "\n",
    "# Diagram example:\n",
    "# list1 = [1, 2, [3, 4]]\n",
    "# shallow_copy = list1.copy()  -> Nested list references are shared\n",
    "# deep_copy = copy.deepcopy(list1)  -> Fully independent structure\n",
    "```"
   ]
  },
  {
   "cell_type": "code",
   "execution_count": 17,
   "id": "8eac8949",
   "metadata": {},
   "outputs": [
    {
     "name": "stdout",
     "output_type": "stream",
     "text": [
      "Original: [{'name': 'Alice'}, {'name': 'Bob'}], Cloned: [{'name': 'Charlie'}, {'name': 'Bob'}]\n"
     ]
    }
   ],
   "source": [
    "# 18. Clone a list containing dictionaries\n",
    "dict_list = [{\"name\": \"Alice\"}, {\"name\": \"Bob\"}]\n",
    "cloned_list = copy.deepcopy(dict_list)\n",
    "cloned_list[0][\"name\"] = \"Charlie\"\n",
    "print(f\"Original: {dict_list}, Cloned: {cloned_list}\")"
   ]
  },
  {
   "cell_type": "code",
   "execution_count": 18,
   "id": "4a949727",
   "metadata": {},
   "outputs": [
    {
     "name": "stdout",
     "output_type": "stream",
     "text": [
      "Original: [[1, 99], [3, 4]], Shallow Copy: [[1, 99], [3, 4]]\n"
     ]
    }
   ],
   "source": [
    "# 19. Experiment with shallow copy of list of lists\n",
    "list_of_lists = [[1, 2], [3, 4]]\n",
    "shallow_copy_lists = list_of_lists.copy()\n",
    "shallow_copy_lists[0][1] = 99\n",
    "print(f\"Original: {list_of_lists}, Shallow Copy: {shallow_copy_lists}\")"
   ]
  },
  {
   "cell_type": "code",
   "execution_count": 19,
   "id": "1feffe6f",
   "metadata": {},
   "outputs": [
    {
     "name": "stdout",
     "output_type": "stream",
     "text": [
      "Original IDs: [2456364394624, 2456364389888]\n",
      "Shallow IDs: [2456364394624, 2456364389888]\n",
      "Deep IDs: [2456363305536, 2456364397184]\n"
     ]
    }
   ],
   "source": [
    "# 20. Compare id() of nested elements in original and copied list\n",
    "original_nested = [[10, 20], [30, 40]]\n",
    "shallow_nested = original_nested.copy()\n",
    "deep_nested = copy.deepcopy(original_nested)\n",
    "\n",
    "print(f\"Original IDs: {[id(x) for x in original_nested]}\")\n",
    "print(f\"Shallow IDs: {[id(x) for x in shallow_nested]}\")  # Same IDs\n",
    "print(f\"Deep IDs: {[id(x) for x in deep_nested]}\")  # Different IDs"
   ]
  },
  {
   "cell_type": "markdown",
   "id": "a03e9e2e",
   "metadata": {},
   "source": [
    "<center> <h2 style= \"color:orange\"> Tuples: Packing, Unpacking, Single-element, namedtuple </h2> </center>\n",
    " \n",
    "21. Create a tuple and unpack it into three variables. \n",
    "22. Create a tuple with one element and verify its type. \n",
    "23. Swap two variables using tuple unpacking. \n",
    "24. Write a function that returns a tuple of two values. \n",
    "25. Use namedtuple to represent a 2D point and print coordinates. \n",
    "26. Create a list of namedtuples representing students. \n",
    "27. Convert a tuple to a list and back to tuple. \n",
    "28. Demonstrate nested tuple unpacking. \n",
    "29. Print the memory size of a tuple vs list of same elements. \n",
    "30. Access elements from a deeply nested tuple. \n",
    "31. Use _asdict() method on a namedtuple and display keys. \n",
    "32. Find and print the index of an element in a tuple."
   ]
  },
  {
   "cell_type": "code",
   "execution_count": 20,
   "id": "91029ab2",
   "metadata": {},
   "outputs": [
    {
     "name": "stdout",
     "output_type": "stream",
     "text": [
      "10 20 30\n"
     ]
    }
   ],
   "source": [
    "import sys\n",
    "from collections import namedtuple\n",
    "\n",
    "# 21. Create a tuple and unpack it into three variables\n",
    "my_tuple = (10, 20, 30)\n",
    "a, b, c = my_tuple\n",
    "print(a, b, c)"
   ]
  },
  {
   "cell_type": "code",
   "execution_count": 21,
   "id": "68894e5d",
   "metadata": {},
   "outputs": [
    {
     "name": "stdout",
     "output_type": "stream",
     "text": [
      "<class 'tuple'>\n"
     ]
    }
   ],
   "source": [
    "# 22. Create a tuple with one element and verify its type\n",
    "single_element_tuple = (42,)\n",
    "print(type(single_element_tuple))"
   ]
  },
  {
   "cell_type": "code",
   "execution_count": 22,
   "id": "9f030dd2",
   "metadata": {},
   "outputs": [
    {
     "name": "stdout",
     "output_type": "stream",
     "text": [
      "10 5\n"
     ]
    }
   ],
   "source": [
    "# 23. Swap two variables using tuple unpacking\n",
    "x, y = 5, 10\n",
    "x, y = y, x\n",
    "print(x, y)"
   ]
  },
  {
   "cell_type": "code",
   "execution_count": 23,
   "id": "53ff880d",
   "metadata": {},
   "outputs": [
    {
     "name": "stdout",
     "output_type": "stream",
     "text": [
      "('Python', 3.9)\n"
     ]
    }
   ],
   "source": [
    "# 24. Function that returns a tuple of two values\n",
    "def get_pair():\n",
    "    return \"Python\", 3.9\n",
    "pair = get_pair()\n",
    "print(pair)"
   ]
  },
  {
   "cell_type": "code",
   "execution_count": 24,
   "id": "0cf61a46",
   "metadata": {},
   "outputs": [
    {
     "name": "stdout",
     "output_type": "stream",
     "text": [
      "Point coordinates: x=3, y=4\n"
     ]
    }
   ],
   "source": [
    "# 25. Use namedtuple to represent a 2D point and print coordinates\n",
    "Point = namedtuple(\"Point\", [\"x\", \"y\"])\n",
    "p1 = Point(3, 4)\n",
    "print(f\"Point coordinates: x={p1.x}, y={p1.y}\")"
   ]
  },
  {
   "cell_type": "code",
   "execution_count": 25,
   "id": "d53aa347",
   "metadata": {},
   "outputs": [
    {
     "name": "stdout",
     "output_type": "stream",
     "text": [
      "[Student(name='Alice', age=20, grade='A'), Student(name='Bob', age=22, grade='B')]\n"
     ]
    }
   ],
   "source": [
    "# 26. Create a list of namedtuples representing students\n",
    "Student = namedtuple(\"Student\", [\"name\", \"age\", \"grade\"])\n",
    "students = [\n",
    "    Student(\"Alice\", 20, \"A\"),\n",
    "    Student(\"Bob\", 22, \"B\"),\n",
    "]\n",
    "print(students)"
   ]
  },
  {
   "cell_type": "code",
   "execution_count": 26,
   "id": "7ecd95a1",
   "metadata": {},
   "outputs": [
    {
     "name": "stdout",
     "output_type": "stream",
     "text": [
      "(1, 2, 3)\n"
     ]
    }
   ],
   "source": [
    "# 27. Convert a tuple to a list and back to tuple\n",
    "sample_tuple = (1, 2, 3)\n",
    "converted_list = list(sample_tuple)\n",
    "converted_back = tuple(converted_list)\n",
    "print(converted_back)"
   ]
  },
  {
   "cell_type": "code",
   "execution_count": 27,
   "id": "75b41649",
   "metadata": {},
   "outputs": [
    {
     "name": "stdout",
     "output_type": "stream",
     "text": [
      "1 2 3 4\n"
     ]
    }
   ],
   "source": [
    "# 28. Demonstrate nested tuple unpacking\n",
    "nested_tuple = ((1, 2), (3, 4))\n",
    "(first_pair, second_pair) = nested_tuple\n",
    "(a, b) = first_pair\n",
    "(c, d) = second_pair\n",
    "print(a, b, c, d)"
   ]
  },
  {
   "cell_type": "code",
   "execution_count": 28,
   "id": "67c3e6bf",
   "metadata": {},
   "outputs": [
    {
     "name": "stdout",
     "output_type": "stream",
     "text": [
      "Tuple size: 80, List size: 120\n"
     ]
    }
   ],
   "source": [
    "# 29. Print the memory size of a tuple vs list of same elements\n",
    "tuple_example = (1, 2, 3, 4, 5)\n",
    "list_example = [1, 2, 3, 4, 5]\n",
    "print(f\"Tuple size: {sys.getsizeof(tuple_example)}, List size: {sys.getsizeof(list_example)}\")"
   ]
  },
  {
   "cell_type": "code",
   "execution_count": 29,
   "id": "d96d1515",
   "metadata": {},
   "outputs": [
    {
     "name": "stdout",
     "output_type": "stream",
     "text": [
      "(4, 5)\n"
     ]
    }
   ],
   "source": [
    "# 30. Access elements from a deeply nested tuple\n",
    "deep_nested = (1, (2, (3, (4, 5))))\n",
    "print(deep_nested[1][1][1])"
   ]
  },
  {
   "cell_type": "code",
   "execution_count": null,
   "id": "1bc42238",
   "metadata": {},
   "outputs": [
    {
     "name": "stdout",
     "output_type": "stream",
     "text": [
      "{'name': 'Charlie', 'age': 21, 'grade': 'A'}\n"
     ]
    }
   ],
   "source": [
    "# 31. Use _asdict() method on a namedtuple and display keys\n",
    "student = Student(\"Charlie\", 21, \"A\")\n",
    "print(student._asdict()) "
   ]
  },
  {
   "cell_type": "code",
   "execution_count": 31,
   "id": "fe52e5cb",
   "metadata": {},
   "outputs": [
    {
     "name": "stdout",
     "output_type": "stream",
     "text": [
      "2\n"
     ]
    }
   ],
   "source": [
    "# 32. Find and print the index of an element in a tuple\n",
    "index_tuple = (10, 20, 30, 40)\n",
    "print(index_tuple.index(30))\n"
   ]
  },
  {
   "cell_type": "markdown",
   "id": "a7393bf4",
   "metadata": {},
   "source": [
    "<center> <h2 style= \"color:orange\"> Sets: Properties, Methods, Set Operations, frozenset </h2> </center>\n",
    "\n",
    "33. Create a set from a list with duplicate values. \n",
    "34. Perform union and intersection on two sets. \n",
    "35. Add and remove elements using add(), discard() methods. \n",
    "36. Convert a list to a frozenset and try to modify it. \n",
    "37. Write a program to find unique words in a string using sets. \n",
    "38. Demonstrate the use of isdisjoint(), issubset(), issuperset(). \n",
    "39. Create a set of squares of numbers from 1 to 10. \n",
    "40. Generate a set from a string that contains only vowels. \n",
    "41. Perform symmetric difference on two sets. \n",
    "42. Check if two sets have at least one common element. \n",
    "43. Write a function to remove duplicates using set. \n",
    "44. Store unique lengths of words from a sentence in a set."
   ]
  },
  {
   "cell_type": "code",
   "execution_count": 32,
   "id": "f1521264",
   "metadata": {},
   "outputs": [
    {
     "name": "stdout",
     "output_type": "stream",
     "text": [
      "{1, 2, 3, 4, 5}\n"
     ]
    }
   ],
   "source": [
    "# 33. Create a set from a list with duplicate values\n",
    "num_list = [1, 2, 2, 3, 4, 4, 5]\n",
    "unique_set = set(num_list)\n",
    "print(unique_set)"
   ]
  },
  {
   "cell_type": "code",
   "execution_count": 33,
   "id": "4189b1ff",
   "metadata": {},
   "outputs": [
    {
     "name": "stdout",
     "output_type": "stream",
     "text": [
      "{1, 2, 3, 4, 5, 6}\n",
      "{3, 4}\n"
     ]
    }
   ],
   "source": [
    "# 34. Perform union and intersection on two sets\n",
    "set1 = {1, 2, 3, 4}\n",
    "set2 = {3, 4, 5, 6}\n",
    "print(set1 | set2)  # Union\n",
    "print(set1 & set2)  # Intersection"
   ]
  },
  {
   "cell_type": "code",
   "execution_count": 34,
   "id": "3a7dee4a",
   "metadata": {},
   "outputs": [
    {
     "name": "stdout",
     "output_type": "stream",
     "text": [
      "{40, 10, 30}\n"
     ]
    }
   ],
   "source": [
    "# 35. Add and remove elements using add(), discard() methods\n",
    "sample_set = {10, 20, 30}\n",
    "sample_set.add(40)\n",
    "sample_set.discard(20)\n",
    "print(sample_set)"
   ]
  },
  {
   "cell_type": "code",
   "execution_count": 36,
   "id": "ef36e132",
   "metadata": {},
   "outputs": [
    {
     "ename": "AttributeError",
     "evalue": "'frozenset' object has no attribute 'add'",
     "output_type": "error",
     "traceback": [
      "\u001b[1;31m---------------------------------------------------------------------------\u001b[0m",
      "\u001b[1;31mAttributeError\u001b[0m                            Traceback (most recent call last)",
      "Cell \u001b[1;32mIn[36], line 3\u001b[0m\n\u001b[0;32m      1\u001b[0m \u001b[38;5;66;03m# 36. Convert a list to a frozenset and try to modify it\u001b[39;00m\n\u001b[0;32m      2\u001b[0m frozen \u001b[38;5;241m=\u001b[39m \u001b[38;5;28mfrozenset\u001b[39m([\u001b[38;5;241m1\u001b[39m, \u001b[38;5;241m2\u001b[39m, \u001b[38;5;241m3\u001b[39m, \u001b[38;5;241m4\u001b[39m])\n\u001b[1;32m----> 3\u001b[0m \u001b[43mfrozen\u001b[49m\u001b[38;5;241;43m.\u001b[39;49m\u001b[43madd\u001b[49m(\u001b[38;5;241m5\u001b[39m)  \u001b[38;5;66;03m# This would raise an error as frozensets are immutable\u001b[39;00m\n",
      "\u001b[1;31mAttributeError\u001b[0m: 'frozenset' object has no attribute 'add'"
     ]
    }
   ],
   "source": [
    "# 36. Convert a list to a frozenset and try to modify it\n",
    "frozen = frozenset([1, 2, 3, 4])\n",
    "frozen.add(5)  # This would raise an error as frozensets are immutable"
   ]
  },
  {
   "cell_type": "code",
   "execution_count": 37,
   "id": "ccbaa05d",
   "metadata": {},
   "outputs": [
    {
     "name": "stdout",
     "output_type": "stream",
     "text": [
      "{'is', 'powerful', 'Python', 'and', 'fun'}\n"
     ]
    }
   ],
   "source": [
    "# 37. Find unique words in a string using sets\n",
    "text = \"Python is fun and Python is powerful\"\n",
    "unique_words = set(text.split())\n",
    "print(unique_words)"
   ]
  },
  {
   "cell_type": "code",
   "execution_count": 38,
   "id": "89f4aaee",
   "metadata": {},
   "outputs": [
    {
     "name": "stdout",
     "output_type": "stream",
     "text": [
      "False\n",
      "True\n",
      "True\n"
     ]
    }
   ],
   "source": [
    "# 38. Demonstrate isdisjoint(), issubset(), issuperset()\n",
    "setA = {1, 2, 3}\n",
    "setB = {3, 4, 5}\n",
    "setC = {1, 2}\n",
    "print(setA.isdisjoint(setB))  \n",
    "print(setC.issubset(setA))  \n",
    "print(setA.issuperset(setC))"
   ]
  },
  {
   "cell_type": "code",
   "execution_count": 39,
   "id": "973f95f6",
   "metadata": {},
   "outputs": [
    {
     "name": "stdout",
     "output_type": "stream",
     "text": [
      "{64, 1, 4, 36, 100, 9, 16, 49, 81, 25}\n"
     ]
    }
   ],
   "source": [
    "# 39. Create a set of squares of numbers from 1 to 10\n",
    "squares = {x**2 for x in range(1, 11)}\n",
    "print(squares)"
   ]
  },
  {
   "cell_type": "code",
   "execution_count": 40,
   "id": "dab91fe0",
   "metadata": {},
   "outputs": [
    {
     "name": "stdout",
     "output_type": "stream",
     "text": [
      "{'o', 'e'}\n"
     ]
    }
   ],
   "source": [
    "# 40. Generate a set from a string that contains only vowels\n",
    "text = \"hello world\"\n",
    "vowel_set = {char for char in text if char in \"aeiou\"}\n",
    "print(vowel_set)"
   ]
  },
  {
   "cell_type": "code",
   "execution_count": 41,
   "id": "6d08529a",
   "metadata": {},
   "outputs": [
    {
     "name": "stdout",
     "output_type": "stream",
     "text": [
      "{1, 2, 5, 6}\n"
     ]
    }
   ],
   "source": [
    "# 41. Perform symmetric difference on two sets\n",
    "print(set1 ^ set2)"
   ]
  },
  {
   "cell_type": "code",
   "execution_count": 42,
   "id": "25781996",
   "metadata": {},
   "outputs": [
    {
     "name": "stdout",
     "output_type": "stream",
     "text": [
      "True\n"
     ]
    }
   ],
   "source": [
    "# 42. Check if two sets have at least one common element\n",
    "def has_common_elements(setX, setY):\n",
    "    return not setX.isdisjoint(setY)\n",
    "print(has_common_elements(set1, set2))"
   ]
  },
  {
   "cell_type": "code",
   "execution_count": 43,
   "id": "8cf18c63",
   "metadata": {},
   "outputs": [
    {
     "name": "stdout",
     "output_type": "stream",
     "text": [
      "[1, 2, 3, 4, 5]\n"
     ]
    }
   ],
   "source": [
    "# 43. Write a function to remove duplicates using set\n",
    "def remove_duplicates(lst):\n",
    "    return list(set(lst))\n",
    "print(remove_duplicates([1, 2, 2, 3, 4, 4, 5]))"
   ]
  },
  {
   "cell_type": "code",
   "execution_count": 44,
   "id": "20feba66",
   "metadata": {},
   "outputs": [
    {
     "name": "stdout",
     "output_type": "stream",
     "text": [
      "{2, 4, 7, 8, 9}\n"
     ]
    }
   ],
   "source": [
    "# 44. Store unique lengths of words from a sentence in a set\n",
    "sentence = \"This is an example sentence with different lengths\"\n",
    "word_lengths = {len(word) for word in sentence.split()}\n",
    "print(word_lengths)"
   ]
  },
  {
   "cell_type": "markdown",
   "id": "9bf8e580",
   "metadata": {},
   "source": [
    "<center> <h2 style= \"color:orange\"> Dictionaries: Methods, Nested, View vs Copy </h2> </center>\n",
    "\n",
    "45. Create a dictionary and print all keys and values. \n",
    "46. Write a program to merge two dictionaries. \n",
    "47. Create a nested dictionary representing a student record. \n",
    "48. Access and update values in a nested dictionary. \n",
    "49. Use setdefault() method and explain its behavior. \n",
    "50. Demonstrate difference between dict view and copy using id(). \n",
    "51. Count frequency of characters in a string using dictionary. \n",
    "52. Invert a dictionary (keys become values and vice versa). \n",
    "53. Create a dictionary from two lists using zip(). \n",
    "54. Write a function that takes a dictionary and returns sorted keys. \n",
    "55. Clone a dictionary using copy() and modify original. \n",
    "56. Delete a key-value pair safely using pop(). \n",
    "57. Use fromkeys() to initialize dictionary with same values."
   ]
  },
  {
   "cell_type": "code",
   "execution_count": 46,
   "id": "4b4cb69a",
   "metadata": {},
   "outputs": [
    {
     "name": "stdout",
     "output_type": "stream",
     "text": [
      "dict_keys(['name', 'age', 'grade'])\n",
      "dict_values(['Alice', 21, 'A'])\n"
     ]
    }
   ],
   "source": [
    "# 45. Create a dictionary and print all keys and values\n",
    "student = {\"name\": \"Alice\", \"age\": 21, \"grade\": \"A\"}\n",
    "print(student.keys())\n",
    "print(student.values())"
   ]
  },
  {
   "cell_type": "code",
   "execution_count": 47,
   "id": "1c578af7",
   "metadata": {},
   "outputs": [
    {
     "name": "stdout",
     "output_type": "stream",
     "text": [
      "{'a': 1, 'b': 2, 'c': 3, 'd': 4}\n"
     ]
    }
   ],
   "source": [
    "# 46. Merge two dictionaries\n",
    "dict1 = {\"a\": 1, \"b\": 2}\n",
    "dict2 = {\"c\": 3, \"d\": 4}\n",
    "merged_dict = {**dict1, **dict2}\n",
    "print(merged_dict)"
   ]
  },
  {
   "cell_type": "code",
   "execution_count": 48,
   "id": "9a9788eb",
   "metadata": {},
   "outputs": [
    {
     "name": "stdout",
     "output_type": "stream",
     "text": [
      "{'name': 'Bob', 'subjects': {'math': 90, 'science': 85}}\n"
     ]
    }
   ],
   "source": [
    "# 47. Create a nested dictionary representing a student record\n",
    "student_record = {\n",
    "    \"name\": \"Bob\",\n",
    "    \"subjects\": {\n",
    "        \"math\": 90,\n",
    "        \"science\": 85\n",
    "    }\n",
    "}\n",
    "print(student_record)"
   ]
  },
  {
   "cell_type": "code",
   "execution_count": 49,
   "id": "f840e984",
   "metadata": {},
   "outputs": [
    {
     "name": "stdout",
     "output_type": "stream",
     "text": [
      "{'name': 'Bob', 'subjects': {'math': 95, 'science': 85}}\n"
     ]
    }
   ],
   "source": [
    "# 48. Access and update values in a nested dictionary\n",
    "student_record[\"subjects\"][\"math\"] = 95\n",
    "print(student_record)"
   ]
  },
  {
   "cell_type": "code",
   "execution_count": 50,
   "id": "7e2ce78a",
   "metadata": {},
   "outputs": [
    {
     "name": "stdout",
     "output_type": "stream",
     "text": [
      "{'x': 10, 'y': 20}\n",
      "{'x': 10, 'y': 20}\n"
     ]
    }
   ],
   "source": [
    "# 49. Use setdefault() method and explain its behavior\n",
    "sample_dict = {\"x\": 10}\n",
    "sample_dict.setdefault(\"y\", 20)  # Adds 'y' only if it doesn't exist\n",
    "print(sample_dict)  # {'x': 10, 'y': 20}\n",
    "sample_dict.setdefault(\"x\", 30)  # 'x' remains unchanged\n",
    "print(sample_dict)"
   ]
  },
  {
   "cell_type": "code",
   "execution_count": 51,
   "id": "02718b9e",
   "metadata": {},
   "outputs": [
    {
     "name": "stdout",
     "output_type": "stream",
     "text": [
      "2456363471040 2456363471040\n"
     ]
    }
   ],
   "source": [
    "# 50. Demonstrate difference between dict view and copy using id()\n",
    "original_dict = {\"a\": [1, 2, 3]}\n",
    "view_dict = original_dict.keys()\n",
    "copy_dict = original_dict.copy()\n",
    "print(id(original_dict[\"a\"]), id(copy_dict[\"a\"]))"
   ]
  },
  {
   "cell_type": "code",
   "execution_count": 52,
   "id": "b021cfba",
   "metadata": {},
   "outputs": [
    {
     "name": "stdout",
     "output_type": "stream",
     "text": [
      "{'h': 1, 'e': 1, 'l': 3, 'o': 2, ' ': 1, 'w': 1, 'r': 1, 'd': 1}\n"
     ]
    }
   ],
   "source": [
    "# 51. Count frequency of characters in a string using dictionary\n",
    "text = \"hello world\"\n",
    "char_freq = {}\n",
    "for char in text:\n",
    "    char_freq[char] = char_freq.get(char, 0) + 1\n",
    "print(char_freq)"
   ]
  },
  {
   "cell_type": "code",
   "execution_count": 53,
   "id": "b91a0b69",
   "metadata": {},
   "outputs": [
    {
     "name": "stdout",
     "output_type": "stream",
     "text": [
      "{1: 'x', 2: 'y', 3: 'z'}\n"
     ]
    }
   ],
   "source": [
    "# 52. Invert a dictionary (keys become values and vice versa)\n",
    "original = {\"x\": 1, \"y\": 2, \"z\": 3}\n",
    "inverted = {v: k for k, v in original.items()}\n",
    "print(inverted)"
   ]
  },
  {
   "cell_type": "code",
   "execution_count": 54,
   "id": "51b04eaa",
   "metadata": {},
   "outputs": [
    {
     "name": "stdout",
     "output_type": "stream",
     "text": [
      "{'name': 'Alice', 'age': 21, 'grade': 'A'}\n"
     ]
    }
   ],
   "source": [
    "# 53. Create a dictionary from two lists using zip()\n",
    "keys = [\"name\", \"age\", \"grade\"]\n",
    "values = [\"Alice\", 21, \"A\"]\n",
    "dict_from_lists = dict(zip(keys, values))\n",
    "print(dict_from_lists)"
   ]
  },
  {
   "cell_type": "code",
   "execution_count": 55,
   "id": "526ecef2",
   "metadata": {},
   "outputs": [
    {
     "name": "stdout",
     "output_type": "stream",
     "text": [
      "['age', 'grade', 'name']\n"
     ]
    }
   ],
   "source": [
    "# 54. Function that takes a dictionary and returns sorted keys\n",
    "def sorted_keys(d):\n",
    "    return sorted(d.keys())\n",
    "print(sorted_keys(student))"
   ]
  },
  {
   "cell_type": "code",
   "execution_count": 56,
   "id": "eb4d07d3",
   "metadata": {},
   "outputs": [
    {
     "name": "stdout",
     "output_type": "stream",
     "text": [
      "{'name': 'Alice', 'age': 21, 'grade': 'A'}\n"
     ]
    }
   ],
   "source": [
    "# 55. Clone a dictionary using copy() and modify original\n",
    "clone_dict = student.copy()\n",
    "student[\"grade\"] = \"B\"\n",
    "print(clone_dict)"
   ]
  },
  {
   "cell_type": "code",
   "execution_count": 57,
   "id": "aaefc98f",
   "metadata": {},
   "outputs": [
    {
     "name": "stdout",
     "output_type": "stream",
     "text": [
      "{'name': 'Alice', 'grade': 'B'}\n"
     ]
    }
   ],
   "source": [
    "# 56. Delete a key-value pair safely using pop()\n",
    "removed_value = student.pop(\"age\", None)  # Avoids KeyError if key doesn't exist\n",
    "print(student)"
   ]
  },
  {
   "cell_type": "code",
   "execution_count": 58,
   "id": "45998805",
   "metadata": {},
   "outputs": [
    {
     "name": "stdout",
     "output_type": "stream",
     "text": [
      "{'a': 0, 'b': 0, 'c': 0}\n"
     ]
    }
   ],
   "source": [
    "# 57. Use fromkeys() to initialize dictionary with same values\n",
    "keys = [\"a\", \"b\", \"c\"]\n",
    "default_dict = dict.fromkeys(keys, 0)\n",
    "print(default_dict)"
   ]
  },
  {
   "cell_type": "markdown",
   "id": "470d756c",
   "metadata": {},
   "source": [
    "<center> <h2 style= \"color:orange\"> List, Set, Dict Comprehensions </h2> </center>\n",
    "\n",
    "58. Use list comprehension to generate squares of 1 to 10. \n",
    "59. Filter even numbers using list comprehension. \n",
    "60. Create a set of unique characters from a string using set comprehension. \n",
    "61. Build a dictionary of number:square for 1 to 5 using dict comprehension. \n",
    "62. Flatten a 2D list using list comprehension. \n",
    "63. Replace negative numbers with 0 using list comprehension. \n",
    "64. Create a dictionary from a list with element:count pairs. \n",
    "65. Use comprehension to get words with length > 3 from sentence. \n",
    "66. Build a reverse lookup dictionary from existing key:value dict. \n",
    "67. Create a set of lengths of words using set comprehension. \n",
    "68. Filter dictionary to only keep items with even values. \n",
    "69. Generate nested dictionary using comprehension. \n",
    "70. Write comprehension to find vowels in a word and store in a list."
   ]
  },
  {
   "cell_type": "code",
   "execution_count": 59,
   "id": "e257d6c9",
   "metadata": {},
   "outputs": [
    {
     "name": "stdout",
     "output_type": "stream",
     "text": [
      "[1, 4, 9, 16, 25, 36, 49, 64, 81, 100]\n"
     ]
    }
   ],
   "source": [
    "# 58. Use list comprehension to generate squares of 1 to 10\n",
    "squares = [x**2 for x in range(1, 11)]\n",
    "print(squares)"
   ]
  },
  {
   "cell_type": "code",
   "execution_count": 60,
   "id": "4a871756",
   "metadata": {},
   "outputs": [
    {
     "name": "stdout",
     "output_type": "stream",
     "text": [
      "[2, 4, 6, 8, 10, 12, 14, 16, 18, 20]\n"
     ]
    }
   ],
   "source": [
    "# 59. Filter even numbers using list comprehension\n",
    "even_numbers = [x for x in range(1, 21) if x % 2 == 0]\n",
    "print(even_numbers)"
   ]
  },
  {
   "cell_type": "code",
   "execution_count": 61,
   "id": "b4e0b86c",
   "metadata": {},
   "outputs": [
    {
     "name": "stdout",
     "output_type": "stream",
     "text": [
      "{'d', ' ', 'o', 'h', 'r', 'l', 'w', 'e'}\n"
     ]
    }
   ],
   "source": [
    "# 60. Create a set of unique characters from a string using set comprehension\n",
    "text = \"hello world\"\n",
    "unique_chars = {char for char in text}\n",
    "print(unique_chars)"
   ]
  },
  {
   "cell_type": "code",
   "execution_count": 62,
   "id": "5e595904",
   "metadata": {},
   "outputs": [
    {
     "name": "stdout",
     "output_type": "stream",
     "text": [
      "{1: 1, 2: 4, 3: 9, 4: 16, 5: 25}\n"
     ]
    }
   ],
   "source": [
    "# 61. Build a dictionary of number:square for 1 to 5 using dict comprehension\n",
    "num_square_dict = {x: x**2 for x in range(1, 6)}\n",
    "print(num_square_dict)"
   ]
  },
  {
   "cell_type": "code",
   "execution_count": 63,
   "id": "feb5e809",
   "metadata": {},
   "outputs": [
    {
     "name": "stdout",
     "output_type": "stream",
     "text": [
      "[1, 2, 3, 4, 5, 6]\n"
     ]
    }
   ],
   "source": [
    "# 62. Flatten a 2D list using list comprehension\n",
    "matrix = [[1, 2], [3, 4], [5, 6]]\n",
    "flattened = [num for sublist in matrix for num in sublist]\n",
    "print(flattened)"
   ]
  },
  {
   "cell_type": "code",
   "execution_count": 64,
   "id": "05b7b4f5",
   "metadata": {},
   "outputs": [
    {
     "name": "stdout",
     "output_type": "stream",
     "text": [
      "[0, 5, 0, 10, 0, 8]\n"
     ]
    }
   ],
   "source": [
    "# 63. Replace negative numbers with 0 using list comprehension\n",
    "numbers = [-3, 5, -1, 10, -7, 8]\n",
    "non_negative = [x if x >= 0 else 0 for x in numbers]\n",
    "print(non_negative)"
   ]
  },
  {
   "cell_type": "code",
   "execution_count": 65,
   "id": "2a928a7a",
   "metadata": {},
   "outputs": [
    {
     "name": "stdout",
     "output_type": "stream",
     "text": [
      "{'orange': 1, 'apple': 2, 'banana': 2}\n"
     ]
    }
   ],
   "source": [
    "# 64. Create a dictionary from a list with element:count pairs\n",
    "elements = [\"apple\", \"banana\", \"apple\", \"orange\", \"banana\"]\n",
    "element_count = {item: elements.count(item) for item in set(elements)}\n",
    "print(element_count)"
   ]
  },
  {
   "cell_type": "code",
   "execution_count": 66,
   "id": "95eaaf79",
   "metadata": {},
   "outputs": [
    {
     "name": "stdout",
     "output_type": "stream",
     "text": [
      "['Python', 'powerful', 'language', 'data', 'science']\n"
     ]
    }
   ],
   "source": [
    "# 65. Use comprehension to get words with length > 3 from sentence\n",
    "sentence = \"Python is a powerful language for data science\"\n",
    "long_words = [word for word in sentence.split() if len(word) > 3]\n",
    "print(long_words)"
   ]
  },
  {
   "cell_type": "code",
   "execution_count": 67,
   "id": "021d9b9e",
   "metadata": {},
   "outputs": [
    {
     "name": "stdout",
     "output_type": "stream",
     "text": [
      "{1: 'a', 2: 'b', 3: 'c'}\n"
     ]
    }
   ],
   "source": [
    "# 66. Build a reverse lookup dictionary from existing key:value dict\n",
    "original_dict = {\"a\": 1, \"b\": 2, \"c\": 3}\n",
    "reverse_dict = {v: k for k, v in original_dict.items()}\n",
    "print(reverse_dict)"
   ]
  },
  {
   "cell_type": "code",
   "execution_count": 68,
   "id": "4e592537",
   "metadata": {},
   "outputs": [
    {
     "name": "stdout",
     "output_type": "stream",
     "text": [
      "{2, 3, 6, 7, 8}\n"
     ]
    }
   ],
   "source": [
    "# 67. Create a set of lengths of words using set comprehension\n",
    "words = [\"Python\", \"is\", \"amazing\", \"for\", \"learning\"]\n",
    "word_lengths = {len(word) for word in words}\n",
    "print(word_lengths)"
   ]
  },
  {
   "cell_type": "code",
   "execution_count": 69,
   "id": "f7e0497b",
   "metadata": {},
   "outputs": [
    {
     "name": "stdout",
     "output_type": "stream",
     "text": [
      "{'two': 2, 'four': 4}\n"
     ]
    }
   ],
   "source": [
    "# 68. Filter dictionary to only keep items with even values\n",
    "num_dict = {\"one\": 1, \"two\": 2, \"three\": 3, \"four\": 4}\n",
    "even_dict = {key: value for key, value in num_dict.items() if value % 2 == 0}\n",
    "print(even_dict)"
   ]
  },
  {
   "cell_type": "code",
   "execution_count": 70,
   "id": "a73524f7",
   "metadata": {},
   "outputs": [
    {
     "name": "stdout",
     "output_type": "stream",
     "text": [
      "{1: {1: 1, 2: 4, 3: 9}, 2: {1: 1, 2: 4, 3: 9}}\n"
     ]
    }
   ],
   "source": [
    "# 69. Generate nested dictionary using comprehension\n",
    "nested_dict = {x: {y: y**2 for y in range(1, 4)} for x in range(1, 3)}\n",
    "print(nested_dict)"
   ]
  },
  {
   "cell_type": "code",
   "execution_count": 71,
   "id": "47640110",
   "metadata": {},
   "outputs": [
    {
     "name": "stdout",
     "output_type": "stream",
     "text": [
      "['o', 'e', 'e', 'i', 'o']\n"
     ]
    }
   ],
   "source": [
    "# 70. Write comprehension to find vowels in a word and store in a list\n",
    "word = \"comprehension\"\n",
    "vowels = [char for char in word if char in \"aeiou\"]\n",
    "print(vowels)"
   ]
  },
  {
   "cell_type": "code",
   "execution_count": null,
   "id": "99be88de",
   "metadata": {},
   "outputs": [],
   "source": []
  }
 ],
 "metadata": {
  "kernelspec": {
   "display_name": "Python 3",
   "language": "python",
   "name": "python3"
  },
  "language_info": {
   "codemirror_mode": {
    "name": "ipython",
    "version": 3
   },
   "file_extension": ".py",
   "mimetype": "text/x-python",
   "name": "python",
   "nbconvert_exporter": "python",
   "pygments_lexer": "ipython3",
   "version": "3.10.0"
  }
 },
 "nbformat": 4,
 "nbformat_minor": 5
}
