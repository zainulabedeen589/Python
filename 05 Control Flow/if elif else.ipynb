{
 "cells": [
  {
   "cell_type": "code",
   "execution_count": 6,
   "id": "38607078",
   "metadata": {},
   "outputs": [
    {
     "name": "stdout",
     "output_type": "stream",
     "text": [
      "-5\n"
     ]
    }
   ],
   "source": [
    "a = int(input(\"enter a number\"))\n",
    "print(a)\n",
    "if a > 0 :\n",
    "    print(\"number is positive\")"
   ]
  },
  {
   "cell_type": "code",
   "execution_count": 10,
   "id": "7e143652",
   "metadata": {},
   "outputs": [
    {
     "name": "stdout",
     "output_type": "stream",
     "text": [
      "number is a even number 8\n"
     ]
    }
   ],
   "source": [
    "a = int(input(\"enter a number\"))\n",
    "if a % 2 == 0:\n",
    "    print(\"number is a even number\",a)\n",
    "else:\n",
    "    print(\"number is not a even number\" ,a)"
   ]
  },
  {
   "cell_type": "code",
   "execution_count": 13,
   "id": "9ff203ce",
   "metadata": {},
   "outputs": [
    {
     "name": "stdout",
     "output_type": "stream",
     "text": [
      "Gade F\n"
     ]
    }
   ],
   "source": [
    "score = int(input(\"enter the score\"))\n",
    "if score >=90:\n",
    "    print(\"grade A \")\n",
    "elif score >=80:\n",
    "    print(\"grade B \")\n",
    "elif score >=70:\n",
    "    print(\"Grade C\")\n",
    "elif score>=60:\n",
    "    print(\"grade D\")\n",
    "else :\n",
    "    print(\"Gade F\")"
   ]
  },
  {
   "cell_type": "code",
   "execution_count": 14,
   "id": "382c7f45",
   "metadata": {},
   "outputs": [
    {
     "name": "stdout",
     "output_type": "stream",
     "text": [
      "Gade F\n"
     ]
    }
   ],
   "source": [
    "score = int(input(\"enter the score\"))\n",
    "if score >=90:\n",
    "    print(\"grade A \")\n",
    "if score >=80:\n",
    "    print(\"grade B \")\n",
    "if score >=70:\n",
    "    print(\"Grade C\")\n",
    "if score>=60:\n",
    "    print(\"grade D\")\n",
    "else :\n",
    "    print(\"Gade F\")"
   ]
  },
  {
   "cell_type": "code",
   "execution_count": 16,
   "id": "77908c60",
   "metadata": {},
   "outputs": [
    {
     "name": "stdout",
     "output_type": "stream",
     "text": [
      "you cant vote\n"
     ]
    }
   ],
   "source": [
    "age = int(input(\"enter you age\"))\n",
    "citizenship = input(\"enter yes or no for your citizenship\")\n",
    "if age >= 18 and citizenship == 'yes':\n",
    "    print(\"yes you can vote\")\n",
    "else :\n",
    "    print(\"you cant vote\")\n",
    "    "
   ]
  },
  {
   "cell_type": "code",
   "execution_count": 17,
   "id": "6411495d",
   "metadata": {},
   "outputs": [
    {
     "name": "stdout",
     "output_type": "stream",
     "text": [
      "you will get discount\n"
     ]
    }
   ],
   "source": [
    "student = input(\"enter yes if you are student or no if you are not \")\n",
    "senior = input(\"enter yes if you are senior ortherwise no\")\n",
    "if student == 'yes' or senior == 'yes':\n",
    "    print(\"you will get discount\")\n",
    "else:\n",
    "    print(\"you wont get any discount \")"
   ]
  },
  {
   "cell_type": "code",
   "execution_count": 20,
   "id": "c0fcc799",
   "metadata": {},
   "outputs": [
    {
     "name": "stdout",
     "output_type": "stream",
     "text": [
      "credit score is very very low\n"
     ]
    }
   ],
   "source": [
    "income = int(input(\"enter your income\"))\n",
    "credit_score = int(input(\"enter your credit score\"))\n",
    "if income > 30000:\n",
    "    if credit_score >700:\n",
    "        print(\"you will get loan\")\n",
    "    else:\n",
    "        print(\"credit score is very very low\")\n",
    "else :\n",
    "    print(\"income is too low\")"
   ]
  },
  {
   "cell_type": "code",
   "execution_count": 21,
   "id": "44d83993",
   "metadata": {},
   "outputs": [
    {
     "name": "stdout",
     "output_type": "stream",
     "text": [
      "you will get a partial scholorship\n"
     ]
    }
   ],
   "source": [
    "gpa = 3.7\n",
    "test_score = 85\n",
    "extracuricular = True\n",
    "\n",
    "if gpa > 3.5:\n",
    "    if test_score >90:\n",
    "        print(\"you will get a scholarship\")\n",
    "    elif test_score > 80:\n",
    "        if extracuricular:\n",
    "            print(\"you will get a partial scholorship\")\n",
    "        else :\n",
    "            print(\"you will get admission but not scholarhip\")\n",
    "    else:\n",
    "        print(\"you have some chance to get a admission\")\n",
    "elif gpa >3.0:\n",
    "    if test_score > 85:\n",
    "        print(\"you will get admission\")\n",
    "    else:\n",
    "        print(\"you will get admision after some review\")\n",
    "else:\n",
    "    print(\"you wont get admission\")\n",
    "    \n",
    "            "
   ]
  },
  {
   "cell_type": "code",
   "execution_count": 22,
   "id": "8fa38cb3",
   "metadata": {},
   "outputs": [
    {
     "name": "stdout",
     "output_type": "stream",
     "text": [
      "odd\n"
     ]
    }
   ],
   "source": [
    "number = 15\n",
    "result = \"even\" if number%2 ==0 else \"odd\"\n",
    "print(result)"
   ]
  },
  {
   "cell_type": "code",
   "execution_count": 30,
   "id": "e3db1261",
   "metadata": {},
   "outputs": [
    {
     "name": "stdout",
     "output_type": "stream",
     "text": [
      "20\n",
      "good evening\n"
     ]
    }
   ],
   "source": [
    "import datetime\n",
    "current_hour = datetime.datetime.now().hour\n",
    "print(current_hour)\n",
    "greetings = (\n",
    "    \"good morning\" if current_hour < 12 else\n",
    "    \"good afternoon\" if current_hour < 18 else\n",
    "    \"good evening\" if current_hour < 21 else\n",
    "    \"good night\"\n",
    ")\n",
    "print(greetings)"
   ]
  },
  {
   "cell_type": "code",
   "execution_count": 35,
   "id": "d93bb38d",
   "metadata": {},
   "outputs": [
    {
     "name": "stdout",
     "output_type": "stream",
     "text": [
      "bike :45\n"
     ]
    }
   ],
   "source": [
    "vechicle = input(\"enter your vehicle type car ,truck or something else\")\n",
    "max_speed = 65 if vechicle == \"car\" else 55 if vechicle == \"truck\" else 45 \n",
    "print(f\"{vechicle} :{ max_speed}\")"
   ]
  },
  {
   "cell_type": "code",
   "execution_count": 36,
   "id": "53e9fc7d",
   "metadata": {},
   "outputs": [
    {
     "name": "stdout",
     "output_type": "stream",
     "text": [
      "this is start of the week \n"
     ]
    }
   ],
   "source": [
    "day = \"monday\"\n",
    "\n",
    "match day :\n",
    "    case \"monday\":\n",
    "        print(\"this is start of the week \")\n",
    "    case \"tuesday\":\n",
    "        print(\"this is a second day of the week\")\n",
    "    case \"wednesday\":\n",
    "        print(\"this is mid of the week\")    \n",
    "    case _ :\n",
    "        print(\"its just a anohter day\")"
   ]
  },
  {
   "cell_type": "code",
   "execution_count": null,
   "id": "c3d06064",
   "metadata": {},
   "outputs": [],
   "source": []
  }
 ],
 "metadata": {
  "kernelspec": {
   "display_name": "agentdemo",
   "language": "python",
   "name": "python3"
  },
  "language_info": {
   "codemirror_mode": {
    "name": "ipython",
    "version": 3
   },
   "file_extension": ".py",
   "mimetype": "text/x-python",
   "name": "python",
   "nbconvert_exporter": "python",
   "pygments_lexer": "ipython3",
   "version": "3.11.11"
  }
 },
 "nbformat": 4,
 "nbformat_minor": 5
}
