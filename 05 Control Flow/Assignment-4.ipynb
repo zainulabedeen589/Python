{
 "cells": [
  {
   "cell_type": "markdown",
   "id": "12a9ebfe",
   "metadata": {},
   "source": [
    "<center> <h1 style= \"color:red\"> Assignments-4 </h1> </center>\n",
    "\n",
    "<center> <h2 style= \"color:orange\"> Control Flow </h2> </center>"
   ]
  },
  {
   "cell_type": "markdown",
   "id": "901047e1",
   "metadata": {},
   "source": [
    "<center> <h2 style= \"color:orange\"> Basic Lavel </h2> </center>\n",
    "\n",
    "1. Even or Odd \\\n",
    "Write a program that asks the user for a number and prints whether it is even or odd. \n",
    "\n",
    "2. Temperature Converter \\\n",
    "Create a program that converts temperatures between Fahrenheit and Celsius. Ask the user which conversion they want to perform (\"F to C\" or \"C to F\") and then perform the selected conversion. \n",
    "\n",
    "3. Grade Classifier \\\n",
    "Write a program that takes a numerical grade (0-100) and outputs the corresponding letter grade: \n",
    "    text\n",
    "    A: 90-100 \n",
    "    B: 80-89 \n",
    "    C: 70-79 \n",
    "    D: 60-69 \n",
    "    F: 0-59 \n",
    "    \n",
    "\n",
    "4. Simple Calculator \\\n",
    "Create a calculator that performs basic operations (addition, subtraction, multiplication, division) based on user input. Ask for two numbers and the operation to perform. \n",
    "\n",
    "5. Age Group Classifier \\\n",
    "Write a program that asks for a person's age and classifies them as: \n",
    "    text\n",
    "    Child (0-12) \n",
    "    Teenager (13-19) \n",
    "    Adult (20-64) \n",
    "    Senior (65+) \n",
    "    \n",
    "\n",
    "6. Leap Year Checker \\\n",
    "Create a program that determines if a given year is a leap year. (A leap year is divisible by 4, except for century years which must be divisible by 400). \n",
    "\n",
    "7. Positive, Negative, or Zero \\\n",
    "Write a program that takes a number and prints whether it's positive, negative, or zero. \n",
    "\n",
    "8. Login System \\\n",
    "Create a simple login system that checks if a username and password match predetermined  values. Use if-else to provide appropriate success or failure messages. \n",
    "\n",
    "9. Ticket Price Calculator \\\n",
    "Write a program for a movie theater that calculates ticket prices based on age: \n",
    "    text\n",
    "    Children (0-12): $5 \n",
    "    Teenagers (13-17): $8 \n",
    "    Adults (18-64): $12 \n",
    "    Seniors (65+): $7 \n",
    "    \n",
    "10. Day of the Week \\\n",
    "Create a program that asks the user for a number between 1 and 7 and outputs the corresponding day of the week (1 is Monday, 7 is Sunday). "
   ]
  },
  {
   "cell_type": "code",
   "execution_count": 1,
   "id": "787dc98d",
   "metadata": {},
   "outputs": [
    {
     "name": "stdout",
     "output_type": "stream",
     "text": [
      "Even\n"
     ]
    }
   ],
   "source": [
    "# 1. Even or Odd\n",
    "\n",
    "num = int(input(\"Enter a number: \"))\n",
    "print(\"Even\" if num % 2 == 0 else \"Odd\")"
   ]
  },
  {
   "cell_type": "code",
   "execution_count": 5,
   "id": "cec255bf",
   "metadata": {},
   "outputs": [
    {
     "name": "stdout",
     "output_type": "stream",
     "text": [
      "400.0°F is 204.44°C\n"
     ]
    }
   ],
   "source": [
    "# 2. Temperature Converter\n",
    "\n",
    "choice = input(\"Convert (F to C) or (C to F)? \").strip().lower()\n",
    "temp = float(input(\"Enter the temperature: \"))\n",
    "\n",
    "if choice == \"f to c\":\n",
    "    print(f\"{temp}°F is {(temp - 32) * 5/9:.2f}°C\")\n",
    "elif choice == \"c to f\":\n",
    "    print(f\"{temp}°C is {(temp * 9/5) + 32:.2f}°F\")\n",
    "else:\n",
    "    print(\"Invalid choice\")"
   ]
  },
  {
   "cell_type": "code",
   "execution_count": 6,
   "id": "c068e5c8",
   "metadata": {},
   "outputs": [
    {
     "name": "stdout",
     "output_type": "stream",
     "text": [
      "A\n"
     ]
    }
   ],
   "source": [
    "# 3. Grade Classifier\n",
    "\n",
    "grade = int(input(\"Enter your grade (0-100): \"))\n",
    "\n",
    "if grade >= 90:\n",
    "    print(\"A\")\n",
    "elif grade >= 80:\n",
    "    print(\"B\")\n",
    "elif grade >= 70:\n",
    "    print(\"C\")\n",
    "elif grade >= 60:\n",
    "    print(\"D\")\n",
    "else:\n",
    "    print(\"F\")"
   ]
  },
  {
   "cell_type": "code",
   "execution_count": 7,
   "id": "465533c8",
   "metadata": {},
   "outputs": [
    {
     "name": "stdout",
     "output_type": "stream",
     "text": [
      "Result: 35.0\n"
     ]
    }
   ],
   "source": [
    "# 4. Simple Calculator\n",
    "\n",
    "num1 = float(input(\"Enter first number: \"))\n",
    "num2 = float(input(\"Enter second number: \"))\n",
    "operation = input(\"Choose operation (+, -, *, /): \")\n",
    "\n",
    "if operation == \"+\":\n",
    "    print(f\"Result: {num1 + num2}\")\n",
    "elif operation == \"-\":\n",
    "    print(f\"Result: {num1 - num2}\")\n",
    "elif operation == \"*\":\n",
    "    print(f\"Result: {num1 * num2}\")\n",
    "elif operation == \"/\":\n",
    "    print(f\"Result: {num1 / num2 if num2 != 0 else 'Cannot divide by zero'}\")\n",
    "else:\n",
    "    print(\"Invalid operation\")\n"
   ]
  },
  {
   "cell_type": "code",
   "execution_count": 8,
   "id": "5aad3993",
   "metadata": {},
   "outputs": [
    {
     "name": "stdout",
     "output_type": "stream",
     "text": [
      "Adult\n"
     ]
    }
   ],
   "source": [
    "# 5. Age Group Classifier\n",
    "\n",
    "age = int(input(\"Enter age: \"))\n",
    "\n",
    "if age <= 12:\n",
    "    print(\"Child\")\n",
    "elif age <= 19:\n",
    "    print(\"Teenager\")\n",
    "elif age <= 64:\n",
    "    print(\"Adult\")\n",
    "else:\n",
    "    print(\"Senior\")\n"
   ]
  },
  {
   "cell_type": "code",
   "execution_count": 9,
   "id": "c5b324be",
   "metadata": {},
   "outputs": [
    {
     "name": "stdout",
     "output_type": "stream",
     "text": [
      "2025 is not a leap year\n"
     ]
    }
   ],
   "source": [
    "# 6. Leap Year Checker\n",
    "\n",
    "year = int(input(\"Enter a year: \"))\n",
    "\n",
    "if (year % 4 == 0 and year % 100 != 0) or (year % 400 == 0):\n",
    "    print(f\"{year} is a leap year\")\n",
    "else:\n",
    "    print(f\"{year} is not a leap year\")\n"
   ]
  },
  {
   "cell_type": "code",
   "execution_count": 10,
   "id": "5fcf8af0",
   "metadata": {},
   "outputs": [
    {
     "name": "stdout",
     "output_type": "stream",
     "text": [
      "Zero\n"
     ]
    }
   ],
   "source": [
    "# 7. Positive, Negative, or Zero\n",
    "\n",
    "num = float(input(\"Enter a number: \"))\n",
    "\n",
    "if num > 0:\n",
    "    print(\"Positive\")\n",
    "elif num < 0:\n",
    "    print(\"Negative\")\n",
    "else:\n",
    "    print(\"Zero\")\n"
   ]
  },
  {
   "cell_type": "code",
   "execution_count": 11,
   "id": "6e0a28ee",
   "metadata": {},
   "outputs": [
    {
     "name": "stdout",
     "output_type": "stream",
     "text": [
      "Login failed\n"
     ]
    }
   ],
   "source": [
    "# 8. Login System\n",
    "\n",
    "username = \"admin\"\n",
    "password = \"password123\"\n",
    "\n",
    "user_input = input(\"Enter username: \")\n",
    "pass_input = input(\"Enter password: \")\n",
    "\n",
    "if user_input == username and pass_input == password:\n",
    "    print(\"Login successful\")\n",
    "else:\n",
    "    print(\"Login failed\")\n"
   ]
  },
  {
   "cell_type": "code",
   "execution_count": 12,
   "id": "c67b2a60",
   "metadata": {},
   "outputs": [
    {
     "name": "stdout",
     "output_type": "stream",
     "text": [
      "Ticket price: $12\n"
     ]
    }
   ],
   "source": [
    "# 9. Ticket Price Calculator\n",
    "\n",
    "age = int(input(\"Enter your age: \"))\n",
    "\n",
    "if age <= 12:\n",
    "    price = 5\n",
    "elif age <= 17:\n",
    "    price = 8\n",
    "elif age <= 64:\n",
    "    price = 12\n",
    "else:\n",
    "    price = 7\n",
    "\n",
    "print(f\"Ticket price: ${price}\")\n"
   ]
  },
  {
   "cell_type": "code",
   "execution_count": 13,
   "id": "1571b34d",
   "metadata": {},
   "outputs": [
    {
     "name": "stdout",
     "output_type": "stream",
     "text": [
      "Wednesday\n"
     ]
    }
   ],
   "source": [
    "# 10. Day of the Week\n",
    "\n",
    "day_num = int(input(\"Enter a number (1-7): \"))\n",
    "days = [\"Monday\", \"Tuesday\", \"Wednesday\", \"Thursday\", \"Friday\", \"Saturday\", \"Sunday\"]\n",
    "\n",
    "if 1 <= day_num <= 7:\n",
    "    print(days[day_num - 1])\n",
    "else:\n",
    "    print(\"Invalid number\")"
   ]
  },
  {
   "cell_type": "markdown",
   "id": "c8744367",
   "metadata": {},
   "source": [
    "<center> <h2 style= \"color:orange\"> Intermediate Lavel </h2> </center>\n",
    "\n",
    "11. BMI Calculator with Categories \\\n",
    "Create a BMI (Body Mass Index) calculator that takes height (in meters) and weight (in kilograms) and categorizes the result as: \n",
    "    #text\n",
    "    Underweight: <18.5 \n",
    "    Normal weight: 18.5-24.9 \n",
    "    Overweight: 25-29.9 \n",
    "    Obesity: ≥30 \n",
    "    #\n",
    "\n",
    "12. Rock, Paper, Scissors \\\n",
    "Implement a rock, paper, scissors game where the user plays against the computer. Use the ternary operator to determine the winner concisely. \n",
    "\n",
    "13. Triangle Type Classifier \\\n",
    "Write a program that takes the lengths of three sides of a triangle and determines if it's equilateral (all sides equal), isosceles (two sides equal), or scalene (no sides equal). \n",
    "\n",
    "14. Tax Calculator \\\n",
    "Create a program that calculates income tax based on the following brackets: \n",
    "    #text\n",
    "    $0-$10,000: 10% \n",
    "    $10,001-$50,000: 20% \n",
    "    $50,001-$100,000: 30% \n",
    "    $100,001+: 40% \n",
    "    #\n",
    " \n",
    "15. Password Strength Checker \\ \n",
    "Write a program that evaluates password strength based on: \n",
    "    #text\n",
    "    Length (at least 8 characters) \n",
    "    Contains uppercase letters \n",
    "    Contains lowercase letters \n",
    "    Contains numbers \n",
    "    Contains special characters Use nested if statements to check each condition and provide  a rating (weak, medium, strong). \n",
    "    #\n",
    "\n",
    "16. Season Determiner \\\n",
    "Create a program that asks for a month and day and outputs the corresponding season. Use nested if statements or elif chains. \n",
    "\n",
    "17. Coffee Shop Order System \\\n",
    "Implement a coffee shop order system with nested conditions: \n",
    "    1. First, ask for the base drink (coffee, tea, or chocolate) \n",
    "    2. Based on the first selection, offer specific options (e.g., for coffee: americano, latte, espresso) \n",
    "    3. Ask if they want extras (milk, sugar, flavor shots) \n",
    "    4. Calculate and display the final price \n",
    "\n",
    "18. Color Mixer \\\n",
    "Write a program that asks the user for two primary colors (red, blue, yellow) and tells them what secondary color they would create when mixed. Use a nested structure. \n",
    "\n",
    "19. Number Guessing Game with Hints \\\n",
    "Create a number guessing game where the program picks a random number between 1 and 100. Give hints (higher/lower) using the ternary operator. \n",
    "\n",
    "20. Shipping Cost Calculator \\\n",
    "Implement a shipping calculator that determines cost based on: \n",
    "    #text\n",
    "    Package weight \n",
    "    Destination (domestic/international) \n",
    "    Shipping speed (standard/express/overnight) Use nested conditions to calculate the final cost.\n",
    "    #\n",
    "\n",
    "21. Date Validator \\\n",
    "Create a program that validates if a given date (day, month, year) is valid, considering leap years and the varying number of days in each month. \n",
    "\n",
    "22. Flight Booking System \\\n",
    "Implement a simple flight booking system that: \n",
    "    #text\n",
    "    Checks seat availability \n",
    "    Applies discounts based on age or membership status \n",
    "    Calculates final ticket price Use nested if statements and the ternary operator where appropriate.\n",
    "    #\n",
    " \n",
    "23. Water State Determiner \\\n",
    "Write a program that takes temperature (in Celsius) and atmospheric pressure and determines the state of water (solid, liquid, gas) at those conditions. Use nested if statements. \n",
    "\n",
    "24. Credit Card Validator \\\n",
    "Create a program that validates a credit card number based on: \n",
    "    #text\n",
    "    Length \n",
    "    Starting digits (e.g., 4 for Visa, 5 for MasterCard) \n",
    "    Luhn algorithm check Use if-elif-else chains to validate each condition. \n",
    "    #\n",
    "\n",
    "25. Match-Case Menu System (Python 3.10+) \\\n",
    "Implement a simple menu system using match-case that displays different options and performs different actions based on user selection."
   ]
  },
  {
   "cell_type": "code",
   "execution_count": 15,
   "id": "6e0bad09",
   "metadata": {},
   "outputs": [
    {
     "name": "stdout",
     "output_type": "stream",
     "text": [
      "Underweight (BMI: 1.97)\n"
     ]
    }
   ],
   "source": [
    "import random\n",
    "import re\n",
    "from datetime import datetime\n",
    "\n",
    "# 11. BMI Calculator with Categories\n",
    "weight = float(input(\"Enter weight in kg: \"))\n",
    "height = float(input(\"Enter height in meters: \"))\n",
    "bmi = weight / (height ** 2)\n",
    "if bmi < 18.5:\n",
    "    print(f\"Underweight (BMI: {bmi:.2f})\")\n",
    "elif 18.5 <= bmi <= 24.9:\n",
    "    print(f\"Normal weight (BMI: {bmi:.2f})\")\n",
    "elif 25 <= bmi <= 29.9:\n",
    "    print(f\"Overweight (BMI: {bmi:.2f})\")\n",
    "else:\n",
    "    print(f\"Obesity (BMI: {bmi:.2f})\")\n"
   ]
  },
  {
   "cell_type": "code",
   "execution_count": 16,
   "id": "8e9d4483",
   "metadata": {},
   "outputs": [
    {
     "name": "stdout",
     "output_type": "stream",
     "text": [
      "You chose rock, Computer chose scissors: You win\n"
     ]
    }
   ],
   "source": [
    "# 12. Rock, Paper, Scissors\n",
    "user_choice = input(\"Enter rock, paper, or scissors: \").lower()\n",
    "choices = ['rock', 'paper', 'scissors']\n",
    "computer_choice = random.choice(choices)\n",
    "result = \"Draw\" if user_choice == computer_choice else (\n",
    "    \"You win\" if (user_choice == 'rock' and computer_choice == 'scissors') or\n",
    "                 (user_choice == 'scissors' and computer_choice == 'paper') or\n",
    "                 (user_choice == 'paper' and computer_choice == 'rock') else \"You lose\")\n",
    "print(f\"You chose {user_choice}, Computer chose {computer_choice}: {result}\")\n"
   ]
  },
  {
   "cell_type": "code",
   "execution_count": 17,
   "id": "7e9981fd",
   "metadata": {},
   "outputs": [
    {
     "name": "stdout",
     "output_type": "stream",
     "text": [
      "Isosceles\n"
     ]
    }
   ],
   "source": [
    "# 13. Triangle Type Classifier\n",
    "side1 = float(input(\"Enter side 1: \"))\n",
    "side2 = float(input(\"Enter side 2: \"))\n",
    "side3 = float(input(\"Enter side 3: \"))\n",
    "if side1 == side2 == side3:\n",
    "    print(\"Equilateral\")\n",
    "elif side1 == side2 or side2 == side3 or side1 == side3:\n",
    "    print(\"Isosceles\")\n",
    "else:\n",
    "    print(\"Scalene\")"
   ]
  },
  {
   "cell_type": "code",
   "execution_count": 18,
   "id": "e55bcb70",
   "metadata": {},
   "outputs": [
    {
     "name": "stdout",
     "output_type": "stream",
     "text": [
      "Income: $1e+27, Tax: $4e+26\n"
     ]
    }
   ],
   "source": [
    "# 14. Tax Calculator\n",
    "income = float(input(\"Enter income: \"))\n",
    "if income <= 10000:\n",
    "    tax = income * 0.1\n",
    "elif income <= 50000:\n",
    "    tax = 1000 + (income - 10000) * 0.2\n",
    "elif income <= 100000:\n",
    "    tax = 9000 + (income - 50000) * 0.3\n",
    "else:\n",
    "    tax = 24000 + (income - 100000) * 0.4\n",
    "print(f\"Income: ${income}, Tax: ${tax}\")\n"
   ]
  },
  {
   "cell_type": "code",
   "execution_count": 19,
   "id": "032b48d7",
   "metadata": {},
   "outputs": [
    {
     "name": "stdout",
     "output_type": "stream",
     "text": [
      "Password strength: Strong\n"
     ]
    }
   ],
   "source": [
    "# 15. Password Strength Checker\n",
    "password = input(\"Enter a password: \")\n",
    "length = len(password) >= 8\n",
    "has_upper = any(c.isupper() for c in password)\n",
    "has_lower = any(c.islower() for c in password)\n",
    "has_digit = any(c.isdigit() for c in password)\n",
    "has_special = any(not c.isalnum() for c in password)\n",
    "\n",
    "strength = \"Weak\"\n",
    "if length and has_upper and has_lower and has_digit and has_special:\n",
    "    strength = \"Strong\"\n",
    "elif length and (has_upper or has_lower) and (has_digit or has_special):\n",
    "    strength = \"Medium\"\n",
    "\n",
    "print(f\"Password strength: {strength}\")\n"
   ]
  },
  {
   "cell_type": "code",
   "execution_count": 20,
   "id": "fdafd9f7",
   "metadata": {},
   "outputs": [
    {
     "name": "stdout",
     "output_type": "stream",
     "text": [
      "Spring\n"
     ]
    }
   ],
   "source": [
    "# 16. Season Determiner\n",
    "month = input(\"Enter month: \").capitalize()\n",
    "day = int(input(\"Enter day: \"))\n",
    "if (month == 'March' and day >= 20) or month in ['April', 'May'] or (month == 'June' and day < 21):\n",
    "    print(\"Spring\")\n",
    "elif (month == 'June' and day >= 21) or month in ['July', 'August'] or (month == 'September' and day < 22):\n",
    "    print(\"Summer\")\n",
    "elif (month == 'September' and day >= 22) or month in ['October', 'November'] or (month == 'December' and day < 21):\n",
    "    print(\"Fall\")\n",
    "else:\n",
    "    print(\"Winter\")\n"
   ]
  },
  {
   "cell_type": "code",
   "execution_count": 21,
   "id": "613defd7",
   "metadata": {},
   "outputs": [
    {
     "name": "stdout",
     "output_type": "stream",
     "text": [
      "Order: tea latte, Extras: milk, Total: $5\n"
     ]
    }
   ],
   "source": [
    "# 17. Coffee Shop Order System\n",
    "base = input(\"Enter base drink (coffee/tea/chocolate): \").lower()\n",
    "type_ = input(\"Enter type (e.g., latte, espresso): \")\n",
    "extras = input(\"Enter extras (comma-separated, e.g., milk, sugar, flavor): \").split(\",\")\n",
    "prices = {'coffee': 5, 'tea': 4, 'chocolate': 6}\n",
    "extras_cost = 1 * len(extras)\n",
    "total = prices.get(base, 0) + extras_cost\n",
    "print(f\"Order: {base} {type_}, Extras: {', '.join(extras)}, Total: ${total}\")\n"
   ]
  },
  {
   "cell_type": "code",
   "execution_count": 22,
   "id": "7ca1a6ce",
   "metadata": {},
   "outputs": [
    {
     "name": "stdout",
     "output_type": "stream",
     "text": [
      "Invalid combination\n"
     ]
    }
   ],
   "source": [
    "# 18. Color Mixer\n",
    "color1 = input(\"Enter first primary color (red, blue, yellow): \").lower()\n",
    "color2 = input(\"Enter second primary color (red, blue, yellow): \").lower()\n",
    "colors = {('red', 'blue'): 'purple', ('red', 'yellow'): 'orange', ('blue', 'yellow'): 'green'}\n",
    "print(colors.get(tuple(sorted([color1, color2])), \"Invalid combination\"))\n"
   ]
  },
  {
   "cell_type": "code",
   "execution_count": 23,
   "id": "3e7b638b",
   "metadata": {},
   "outputs": [
    {
     "name": "stdout",
     "output_type": "stream",
     "text": [
      "Too low\n",
      "Too low\n",
      "Too high\n",
      "Too low\n",
      "Too low\n",
      "Too low\n",
      "Too low\n"
     ]
    },
    {
     "ename": "ValueError",
     "evalue": "invalid literal for int() with base 10: ''",
     "output_type": "error",
     "traceback": [
      "\u001b[1;31m---------------------------------------------------------------------------\u001b[0m",
      "\u001b[1;31mValueError\u001b[0m                                Traceback (most recent call last)",
      "Cell \u001b[1;32mIn[23], line 5\u001b[0m\n\u001b[0;32m      3\u001b[0m guess \u001b[38;5;241m=\u001b[39m \u001b[38;5;28;01mNone\u001b[39;00m\n\u001b[0;32m      4\u001b[0m \u001b[38;5;28;01mwhile\u001b[39;00m guess \u001b[38;5;241m!=\u001b[39m number:\n\u001b[1;32m----> 5\u001b[0m     guess \u001b[38;5;241m=\u001b[39m \u001b[38;5;28;43mint\u001b[39;49m\u001b[43m(\u001b[49m\u001b[38;5;28;43minput\u001b[39;49m\u001b[43m(\u001b[49m\u001b[38;5;124;43m\"\u001b[39;49m\u001b[38;5;124;43mGuess the number between 1 and 100: \u001b[39;49m\u001b[38;5;124;43m\"\u001b[39;49m\u001b[43m)\u001b[49m\u001b[43m)\u001b[49m\n\u001b[0;32m      6\u001b[0m     \u001b[38;5;28mprint\u001b[39m(\u001b[38;5;124m\"\u001b[39m\u001b[38;5;124mToo high\u001b[39m\u001b[38;5;124m\"\u001b[39m \u001b[38;5;28;01mif\u001b[39;00m guess \u001b[38;5;241m>\u001b[39m number \u001b[38;5;28;01melse\u001b[39;00m \u001b[38;5;124m\"\u001b[39m\u001b[38;5;124mToo low\u001b[39m\u001b[38;5;124m\"\u001b[39m \u001b[38;5;28;01mif\u001b[39;00m guess \u001b[38;5;241m<\u001b[39m number \u001b[38;5;28;01melse\u001b[39;00m \u001b[38;5;124m\"\u001b[39m\u001b[38;5;124mCorrect!\u001b[39m\u001b[38;5;124m\"\u001b[39m)\n",
      "\u001b[1;31mValueError\u001b[0m: invalid literal for int() with base 10: ''"
     ]
    }
   ],
   "source": [
    "# 19. Number Guessing Game with Hints\n",
    "number = random.randint(1, 100)\n",
    "guess = None\n",
    "while guess != number:\n",
    "    guess = int(input(\"Guess the number between 1 and 100: \"))\n",
    "    print(\"Too high\" if guess > number else \"Too low\" if guess < number else \"Correct!\")"
   ]
  },
  {
   "cell_type": "code",
   "execution_count": 26,
   "id": "92aa9d03",
   "metadata": {},
   "outputs": [
    {
     "name": "stdout",
     "output_type": "stream",
     "text": [
      "Shipping cost: $11.0\n"
     ]
    }
   ],
   "source": [
    "# 20. Shipping Cost Calculator\n",
    "weight = float(input(\"Enter package weight: \"))\n",
    "destination = input(\"Enter destination (domestic/international): \").lower()\n",
    "speed = input(\"Enter shipping speed (standard/express/overnight): \").lower()\n",
    "base_cost = 5 if destination == 'domestic' else 15\n",
    "weight_cost = 2 * weight\n",
    "speed_cost = 10 if speed == 'overnight' else 5 if speed == 'express' else 2\n",
    "total_cost = base_cost + weight_cost + speed_cost\n",
    "print(f\"Shipping cost: ${total_cost}\")\n"
   ]
  },
  {
   "cell_type": "code",
   "execution_count": 27,
   "id": "a1678e1a",
   "metadata": {},
   "outputs": [
    {
     "name": "stdout",
     "output_type": "stream",
     "text": [
      "Valid Date\n"
     ]
    }
   ],
   "source": [
    "# 21. Date Validator\n",
    "day = int(input(\"Enter day: \"))\n",
    "month = int(input(\"Enter month: \"))\n",
    "year = int(input(\"Enter year: \"))\n",
    "try:\n",
    "    datetime(year, month, day)\n",
    "    print(\"Valid Date\")\n",
    "except ValueError:\n",
    "    print(\"Invalid Date\")\n"
   ]
  },
  {
   "cell_type": "code",
   "execution_count": 28,
   "id": "ef28a773",
   "metadata": {},
   "outputs": [
    {
     "name": "stdout",
     "output_type": "stream",
     "text": [
      "Ticket price: $200\n"
     ]
    }
   ],
   "source": [
    "# 22. Flight Booking System\n",
    "age = int(input(\"Enter age: \"))\n",
    "membership = input(\"Enter membership type (standard/premium): \").lower()\n",
    "available_seats = int(input(\"Enter available seats: \"))\n",
    "discount = 0.1 if age < 18 or membership == 'premium' else 0\n",
    "price = 200 - (200 * discount)\n",
    "print(f\"Ticket price: ${price}\" if available_seats > 0 else \"No seats available\")\n"
   ]
  },
  {
   "cell_type": "code",
   "execution_count": 29,
   "id": "dae955fc",
   "metadata": {},
   "outputs": [
    {
     "name": "stdout",
     "output_type": "stream",
     "text": [
      "Gas\n"
     ]
    }
   ],
   "source": [
    "# 23. Water State Determiner\n",
    "temp = float(input(\"Enter temperature in Celsius: \"))\n",
    "pressure = float(input(\"Enter pressure in atm: \"))\n",
    "if temp <= 0:\n",
    "    print(\"Solid\")\n",
    "elif 0 < temp < 100:\n",
    "    print(\"Liquid\")\n",
    "else:\n",
    "    print(\"Gas\")"
   ]
  },
  {
   "cell_type": "code",
   "execution_count": 30,
   "id": "1dd3b190",
   "metadata": {},
   "outputs": [
    {
     "name": "stdout",
     "output_type": "stream",
     "text": [
      "Invalid length\n"
     ]
    }
   ],
   "source": [
    "# 24. Credit Card Validator\n",
    "card_number = input(\"Enter credit card number: \")\n",
    "if not card_number.isdigit() or len(card_number) not in [13, 16]:\n",
    "    print(\"Invalid length\")\n",
    "elif not (card_number.startswith('4') or card_number.startswith('5')):\n",
    "    print(\"Invalid start digit\")\n",
    "else:\n",
    "    digits = [int(d) for d in card_number]\n",
    "    checksum = sum(digits[-1::-2]) + sum(sum(divmod(2 * d, 10)) for d in digits[-2::-2])\n",
    "    print(\"Valid card\" if checksum % 10 == 0 else \"Invalid card\")\n"
   ]
  },
  {
   "cell_type": "code",
   "execution_count": 31,
   "id": "3fa950ff",
   "metadata": {},
   "outputs": [
    {
     "name": "stdout",
     "output_type": "stream",
     "text": [
      "1. Option 1\n",
      "2. Option 2\n",
      "3. Option 3\n",
      "Option 1 Selected\n"
     ]
    }
   ],
   "source": [
    "# 25. Match-Case Menu System (Python 3.10+)\n",
    "print(\"1. Option 1\\n2. Option 2\\n3. Option 3\")\n",
    "choice = int(input(\"Enter your choice: \"))\n",
    "match choice:\n",
    "    case 1:\n",
    "        print(\"Option 1 Selected\")\n",
    "    case 2:\n",
    "        print(\"Option 2 Selected\")\n",
    "    case 3:\n",
    "        print(\"Option 3 Selected\")\n",
    "    case _:\n",
    "        print(\"Invalid option\")"
   ]
  },
  {
   "cell_type": "markdown",
   "id": "d20f79ab",
   "metadata": {},
   "source": [
    "<center> <h2 style= \"color:orange\"> Advanced Lavel </h2> </center>\n",
    "\n",
    "26. Employee Payroll System \\\n",
    "Create a program that calculates an employee's paycheck based on: \n",
    "    #text\n",
    "    Hours worked (regular and overtime) \n",
    "    Position (determines hourly rate) \n",
    "    Performance rating (determines bonus) \n",
    "    Tax withholding based on income brackets Use nested conditions and the ternary operator for efficiency.\n",
    "    #\n",
    "\n",
    "27. Loan Approval System \\\n",
    "Implement a loan approval system that decides whether to approve a loan based on: \n",
    "    #text\n",
    "    Credit score \n",
    "    Income \n",
    "    Requested loan amount \n",
    "    Current debt \n",
    "    Employment history Use nested conditions with multiple factors. \n",
    "    #\n",
    "\n",
    "28. Weather Advisory System \\\n",
    "Create a program that issues weather advisories based on: \n",
    "    #text\n",
    "    Temperature (high/low) \n",
    "    Precipitation type and amount \n",
    "    Wind speed \n",
    "    Visibility Use nested conditions to determine the type and severity of advisories. \n",
    "    #\n",
    "\n",
    "29. Restaurant Table Reservation \\\n",
    "Implement a restaurant reservation system that uses match-case (Python 3.10+) to handle different reservation scenarios: \n",
    "    #text\n",
    "    New reservation \n",
    "    Modify existing reservation \n",
    "    Cancel reservation \n",
    "    Check availability For each case, implement specific logic with nested conditions. \n",
    "    #\n",
    "\n",
    "30. Smart Home Control System \\\n",
    "Create a smart home control system simulator that uses if-elif-else chains and match-case to: \n",
    "    #text\n",
    "    Adjust lighting based on time of day and occupancy \n",
    "    Control temperature based on weather and preferences \n",
    "    Manage security systems based on occupancy status \n",
    "    Handle voice commands with pattern matching\n",
    "    #"
   ]
  },
  {
   "cell_type": "code",
   "execution_count": 32,
   "id": "1f590ad0",
   "metadata": {},
   "outputs": [
    {
     "name": "stdout",
     "output_type": "stream",
     "text": [
      "Net Pay: 940.5\n"
     ]
    }
   ],
   "source": [
    "# 26. Employee Payroll System\n",
    "\n",
    "def calculate_paycheck(hours_worked, hourly_rate, overtime_hours, performance_rating):\n",
    "    overtime_rate = hourly_rate * 1.5\n",
    "    base_pay = (hours_worked * hourly_rate) + (overtime_hours * overtime_rate)\n",
    "\n",
    "    bonus = 0.1 * base_pay if performance_rating >= 4 else 0.05 * base_pay if performance_rating >= 3 else 0\n",
    "    taxable_income = base_pay + bonus\n",
    "\n",
    "    tax = (\n",
    "        taxable_income * 0.1 if taxable_income <= 10000 else\n",
    "        taxable_income * 0.2 if taxable_income <= 50000 else\n",
    "        taxable_income * 0.3 if taxable_income <= 100000 else\n",
    "        taxable_income * 0.4\n",
    "    )\n",
    "\n",
    "    net_pay = taxable_income - tax\n",
    "    return round(net_pay, 2)\n",
    "\n",
    "\n",
    "print(\"Net Pay:\", calculate_paycheck(40, 20, 5, 4))\n"
   ]
  },
  {
   "cell_type": "code",
   "execution_count": 33,
   "id": "33ba2906",
   "metadata": {},
   "outputs": [
    {
     "name": "stdout",
     "output_type": "stream",
     "text": [
      "Loan Approved\n"
     ]
    }
   ],
   "source": [
    "# 27. Loan Approval System\n",
    "\n",
    "def approve_loan(credit_score, income, loan_amount, debt, employment_years):\n",
    "    if credit_score < 600:\n",
    "        return \"Loan Denied: Low Credit Score\"\n",
    "    elif debt / income > 0.4:\n",
    "        return \"Loan Denied: High Debt-to-Income Ratio\"\n",
    "    elif employment_years < 2:\n",
    "        return \"Loan Denied: Insufficient Employment History\"\n",
    "    elif loan_amount > income * 5:\n",
    "        return \"Loan Denied: Excessive Loan Request\"\n",
    "    else:\n",
    "        return \"Loan Approved\"\n",
    "\n",
    "print(approve_loan(700, 50000, 200000, 10000, 5))\n"
   ]
  },
  {
   "cell_type": "code",
   "execution_count": 34,
   "id": "c3e7eb57",
   "metadata": {},
   "outputs": [
    {
     "name": "stdout",
     "output_type": "stream",
     "text": [
      "Normal temperature conditions. Moderate precipitation in the forecast. Breezy conditions expected. Low visibility, drive carefully.\n"
     ]
    }
   ],
   "source": [
    "# 28. Weather Advisory System\n",
    "\n",
    "def weather_advisory(temp, precipitation, wind_speed, visibility):\n",
    "    if temp < 0:\n",
    "        advisory = \"Freezing temperatures, dress warmly!\"\n",
    "    elif temp > 35:\n",
    "        advisory = \"Heat warning, stay hydrated!\"\n",
    "    else:\n",
    "        advisory = \"Normal temperature conditions.\"\n",
    "\n",
    "    if precipitation > 50:\n",
    "        advisory += \" Heavy rain or snow expected.\"\n",
    "    elif precipitation > 20:\n",
    "        advisory += \" Moderate precipitation in the forecast.\"\n",
    "\n",
    "    if wind_speed > 50:\n",
    "        advisory += \" Severe wind conditions, caution advised.\"\n",
    "    elif wind_speed > 20:\n",
    "        advisory += \" Breezy conditions expected.\"\n",
    "\n",
    "    if visibility < 100:\n",
    "        advisory += \" Low visibility, drive carefully.\"\n",
    "\n",
    "    return advisory\n",
    "\n",
    "print(weather_advisory(10, 30, 25, 80))"
   ]
  },
  {
   "cell_type": "code",
   "execution_count": 35,
   "id": "332627a6",
   "metadata": {},
   "outputs": [
    {
     "name": "stdout",
     "output_type": "stream",
     "text": [
      "Invalid option\n"
     ]
    }
   ],
   "source": [
    "# 29. Restaurant Table Reservation (Using match-case, Python 3.10+)\n",
    "\n",
    "def restaurant_reservation(action):\n",
    "    match action.lower():\n",
    "        case \"new reservation\":\n",
    "            print(\"Creating a new reservation...\")\n",
    "            # Logic for booking\n",
    "        case \"modify\":\n",
    "            print(\"Modifying existing reservation...\")\n",
    "            # Logic for modification\n",
    "        case \"cancel\":\n",
    "            print(\"Cancelling reservation...\")\n",
    "            # Logic for cancellation\n",
    "        case \"check availability\":\n",
    "            print(\"Checking table availability...\")\n",
    "            # Logic for checking availability\n",
    "        case _:\n",
    "            print(\"Invalid option\")\n",
    "\n",
    "restaurant_reservation(input(\"Enter reservation action: \"))\n"
   ]
  },
  {
   "cell_type": "code",
   "execution_count": null,
   "id": "eaa75ac1",
   "metadata": {},
   "outputs": [
    {
     "name": "stdout",
     "output_type": "stream",
     "text": [
      "Invalid option\n"
     ]
    }
   ],
   "source": [
    "# 30. Smart Home Control System\n",
    "\n",
    "def smart_home_control(command):\n",
    "    match command.lower():\n",
    "        case \"adjust lighting\":\n",
    "            time_of_day = input(\"Is it day or night? \").lower()\n",
    "            occupancy = input(\"Is the room occupied? (yes/no) \").lower()\n",
    "            if occupancy == \"yes\":\n",
    "                print(\"Lights ON\")\n",
    "            else:\n",
    "                print(\"Lights OFF\")\n",
    "        case \"control temperature\":\n",
    "            weather = input(\"Enter weather (hot/cold): \").lower()\n",
    "            preference = input(\"Preferred temperature (high/low): \").lower()\n",
    "            print(f\"Setting temperature to {'cool' if weather == 'hot' else 'warm'} and adjusting to {preference}.\")\n",
    "        case \"security system\":\n",
    "            occupancy_status = input(\"Is the house occupied? (yes/no) \").lower()\n",
    "            print(\"Activating security system.\" if occupancy_status == \"no\" else \"Deactivating security system.\")\n",
    "        case \"voice command\":\n",
    "            phrase = input(\"Enter your voice command: \")\n",
    "            print(f\"Executing command: {phrase}\")\n",
    "        case _:\n",
    "            print(\"Invalid option\")\n",
    "\n",
    "smart_home_control(input(\"Enter system command: \"))\n"
   ]
  },
  {
   "cell_type": "code",
   "execution_count": null,
   "id": "6abda926",
   "metadata": {},
   "outputs": [],
   "source": []
  }
 ],
 "metadata": {
  "kernelspec": {
   "display_name": "Python 3",
   "language": "python",
   "name": "python3"
  },
  "language_info": {
   "codemirror_mode": {
    "name": "ipython",
    "version": 3
   },
   "file_extension": ".py",
   "mimetype": "text/x-python",
   "name": "python",
   "nbconvert_exporter": "python",
   "pygments_lexer": "ipython3",
   "version": "3.10.0"
  }
 },
 "nbformat": 4,
 "nbformat_minor": 5
}
